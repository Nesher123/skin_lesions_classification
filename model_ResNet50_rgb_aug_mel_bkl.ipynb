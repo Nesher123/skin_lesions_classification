{
 "cells": [
  {
   "cell_type": "markdown",
   "metadata": {
    "collapsed": false,
    "id": "wmu519HJniYx"
   },
   "source": [
    "# Fine-tuning an image classification model on a skin lesions dataset\n",
    "[tutorial1](https://keras.io/guides/transfer_learning), [tutorial2](https://neptune.ai/blog/transfer-learning-guide-examples-for-images-and-text-in-keras)\n",
    "\n",
    "A concrete end-to-end transfer learning example. We will load a SOTA model, pre-trained on ImageNet, and use it on the skin lesions classification dataset.\n",
    "\n",
    "<br>\n",
    "\n",
    "<center><img src=\"images/Diagram of the methods developed for skin lesion images classification.png\", alt=\"Ensemble\"/></center>"
   ]
  },
  {
   "cell_type": "code",
   "execution_count": 1,
   "metadata": {
    "colab": {
     "base_uri": "https://localhost:8080/"
    },
    "id": "HRmB5ZOzRyJD",
    "outputId": "7c6c9b87-b102-4090-f4bc-33505bd7455d",
    "ExecuteTime": {
     "end_time": "2023-05-26T10:34:04.188322700Z",
     "start_time": "2023-05-26T10:34:02.599968700Z"
    }
   },
   "outputs": [
    {
     "name": "stderr",
     "output_type": "stream",
     "text": [
      "'nvidia-smi' is not recognized as an internal or external command,\n",
      "operable program or batch file.\n"
     ]
    }
   ],
   "source": [
    "!nvidia-smi"
   ]
  },
  {
   "cell_type": "code",
   "execution_count": 2,
   "metadata": {
    "id": "FDxy8fhQniYz",
    "ExecuteTime": {
     "end_time": "2023-05-26T10:34:04.188322700Z",
     "start_time": "2023-05-26T10:34:04.188322700Z"
    }
   },
   "outputs": [],
   "source": [
    "config = {\n",
    "    \"model_name\": \"ResNet50\",  # ResNet50, Xception, InceptionResNetV2, VGG19\n",
    "    \"color_mode\": \"rgb\",  # rgb, grayscale,\n",
    "    \"train_model\": False,\n",
    "    \"to_unzip\": True,\n",
    "    \"with_augmentations\": True,\n",
    "    \"localization\": \"\",  # \"\", \"back\", \"abdomen\", \"lower extremity\", \"upper extremity\"\n",
    "    \"labels\": [\"mel\", \"bkl\"],\n",
    "}"
   ]
  },
  {
   "cell_type": "code",
   "execution_count": 3,
   "metadata": {
    "colab": {
     "base_uri": "https://localhost:8080/"
    },
    "id": "SZn8t3ctRkwd",
    "outputId": "f35a87b6-7390-4851-b119-b639f1c29c9e",
    "ExecuteTime": {
     "end_time": "2023-05-26T10:34:04.217898700Z",
     "start_time": "2023-05-26T10:34:04.188322700Z"
    }
   },
   "outputs": [
    {
     "name": "stdout",
     "output_type": "stream",
     "text": [
      "Not running on COLAB\n"
     ]
    }
   ],
   "source": [
    "def connect_to_resources():\n",
    "    try:\n",
    "        from google.colab import drive, files\n",
    "\n",
    "        drive.mount('/content/drive')\n",
    "        print('Running on COLAB')\n",
    "        return '/content/drive/MyDrive/final_project'\n",
    "    except ModuleNotFoundError:\n",
    "        print('Not running on COLAB')\n",
    "        return ''\n",
    "\n",
    "\n",
    "ROOT = connect_to_resources()"
   ]
  },
  {
   "cell_type": "code",
   "execution_count": 4,
   "metadata": {
    "collapsed": true,
    "id": "M4eZ20nWRkwh",
    "ExecuteTime": {
     "end_time": "2023-05-26T10:34:16.718908200Z",
     "start_time": "2023-05-26T10:34:04.197760500Z"
    }
   },
   "outputs": [],
   "source": [
    "# Built-in modules\n",
    "import os\n",
    "import shutil\n",
    "from pathlib import Path\n",
    "import itertools\n",
    "from zipfile import ZipFile\n",
    "from typing import List\n",
    "\n",
    "# Third-party modules\n",
    "import cv2\n",
    "import seaborn as sns\n",
    "import numpy as np\n",
    "import pandas as pd\n",
    "from tqdm import tqdm\n",
    "import matplotlib.pyplot as plt\n",
    "import matplotlib.cm as cm\n",
    "from sklearn.metrics import classification_report, confusion_matrix\n",
    "from sklearn.utils import class_weight\n",
    "import tensorflow as tf\n",
    "\n",
    "from keras.applications import *\n",
    "from keras.preprocessing.image import ImageDataGenerator\n",
    "from keras.callbacks import ReduceLROnPlateau, EarlyStopping, ModelCheckpoint, CSVLogger\n",
    "from keras.optimizers import Adam\n",
    "from keras.layers import Dense, Dropout, GlobalAveragePooling2D\n",
    "from keras.models import Model\n",
    "from keras.utils import load_img, img_to_array, array_to_img\n",
    "from keras import layers"
   ]
  },
  {
   "cell_type": "code",
   "execution_count": 5,
   "metadata": {
    "id": "RYmeKyY0Rkwh",
    "ExecuteTime": {
     "end_time": "2023-05-26T10:34:16.792721500Z",
     "start_time": "2023-05-26T10:34:16.730489900Z"
    }
   },
   "outputs": [],
   "source": [
    "IMAGE_ZIP_FILENAME = 'HAM10000.zip'\n",
    "DATA_PATH = 'data'\n",
    "METADATA_FILE_PATH = Path(ROOT, DATA_PATH, 'HAM10000_metadata.csv')\n",
    "IMAGES_DIRECTORY = Path(DATA_PATH, 'HAM10000')\n",
    "\n",
    "MODEL_NAME = f\"model_{config['model_name']}_{config['color_mode']}\" + \\\n",
    "             ('_aug' if config['with_augmentations'] else '_no_aug') + \\\n",
    "             (f\"_{config['localization']}\".replace(\" \", \"_\") if config['localization'] else '') + \\\n",
    "             (f\"_{'_'.join(config['labels'])}\" if config['labels'] else '')\n",
    "MODEL_PATH = Path(ROOT, DATA_PATH, 'models', f'{MODEL_NAME}.hdf5')\n",
    "TRAINING_FILE = Path(ROOT, DATA_PATH, 'history', f'{MODEL_NAME}_history.csv')\n",
    "PREDICTIONS_FILE = Path(ROOT, DATA_PATH, 'predictions', f'{MODEL_NAME}_predictions')\n",
    "\n",
    "BATCH_SIZE = 64\n",
    "TARGET_SIZE = (224, 224)\n",
    "SEED = 42"
   ]
  },
  {
   "cell_type": "code",
   "execution_count": 234,
   "outputs": [
    {
     "output_type": "execute_result",
     "data": {
      "text/plain": [
       "['bkl', 'mel']"
      ]
     },
     "metadata": {},
     "execution_count": 234
    }
   ],
   "source": [
    "def get_class_names(_metadata_df: pd.DataFrame) -> List[str]:\n",
    "    \"\"\"get the class names from the metadata file\"\"\"\n",
    "    return sorted(list(_metadata_df['dx'].str.lower().unique()))\n",
    "\n",
    "\n",
    "def get_metadata_df(metadata_file_path: Path) -> pd.DataFrame:\n",
    "    df = pd.read_csv(metadata_file_path)\n",
    "    lesion_types = df['dx'].unique()\n",
    "\n",
    "    if config['labels']:\n",
    "        if set(config['labels']).issubset(set(lesion_types)):\n",
    "            df = df[df['dx'].isin(config['labels'])]\n",
    "        else:\n",
    "            raise ValueError(f'Invalid labels: {config[\"labels\"]}')\n",
    "\n",
    "    if config['localization'] != '':\n",
    "        if config['localization'] in df['localization'].unique():\n",
    "            df = df[df['localization'] == config['localization']]\n",
    "\n",
    "            # check that all lesion types are present\n",
    "            remaining_lesion_types = df['dx'].unique()\n",
    "\n",
    "            if len(remaining_lesion_types) != len(lesion_types):\n",
    "                missing_lesion_types = set(lesion_types) - set(remaining_lesion_types)\n",
    "                raise ValueError(\n",
    "                    f'Missing lesion types: {missing_lesion_types}.\\nMust include all lesions types in order to run on a subset of the dataset.')\n",
    "        else:\n",
    "            raise ValueError(f'Invalid localization: {config[\"localization\"]}')\n",
    "\n",
    "    return df\n",
    "\n",
    "\n",
    "metadata_df = get_metadata_df(METADATA_FILE_PATH)\n",
    "class_names = get_class_names(metadata_df)\n",
    "class_names"
   ],
   "metadata": {
    "collapsed": false
   }
  },
  {
   "cell_type": "code",
   "execution_count": 235,
   "outputs": [
    {
     "output_type": "execute_result",
     "data": {
      "text/plain": [
       "       image_id  bkl  mel label\n",
       "0  ISIC_0027419    1    0   bkl\n",
       "1  ISIC_0025030    1    0   bkl\n",
       "2  ISIC_0026769    1    0   bkl\n",
       "3  ISIC_0025661    1    0   bkl\n",
       "4  ISIC_0031633    1    0   bkl"
      ],
      "text/html": [
       "\n",
       "  <div id=\"df-68ecafba-67b1-4bfd-aa30-700a39cfffff\">\n",
       "    <div class=\"colab-df-container\">\n",
       "      <div>\n",
       "<style scoped>\n",
       "    .dataframe tbody tr th:only-of-type {\n",
       "        vertical-align: middle;\n",
       "    }\n",
       "\n",
       "    .dataframe tbody tr th {\n",
       "        vertical-align: top;\n",
       "    }\n",
       "\n",
       "    .dataframe thead th {\n",
       "        text-align: right;\n",
       "    }\n",
       "</style>\n",
       "<table border=\"1\" class=\"dataframe\">\n",
       "  <thead>\n",
       "    <tr style=\"text-align: right;\">\n",
       "      <th></th>\n",
       "      <th>image_id</th>\n",
       "      <th>bkl</th>\n",
       "      <th>mel</th>\n",
       "      <th>label</th>\n",
       "    </tr>\n",
       "  </thead>\n",
       "  <tbody>\n",
       "    <tr>\n",
       "      <th>0</th>\n",
       "      <td>ISIC_0027419</td>\n",
       "      <td>1</td>\n",
       "      <td>0</td>\n",
       "      <td>bkl</td>\n",
       "    </tr>\n",
       "    <tr>\n",
       "      <th>1</th>\n",
       "      <td>ISIC_0025030</td>\n",
       "      <td>1</td>\n",
       "      <td>0</td>\n",
       "      <td>bkl</td>\n",
       "    </tr>\n",
       "    <tr>\n",
       "      <th>2</th>\n",
       "      <td>ISIC_0026769</td>\n",
       "      <td>1</td>\n",
       "      <td>0</td>\n",
       "      <td>bkl</td>\n",
       "    </tr>\n",
       "    <tr>\n",
       "      <th>3</th>\n",
       "      <td>ISIC_0025661</td>\n",
       "      <td>1</td>\n",
       "      <td>0</td>\n",
       "      <td>bkl</td>\n",
       "    </tr>\n",
       "    <tr>\n",
       "      <th>4</th>\n",
       "      <td>ISIC_0031633</td>\n",
       "      <td>1</td>\n",
       "      <td>0</td>\n",
       "      <td>bkl</td>\n",
       "    </tr>\n",
       "  </tbody>\n",
       "</table>\n",
       "</div>\n",
       "      <button class=\"colab-df-convert\" onclick=\"convertToInteractive('df-68ecafba-67b1-4bfd-aa30-700a39cfffff')\"\n",
       "              title=\"Convert this dataframe to an interactive table.\"\n",
       "              style=\"display:none;\">\n",
       "        \n",
       "  <svg xmlns=\"http://www.w3.org/2000/svg\" height=\"24px\"viewBox=\"0 0 24 24\"\n",
       "       width=\"24px\">\n",
       "    <path d=\"M0 0h24v24H0V0z\" fill=\"none\"/>\n",
       "    <path d=\"M18.56 5.44l.94 2.06.94-2.06 2.06-.94-2.06-.94-.94-2.06-.94 2.06-2.06.94zm-11 1L8.5 8.5l.94-2.06 2.06-.94-2.06-.94L8.5 2.5l-.94 2.06-2.06.94zm10 10l.94 2.06.94-2.06 2.06-.94-2.06-.94-.94-2.06-.94 2.06-2.06.94z\"/><path d=\"M17.41 7.96l-1.37-1.37c-.4-.4-.92-.59-1.43-.59-.52 0-1.04.2-1.43.59L10.3 9.45l-7.72 7.72c-.78.78-.78 2.05 0 2.83L4 21.41c.39.39.9.59 1.41.59.51 0 1.02-.2 1.41-.59l7.78-7.78 2.81-2.81c.8-.78.8-2.07 0-2.86zM5.41 20L4 18.59l7.72-7.72 1.47 1.35L5.41 20z\"/>\n",
       "  </svg>\n",
       "      </button>\n",
       "      \n",
       "  <style>\n",
       "    .colab-df-container {\n",
       "      display:flex;\n",
       "      flex-wrap:wrap;\n",
       "      gap: 12px;\n",
       "    }\n",
       "\n",
       "    .colab-df-convert {\n",
       "      background-color: #E8F0FE;\n",
       "      border: none;\n",
       "      border-radius: 50%;\n",
       "      cursor: pointer;\n",
       "      display: none;\n",
       "      fill: #1967D2;\n",
       "      height: 32px;\n",
       "      padding: 0 0 0 0;\n",
       "      width: 32px;\n",
       "    }\n",
       "\n",
       "    .colab-df-convert:hover {\n",
       "      background-color: #E2EBFA;\n",
       "      box-shadow: 0px 1px 2px rgba(60, 64, 67, 0.3), 0px 1px 3px 1px rgba(60, 64, 67, 0.15);\n",
       "      fill: #174EA6;\n",
       "    }\n",
       "\n",
       "    [theme=dark] .colab-df-convert {\n",
       "      background-color: #3B4455;\n",
       "      fill: #D2E3FC;\n",
       "    }\n",
       "\n",
       "    [theme=dark] .colab-df-convert:hover {\n",
       "      background-color: #434B5C;\n",
       "      box-shadow: 0px 1px 3px 1px rgba(0, 0, 0, 0.15);\n",
       "      filter: drop-shadow(0px 1px 2px rgba(0, 0, 0, 0.3));\n",
       "      fill: #FFFFFF;\n",
       "    }\n",
       "  </style>\n",
       "\n",
       "      <script>\n",
       "        const buttonEl =\n",
       "          document.querySelector('#df-68ecafba-67b1-4bfd-aa30-700a39cfffff button.colab-df-convert');\n",
       "        buttonEl.style.display =\n",
       "          google.colab.kernel.accessAllowed ? 'block' : 'none';\n",
       "\n",
       "        async function convertToInteractive(key) {\n",
       "          const element = document.querySelector('#df-68ecafba-67b1-4bfd-aa30-700a39cfffff');\n",
       "          const dataTable =\n",
       "            await google.colab.kernel.invokeFunction('convertToInteractive',\n",
       "                                                     [key], {});\n",
       "          if (!dataTable) return;\n",
       "\n",
       "          const docLinkHtml = 'Like what you see? Visit the ' +\n",
       "            '<a target=\"_blank\" href=https://colab.research.google.com/notebooks/data_table.ipynb>data table notebook</a>'\n",
       "            + ' to learn more about interactive tables.';\n",
       "          element.innerHTML = '';\n",
       "          dataTable['output_type'] = 'display_data';\n",
       "          await google.colab.output.renderOutput(dataTable, element);\n",
       "          const docLink = document.createElement('div');\n",
       "          docLink.innerHTML = docLinkHtml;\n",
       "          element.appendChild(docLink);\n",
       "        }\n",
       "      </script>\n",
       "    </div>\n",
       "  </div>\n",
       "  "
      ]
     },
     "metadata": {},
     "execution_count": 235
    }
   ],
   "source": [
    "def get_df_labels(metadata_df: pd.DataFrame, classes: List[str]) -> pd.DataFrame:\n",
    "    \"\"\"get the DataFrame with the labels for each image\"\"\"\n",
    "    # perform one-hot encoding on the 'dx' column\n",
    "    one_hot = pd.get_dummies(metadata_df['dx'])\n",
    "\n",
    "    # add the one-hot encoding to the original DataFrame and drop the 'dx' column\n",
    "    df_labels = pd.concat([metadata_df, one_hot], axis=1).drop('dx', axis=1)\n",
    "\n",
    "    df_labels['label'] = one_hot.idxmax(axis=1)\n",
    "\n",
    "    # re-arrange the columns to match the desired output\n",
    "    df_labels = df_labels[['image_id'] + classes + ['label']]\n",
    "\n",
    "    return df_labels\n",
    "\n",
    "\n",
    "df_labels = get_df_labels(metadata_df, class_names)\n",
    "df_labels.head()"
   ],
   "metadata": {
    "collapsed": false
   }
  },
  {
   "cell_type": "code",
   "execution_count": 8,
   "metadata": {
    "id": "PQpE4AVgniY3",
    "ExecuteTime": {
     "end_time": "2023-05-26T10:34:21.527680100Z",
     "start_time": "2023-05-26T10:34:21.487649300Z"
    }
   },
   "outputs": [],
   "source": [
    "class ConvertToGrayscale(layers.Layer):\n",
    "    def __init__(self):\n",
    "        super(ConvertToGrayscale, self).__init__()\n",
    "\n",
    "    def call(self, inputs):\n",
    "        grayscale = tf.image.rgb_to_grayscale(inputs)\n",
    "        return tf.concat([grayscale, grayscale, grayscale], axis=-1)\n",
    "\n",
    "\n",
    "def preprocess(classes: List[str]) -> None:\n",
    "    \"\"\"Preprocess zip file: extract and split images into their class folder\"\"\"\n",
    "    # Read the zip file and extract it\n",
    "    with ZipFile(Path(ROOT, DATA_PATH, IMAGE_ZIP_FILENAME), 'r') as z:\n",
    "        # Extracting all the files to PATH directory\n",
    "        z.extractall(DATA_PATH)\n",
    "        print('Zip file extracted')\n",
    "\n",
    "    for i in classes:\n",
    "        os.makedirs(Path(IMAGES_DIRECTORY, i), exist_ok=True)\n",
    "\n",
    "    # Split images to folders by class\n",
    "    images = os.listdir(IMAGES_DIRECTORY)\n",
    "    images = [image for image in images if image.endswith('.jpg')]\n",
    "\n",
    "    for image in tqdm(images):\n",
    "        fname = image.split('.jpg')[0]\n",
    "\n",
    "        try:\n",
    "            # check if the image is in the metadata file\n",
    "            label = df_labels.loc[df_labels['image_id'] == fname, 'label'].values[0]\n",
    "        except IndexError:\n",
    "            # if the image is not in the metadata file, delete it and continue to next one\n",
    "            os.remove(Path(IMAGES_DIRECTORY, image))\n",
    "            continue\n",
    "\n",
    "        src = str(Path(IMAGES_DIRECTORY, image))  # Convert path to string\n",
    "        dst = str(Path(IMAGES_DIRECTORY, label, image))  # Convert path to string\n",
    "\n",
    "        # Convert image to grayscale if config['color_mode'] is 'grayscale'\n",
    "        if config['color_mode'] == 'grayscale':\n",
    "            img = load_img(src, target_size=TARGET_SIZE)\n",
    "            img_array = tf.keras.preprocessing.image.img_to_array(img)\n",
    "            img_array = tf.expand_dims(img_array, 0)\n",
    "\n",
    "            # Create the grayscale conversion layer\n",
    "            grayscale_layer = ConvertToGrayscale()\n",
    "\n",
    "            # Convert the image to grayscale\n",
    "            grayscale_image = grayscale_layer(img_array)\n",
    "            grayscale_image = tf.squeeze(grayscale_image, axis=0)\n",
    "            grayscale_image = tf.cast(grayscale_image, dtype=tf.uint8)\n",
    "\n",
    "            # Save the grayscale image\n",
    "            tf.io.write_file(dst, tf.image.encode_jpeg(grayscale_image).numpy())\n",
    "        else:\n",
    "            shutil.move(src, dst)"
   ]
  },
  {
   "cell_type": "code",
   "execution_count": 9,
   "metadata": {
    "id": "VXNOc_A7RyJG",
    "colab": {
     "base_uri": "https://localhost:8080/"
    },
    "outputId": "73478eef-3dda-48f7-da8c-9ddc29c619bc",
    "ExecuteTime": {
     "end_time": "2023-05-26T10:35:23.481561600Z",
     "start_time": "2023-05-26T10:34:23.197721500Z"
    }
   },
   "outputs": [
    {
     "name": "stdout",
     "output_type": "stream",
     "text": [
      "Zip file extracted\n"
     ]
    },
    {
     "name": "stderr",
     "output_type": "stream",
     "text": [
      "100%|██████████| 10015/10015 [00:21<00:00, 466.20it/s]\n"
     ]
    }
   ],
   "source": [
    "if config['to_unzip']:\n",
    "    preprocess(class_names)\n",
    "\n",
    "# create the directories if they don't exist\n",
    "for n in ['models', 'history', 'predictions']:\n",
    "    if not os.path.exists(Path(DATA_PATH, n)):\n",
    "        os.makedirs(Path(DATA_PATH, n))"
   ]
  },
  {
   "cell_type": "code",
   "execution_count": null,
   "metadata": {
    "id": "CABKxrgXkxzS",
    "colab": {
     "base_uri": "https://localhost:8080/",
     "height": 453
    },
    "outputId": "ae086219-f7ca-47d1-b7e3-935762313b5a"
   },
   "outputs": [],
   "source": [
    "sns.countplot(x=df_labels['label'])\n",
    "plt.show()"
   ]
  },
  {
   "cell_type": "code",
   "execution_count": 239,
   "outputs": [
    {
     "output_type": "execute_result",
     "data": {
      "text/plain": [
       "{0: 1.0063694267515924, 1: 0.9937106918238994}"
      ]
     },
     "metadata": {},
     "execution_count": 239
    }
   ],
   "source": [
    "class_weights = class_weight.compute_class_weight('balanced', classes=class_names, y=df_labels['label'])\n",
    "class_wt_dict = dict(enumerate(class_weights))\n",
    "class_wt_dict"
   ],
   "metadata": {
    "collapsed": false
   }
  },
  {
   "cell_type": "markdown",
   "metadata": {
    "collapsed": false,
    "id": "9Sv6xb9OkxzT"
   },
   "source": [
    "# Using random data augmentation\n",
    "When you don't have a large image dataset, it's a good practice to artificially introduce sample diversity by applying random yet realistic transformations to the training images, such as random horizontal flipping or small random rotations. This helps expose the model to different aspects of the training data while slowing down overfitting."
   ]
  },
  {
   "cell_type": "code",
   "execution_count": 12,
   "metadata": {
    "id": "x3i8eAN8kxzT",
    "ExecuteTime": {
     "end_time": "2023-05-26T10:36:03.424833400Z",
     "start_time": "2023-05-26T10:36:03.397598700Z"
    }
   },
   "outputs": [],
   "source": [
    "def get_augmentations(with_augmentations: bool) -> dict:\n",
    "    result = {}\n",
    "\n",
    "    if with_augmentations:\n",
    "        result = {\n",
    "            'horizontal_flip': True,\n",
    "            'vertical_flip': True,\n",
    "            'rotation_range': 30,\n",
    "            'width_shift_range': 0.1,\n",
    "            'height_shift_range': 0.1,\n",
    "            'shear_range': 0.1,\n",
    "            'zoom_range': 0.2,\n",
    "            'fill_mode': 'nearest',\n",
    "        }\n",
    "    else:\n",
    "        print('no augmentations')\n",
    "\n",
    "    return result\n",
    "\n",
    "\n",
    "data_augmentation = get_augmentations(config['with_augmentations'])"
   ]
  },
  {
   "cell_type": "markdown",
   "metadata": {
    "collapsed": false,
    "id": "zB56H6bXkxzT"
   },
   "source": [
    "# Build a model"
   ]
  },
  {
   "cell_type": "code",
   "execution_count": 13,
   "metadata": {
    "id": "CviWfBtWkxzT",
    "ExecuteTime": {
     "end_time": "2023-05-26T10:36:04.710184700Z",
     "start_time": "2023-05-26T10:36:04.688101200Z"
    }
   },
   "outputs": [],
   "source": [
    "def get_model(name: str):\n",
    "    inputs = {\n",
    "        'weights': 'imagenet',  # load weights pre-trained on ImageNet\n",
    "        'include_top': False,  # do not include the ImageNet classifier at the top\n",
    "        'input_shape': TARGET_SIZE + (3,)\n",
    "    }\n",
    "\n",
    "    if name == 'ResNet50':\n",
    "        _base_model = ResNet50(**inputs)\n",
    "        _base_preprocess = tf.keras.applications.resnet50.preprocess_input\n",
    "        _last_conv_layer_name = 'conv5_block3_out'\n",
    "    elif name == 'InceptionResNetV2':\n",
    "        _base_model = InceptionResNetV2(**inputs)\n",
    "        _base_preprocess = tf.keras.applications.inception_resnet_v2.preprocess_input\n",
    "        _last_conv_layer_name = 'conv_7b_ac'\n",
    "    elif name == 'Xception':\n",
    "        _base_model = Xception(**inputs)\n",
    "        _base_preprocess = tf.keras.applications.xception.preprocess_input  # this model expects data in the range of (-1,1) and not (0,1)\n",
    "        _last_conv_layer_name = 'block14_sepconv2_act'\n",
    "    elif name == 'VGG19':\n",
    "        _base_model = VGG19(**inputs)\n",
    "        _base_preprocess = tf.keras.applications.vgg19.preprocess_input\n",
    "        _last_conv_layer_name = 'block5_conv4'\n",
    "    else:\n",
    "        raise ValueError('Invalid model name')\n",
    "\n",
    "    return _base_model, _base_preprocess, _last_conv_layer_name"
   ]
  },
  {
   "cell_type": "code",
   "execution_count": 14,
   "metadata": {
    "id": "tTDGDMKAkxzU",
    "ExecuteTime": {
     "end_time": "2023-05-26T10:36:09.006945Z",
     "start_time": "2023-05-26T10:36:05.553289300Z"
    }
   },
   "outputs": [],
   "source": [
    "base_model, base_preprocess, last_conv_layer_name = get_model(config['model_name'])\n",
    "image_gen = ImageDataGenerator(preprocessing_function=base_preprocess, validation_split=0.15, **data_augmentation)"
   ]
  },
  {
   "cell_type": "markdown",
   "metadata": {
    "collapsed": false,
    "id": "FMRqY3iQkxzU"
   },
   "source": [
    "### Train Test Split"
   ]
  },
  {
   "cell_type": "code",
   "execution_count": 243,
   "outputs": [
    {
     "output_type": "stream",
     "name": "stdout",
     "text": [
      "Found 1882 images belonging to 2 classes.\n",
      "Found 330 images belonging to 2 classes.\n",
      "{'bkl': 0, 'mel': 1}\n"
     ]
    }
   ],
   "source": [
    "flow_from_directory_args = {\n",
    "    'directory': IMAGES_DIRECTORY,\n",
    "    'target_size': TARGET_SIZE,\n",
    "    'batch_size': BATCH_SIZE,\n",
    "    'color_mode': 'rgb',\n",
    "    'class_mode': 'categorical',\n",
    "    'seed': SEED,\n",
    "}\n",
    "\n",
    "train_image_gen = image_gen.flow_from_directory(subset='training', **flow_from_directory_args)\n",
    "test_image_gen = image_gen.flow_from_directory(subset='validation', shuffle=False, **flow_from_directory_args)\n",
    "print(test_image_gen.class_indices)"
   ],
   "metadata": {
    "collapsed": false
   }
  },
  {
   "cell_type": "code",
   "execution_count": null,
   "metadata": {
    "id": "FcDb0bnxRyJH",
    "ExecuteTime": {
     "end_time": "2023-05-24T15:20:04.256508400Z",
     "start_time": "2023-05-24T15:20:04.217976100Z"
    }
   },
   "outputs": [],
   "source": [
    "# # save test_image_gen.classes to csv\n",
    "# pd.DataFrame(test_image_gen.classes).to_csv(Path(ROOT, DATA_PATH, 'test_image_gen_classes.csv'), index=False)\n",
    "#\n",
    "# # save list(test_image_gen.class_indices.keys()) as csv\n",
    "# pd.DataFrame(list(test_image_gen.class_indices.keys())).to_csv(\n",
    "#     Path(ROOT, DATA_PATH, 'test_image_gen_class_indices.csv'), index=False)"
   ]
  },
  {
   "cell_type": "code",
   "execution_count": null,
   "metadata": {
    "id": "4pKS_IhPkxzU",
    "colab": {
     "base_uri": "https://localhost:8080/",
     "height": 447
    },
    "outputId": "90d9be8b-0889-4ee2-fa3c-824c7c441b76"
   },
   "outputs": [],
   "source": [
    "sns.countplot(x=test_image_gen.classes)"
   ]
  },
  {
   "cell_type": "code",
   "execution_count": null,
   "metadata": {
    "id": "0UmQ5H4okxzV",
    "colab": {
     "base_uri": "https://localhost:8080/",
     "height": 469
    },
    "outputId": "daabc475-3b64-48ec-f54d-1ebe2a68f340"
   },
   "outputs": [],
   "source": [
    "plt.imshow(train_image_gen[0][0][0])"
   ]
  },
  {
   "cell_type": "code",
   "execution_count": 18,
   "metadata": {
    "id": "FFFU_X3SkxzV",
    "ExecuteTime": {
     "end_time": "2023-05-26T10:36:22.518119400Z",
     "start_time": "2023-05-26T10:36:22.423329500Z"
    }
   },
   "outputs": [],
   "source": [
    "for layer in base_model.layers:\n",
    "    layer.trainable = True\n",
    "\n",
    "x = base_model.output\n",
    "x = GlobalAveragePooling2D()(x)\n",
    "x = Dense(256, kernel_regularizer='l2', activation='relu')(x)\n",
    "x = Dropout(0.5)(x)\n",
    "x = Dense(len(class_names), activation='softmax')(x)\n",
    "model = Model(inputs=base_model.input, outputs=x)"
   ]
  },
  {
   "cell_type": "code",
   "execution_count": 19,
   "metadata": {
    "id": "AVZu_leykxzV",
    "colab": {
     "base_uri": "https://localhost:8080/"
    },
    "outputId": "bc2a51ec-ed3a-4b7e-a754-8d0fd56ae1d9",
    "ExecuteTime": {
     "end_time": "2023-05-26T10:36:23.583612200Z",
     "start_time": "2023-05-26T10:36:23.054966Z"
    }
   },
   "outputs": [
    {
     "name": "stdout",
     "output_type": "stream",
     "text": [
      "Model: \"model\"\n",
      "__________________________________________________________________________________________________\n",
      " Layer (type)                   Output Shape         Param #     Connected to                     \n",
      "==================================================================================================\n",
      " input_1 (InputLayer)           [(None, 224, 224, 3  0           []                               \n",
      "                                )]                                                                \n",
      "                                                                                                  \n",
      " conv1_pad (ZeroPadding2D)      (None, 230, 230, 3)  0           ['input_1[0][0]']                \n",
      "                                                                                                  \n",
      " conv1_conv (Conv2D)            (None, 112, 112, 64  9472        ['conv1_pad[0][0]']              \n",
      "                                )                                                                 \n",
      "                                                                                                  \n",
      " conv1_bn (BatchNormalization)  (None, 112, 112, 64  256         ['conv1_conv[0][0]']             \n",
      "                                )                                                                 \n",
      "                                                                                                  \n",
      " conv1_relu (Activation)        (None, 112, 112, 64  0           ['conv1_bn[0][0]']               \n",
      "                                )                                                                 \n",
      "                                                                                                  \n",
      " pool1_pad (ZeroPadding2D)      (None, 114, 114, 64  0           ['conv1_relu[0][0]']             \n",
      "                                )                                                                 \n",
      "                                                                                                  \n",
      " pool1_pool (MaxPooling2D)      (None, 56, 56, 64)   0           ['pool1_pad[0][0]']              \n",
      "                                                                                                  \n",
      " conv2_block1_1_conv (Conv2D)   (None, 56, 56, 64)   4160        ['pool1_pool[0][0]']             \n",
      "                                                                                                  \n",
      " conv2_block1_1_bn (BatchNormal  (None, 56, 56, 64)  256         ['conv2_block1_1_conv[0][0]']    \n",
      " ization)                                                                                         \n",
      "                                                                                                  \n",
      " conv2_block1_1_relu (Activatio  (None, 56, 56, 64)  0           ['conv2_block1_1_bn[0][0]']      \n",
      " n)                                                                                               \n",
      "                                                                                                  \n",
      " conv2_block1_2_conv (Conv2D)   (None, 56, 56, 64)   36928       ['conv2_block1_1_relu[0][0]']    \n",
      "                                                                                                  \n",
      " conv2_block1_2_bn (BatchNormal  (None, 56, 56, 64)  256         ['conv2_block1_2_conv[0][0]']    \n",
      " ization)                                                                                         \n",
      "                                                                                                  \n",
      " conv2_block1_2_relu (Activatio  (None, 56, 56, 64)  0           ['conv2_block1_2_bn[0][0]']      \n",
      " n)                                                                                               \n",
      "                                                                                                  \n",
      " conv2_block1_0_conv (Conv2D)   (None, 56, 56, 256)  16640       ['pool1_pool[0][0]']             \n",
      "                                                                                                  \n",
      " conv2_block1_3_conv (Conv2D)   (None, 56, 56, 256)  16640       ['conv2_block1_2_relu[0][0]']    \n",
      "                                                                                                  \n",
      " conv2_block1_0_bn (BatchNormal  (None, 56, 56, 256)  1024       ['conv2_block1_0_conv[0][0]']    \n",
      " ization)                                                                                         \n",
      "                                                                                                  \n",
      " conv2_block1_3_bn (BatchNormal  (None, 56, 56, 256)  1024       ['conv2_block1_3_conv[0][0]']    \n",
      " ization)                                                                                         \n",
      "                                                                                                  \n",
      " conv2_block1_add (Add)         (None, 56, 56, 256)  0           ['conv2_block1_0_bn[0][0]',      \n",
      "                                                                  'conv2_block1_3_bn[0][0]']      \n",
      "                                                                                                  \n",
      " conv2_block1_out (Activation)  (None, 56, 56, 256)  0           ['conv2_block1_add[0][0]']       \n",
      "                                                                                                  \n",
      " conv2_block2_1_conv (Conv2D)   (None, 56, 56, 64)   16448       ['conv2_block1_out[0][0]']       \n",
      "                                                                                                  \n",
      " conv2_block2_1_bn (BatchNormal  (None, 56, 56, 64)  256         ['conv2_block2_1_conv[0][0]']    \n",
      " ization)                                                                                         \n",
      "                                                                                                  \n",
      " conv2_block2_1_relu (Activatio  (None, 56, 56, 64)  0           ['conv2_block2_1_bn[0][0]']      \n",
      " n)                                                                                               \n",
      "                                                                                                  \n",
      " conv2_block2_2_conv (Conv2D)   (None, 56, 56, 64)   36928       ['conv2_block2_1_relu[0][0]']    \n",
      "                                                                                                  \n",
      " conv2_block2_2_bn (BatchNormal  (None, 56, 56, 64)  256         ['conv2_block2_2_conv[0][0]']    \n",
      " ization)                                                                                         \n",
      "                                                                                                  \n",
      " conv2_block2_2_relu (Activatio  (None, 56, 56, 64)  0           ['conv2_block2_2_bn[0][0]']      \n",
      " n)                                                                                               \n",
      "                                                                                                  \n",
      " conv2_block2_3_conv (Conv2D)   (None, 56, 56, 256)  16640       ['conv2_block2_2_relu[0][0]']    \n",
      "                                                                                                  \n",
      " conv2_block2_3_bn (BatchNormal  (None, 56, 56, 256)  1024       ['conv2_block2_3_conv[0][0]']    \n",
      " ization)                                                                                         \n",
      "                                                                                                  \n",
      " conv2_block2_add (Add)         (None, 56, 56, 256)  0           ['conv2_block1_out[0][0]',       \n",
      "                                                                  'conv2_block2_3_bn[0][0]']      \n",
      "                                                                                                  \n",
      " conv2_block2_out (Activation)  (None, 56, 56, 256)  0           ['conv2_block2_add[0][0]']       \n",
      "                                                                                                  \n",
      " conv2_block3_1_conv (Conv2D)   (None, 56, 56, 64)   16448       ['conv2_block2_out[0][0]']       \n",
      "                                                                                                  \n",
      " conv2_block3_1_bn (BatchNormal  (None, 56, 56, 64)  256         ['conv2_block3_1_conv[0][0]']    \n",
      " ization)                                                                                         \n",
      "                                                                                                  \n",
      " conv2_block3_1_relu (Activatio  (None, 56, 56, 64)  0           ['conv2_block3_1_bn[0][0]']      \n",
      " n)                                                                                               \n",
      "                                                                                                  \n",
      " conv2_block3_2_conv (Conv2D)   (None, 56, 56, 64)   36928       ['conv2_block3_1_relu[0][0]']    \n",
      "                                                                                                  \n",
      " conv2_block3_2_bn (BatchNormal  (None, 56, 56, 64)  256         ['conv2_block3_2_conv[0][0]']    \n",
      " ization)                                                                                         \n",
      "                                                                                                  \n",
      " conv2_block3_2_relu (Activatio  (None, 56, 56, 64)  0           ['conv2_block3_2_bn[0][0]']      \n",
      " n)                                                                                               \n",
      "                                                                                                  \n",
      " conv2_block3_3_conv (Conv2D)   (None, 56, 56, 256)  16640       ['conv2_block3_2_relu[0][0]']    \n",
      "                                                                                                  \n",
      " conv2_block3_3_bn (BatchNormal  (None, 56, 56, 256)  1024       ['conv2_block3_3_conv[0][0]']    \n",
      " ization)                                                                                         \n",
      "                                                                                                  \n",
      " conv2_block3_add (Add)         (None, 56, 56, 256)  0           ['conv2_block2_out[0][0]',       \n",
      "                                                                  'conv2_block3_3_bn[0][0]']      \n",
      "                                                                                                  \n",
      " conv2_block3_out (Activation)  (None, 56, 56, 256)  0           ['conv2_block3_add[0][0]']       \n",
      "                                                                                                  \n",
      " conv3_block1_1_conv (Conv2D)   (None, 28, 28, 128)  32896       ['conv2_block3_out[0][0]']       \n",
      "                                                                                                  \n",
      " conv3_block1_1_bn (BatchNormal  (None, 28, 28, 128)  512        ['conv3_block1_1_conv[0][0]']    \n",
      " ization)                                                                                         \n",
      "                                                                                                  \n",
      " conv3_block1_1_relu (Activatio  (None, 28, 28, 128)  0          ['conv3_block1_1_bn[0][0]']      \n",
      " n)                                                                                               \n",
      "                                                                                                  \n",
      " conv3_block1_2_conv (Conv2D)   (None, 28, 28, 128)  147584      ['conv3_block1_1_relu[0][0]']    \n",
      "                                                                                                  \n",
      " conv3_block1_2_bn (BatchNormal  (None, 28, 28, 128)  512        ['conv3_block1_2_conv[0][0]']    \n",
      " ization)                                                                                         \n",
      "                                                                                                  \n",
      " conv3_block1_2_relu (Activatio  (None, 28, 28, 128)  0          ['conv3_block1_2_bn[0][0]']      \n",
      " n)                                                                                               \n",
      "                                                                                                  \n",
      " conv3_block1_0_conv (Conv2D)   (None, 28, 28, 512)  131584      ['conv2_block3_out[0][0]']       \n",
      "                                                                                                  \n",
      " conv3_block1_3_conv (Conv2D)   (None, 28, 28, 512)  66048       ['conv3_block1_2_relu[0][0]']    \n",
      "                                                                                                  \n",
      " conv3_block1_0_bn (BatchNormal  (None, 28, 28, 512)  2048       ['conv3_block1_0_conv[0][0]']    \n",
      " ization)                                                                                         \n",
      "                                                                                                  \n",
      " conv3_block1_3_bn (BatchNormal  (None, 28, 28, 512)  2048       ['conv3_block1_3_conv[0][0]']    \n",
      " ization)                                                                                         \n",
      "                                                                                                  \n",
      " conv3_block1_add (Add)         (None, 28, 28, 512)  0           ['conv3_block1_0_bn[0][0]',      \n",
      "                                                                  'conv3_block1_3_bn[0][0]']      \n",
      "                                                                                                  \n",
      " conv3_block1_out (Activation)  (None, 28, 28, 512)  0           ['conv3_block1_add[0][0]']       \n",
      "                                                                                                  \n",
      " conv3_block2_1_conv (Conv2D)   (None, 28, 28, 128)  65664       ['conv3_block1_out[0][0]']       \n",
      "                                                                                                  \n",
      " conv3_block2_1_bn (BatchNormal  (None, 28, 28, 128)  512        ['conv3_block2_1_conv[0][0]']    \n",
      " ization)                                                                                         \n",
      "                                                                                                  \n",
      " conv3_block2_1_relu (Activatio  (None, 28, 28, 128)  0          ['conv3_block2_1_bn[0][0]']      \n",
      " n)                                                                                               \n",
      "                                                                                                  \n",
      " conv3_block2_2_conv (Conv2D)   (None, 28, 28, 128)  147584      ['conv3_block2_1_relu[0][0]']    \n",
      "                                                                                                  \n",
      " conv3_block2_2_bn (BatchNormal  (None, 28, 28, 128)  512        ['conv3_block2_2_conv[0][0]']    \n",
      " ization)                                                                                         \n",
      "                                                                                                  \n",
      " conv3_block2_2_relu (Activatio  (None, 28, 28, 128)  0          ['conv3_block2_2_bn[0][0]']      \n",
      " n)                                                                                               \n",
      "                                                                                                  \n",
      " conv3_block2_3_conv (Conv2D)   (None, 28, 28, 512)  66048       ['conv3_block2_2_relu[0][0]']    \n",
      "                                                                                                  \n",
      " conv3_block2_3_bn (BatchNormal  (None, 28, 28, 512)  2048       ['conv3_block2_3_conv[0][0]']    \n",
      " ization)                                                                                         \n",
      "                                                                                                  \n",
      " conv3_block2_add (Add)         (None, 28, 28, 512)  0           ['conv3_block1_out[0][0]',       \n",
      "                                                                  'conv3_block2_3_bn[0][0]']      \n",
      "                                                                                                  \n",
      " conv3_block2_out (Activation)  (None, 28, 28, 512)  0           ['conv3_block2_add[0][0]']       \n",
      "                                                                                                  \n",
      " conv3_block3_1_conv (Conv2D)   (None, 28, 28, 128)  65664       ['conv3_block2_out[0][0]']       \n",
      "                                                                                                  \n",
      " conv3_block3_1_bn (BatchNormal  (None, 28, 28, 128)  512        ['conv3_block3_1_conv[0][0]']    \n",
      " ization)                                                                                         \n",
      "                                                                                                  \n",
      " conv3_block3_1_relu (Activatio  (None, 28, 28, 128)  0          ['conv3_block3_1_bn[0][0]']      \n",
      " n)                                                                                               \n",
      "                                                                                                  \n",
      " conv3_block3_2_conv (Conv2D)   (None, 28, 28, 128)  147584      ['conv3_block3_1_relu[0][0]']    \n",
      "                                                                                                  \n",
      " conv3_block3_2_bn (BatchNormal  (None, 28, 28, 128)  512        ['conv3_block3_2_conv[0][0]']    \n",
      " ization)                                                                                         \n",
      "                                                                                                  \n",
      " conv3_block3_2_relu (Activatio  (None, 28, 28, 128)  0          ['conv3_block3_2_bn[0][0]']      \n",
      " n)                                                                                               \n",
      "                                                                                                  \n",
      " conv3_block3_3_conv (Conv2D)   (None, 28, 28, 512)  66048       ['conv3_block3_2_relu[0][0]']    \n",
      "                                                                                                  \n",
      " conv3_block3_3_bn (BatchNormal  (None, 28, 28, 512)  2048       ['conv3_block3_3_conv[0][0]']    \n",
      " ization)                                                                                         \n",
      "                                                                                                  \n",
      " conv3_block3_add (Add)         (None, 28, 28, 512)  0           ['conv3_block2_out[0][0]',       \n",
      "                                                                  'conv3_block3_3_bn[0][0]']      \n",
      "                                                                                                  \n",
      " conv3_block3_out (Activation)  (None, 28, 28, 512)  0           ['conv3_block3_add[0][0]']       \n",
      "                                                                                                  \n",
      " conv3_block4_1_conv (Conv2D)   (None, 28, 28, 128)  65664       ['conv3_block3_out[0][0]']       \n",
      "                                                                                                  \n",
      " conv3_block4_1_bn (BatchNormal  (None, 28, 28, 128)  512        ['conv3_block4_1_conv[0][0]']    \n",
      " ization)                                                                                         \n",
      "                                                                                                  \n",
      " conv3_block4_1_relu (Activatio  (None, 28, 28, 128)  0          ['conv3_block4_1_bn[0][0]']      \n",
      " n)                                                                                               \n",
      "                                                                                                  \n",
      " conv3_block4_2_conv (Conv2D)   (None, 28, 28, 128)  147584      ['conv3_block4_1_relu[0][0]']    \n",
      "                                                                                                  \n",
      " conv3_block4_2_bn (BatchNormal  (None, 28, 28, 128)  512        ['conv3_block4_2_conv[0][0]']    \n",
      " ization)                                                                                         \n",
      "                                                                                                  \n",
      " conv3_block4_2_relu (Activatio  (None, 28, 28, 128)  0          ['conv3_block4_2_bn[0][0]']      \n",
      " n)                                                                                               \n",
      "                                                                                                  \n",
      " conv3_block4_3_conv (Conv2D)   (None, 28, 28, 512)  66048       ['conv3_block4_2_relu[0][0]']    \n",
      "                                                                                                  \n",
      " conv3_block4_3_bn (BatchNormal  (None, 28, 28, 512)  2048       ['conv3_block4_3_conv[0][0]']    \n",
      " ization)                                                                                         \n",
      "                                                                                                  \n",
      " conv3_block4_add (Add)         (None, 28, 28, 512)  0           ['conv3_block3_out[0][0]',       \n",
      "                                                                  'conv3_block4_3_bn[0][0]']      \n",
      "                                                                                                  \n",
      " conv3_block4_out (Activation)  (None, 28, 28, 512)  0           ['conv3_block4_add[0][0]']       \n",
      "                                                                                                  \n",
      " conv4_block1_1_conv (Conv2D)   (None, 14, 14, 256)  131328      ['conv3_block4_out[0][0]']       \n",
      "                                                                                                  \n",
      " conv4_block1_1_bn (BatchNormal  (None, 14, 14, 256)  1024       ['conv4_block1_1_conv[0][0]']    \n",
      " ization)                                                                                         \n",
      "                                                                                                  \n",
      " conv4_block1_1_relu (Activatio  (None, 14, 14, 256)  0          ['conv4_block1_1_bn[0][0]']      \n",
      " n)                                                                                               \n",
      "                                                                                                  \n",
      " conv4_block1_2_conv (Conv2D)   (None, 14, 14, 256)  590080      ['conv4_block1_1_relu[0][0]']    \n",
      "                                                                                                  \n",
      " conv4_block1_2_bn (BatchNormal  (None, 14, 14, 256)  1024       ['conv4_block1_2_conv[0][0]']    \n",
      " ization)                                                                                         \n",
      "                                                                                                  \n",
      " conv4_block1_2_relu (Activatio  (None, 14, 14, 256)  0          ['conv4_block1_2_bn[0][0]']      \n",
      " n)                                                                                               \n",
      "                                                                                                  \n",
      " conv4_block1_0_conv (Conv2D)   (None, 14, 14, 1024  525312      ['conv3_block4_out[0][0]']       \n",
      "                                )                                                                 \n",
      "                                                                                                  \n",
      " conv4_block1_3_conv (Conv2D)   (None, 14, 14, 1024  263168      ['conv4_block1_2_relu[0][0]']    \n",
      "                                )                                                                 \n",
      "                                                                                                  \n",
      " conv4_block1_0_bn (BatchNormal  (None, 14, 14, 1024  4096       ['conv4_block1_0_conv[0][0]']    \n",
      " ization)                       )                                                                 \n",
      "                                                                                                  \n",
      " conv4_block1_3_bn (BatchNormal  (None, 14, 14, 1024  4096       ['conv4_block1_3_conv[0][0]']    \n",
      " ization)                       )                                                                 \n",
      "                                                                                                  \n",
      " conv4_block1_add (Add)         (None, 14, 14, 1024  0           ['conv4_block1_0_bn[0][0]',      \n",
      "                                )                                 'conv4_block1_3_bn[0][0]']      \n",
      "                                                                                                  \n",
      " conv4_block1_out (Activation)  (None, 14, 14, 1024  0           ['conv4_block1_add[0][0]']       \n",
      "                                )                                                                 \n",
      "                                                                                                  \n",
      " conv4_block2_1_conv (Conv2D)   (None, 14, 14, 256)  262400      ['conv4_block1_out[0][0]']       \n",
      "                                                                                                  \n",
      " conv4_block2_1_bn (BatchNormal  (None, 14, 14, 256)  1024       ['conv4_block2_1_conv[0][0]']    \n",
      " ization)                                                                                         \n",
      "                                                                                                  \n",
      " conv4_block2_1_relu (Activatio  (None, 14, 14, 256)  0          ['conv4_block2_1_bn[0][0]']      \n",
      " n)                                                                                               \n",
      "                                                                                                  \n",
      " conv4_block2_2_conv (Conv2D)   (None, 14, 14, 256)  590080      ['conv4_block2_1_relu[0][0]']    \n",
      "                                                                                                  \n",
      " conv4_block2_2_bn (BatchNormal  (None, 14, 14, 256)  1024       ['conv4_block2_2_conv[0][0]']    \n",
      " ization)                                                                                         \n",
      "                                                                                                  \n",
      " conv4_block2_2_relu (Activatio  (None, 14, 14, 256)  0          ['conv4_block2_2_bn[0][0]']      \n",
      " n)                                                                                               \n",
      "                                                                                                  \n",
      " conv4_block2_3_conv (Conv2D)   (None, 14, 14, 1024  263168      ['conv4_block2_2_relu[0][0]']    \n",
      "                                )                                                                 \n",
      "                                                                                                  \n",
      " conv4_block2_3_bn (BatchNormal  (None, 14, 14, 1024  4096       ['conv4_block2_3_conv[0][0]']    \n",
      " ization)                       )                                                                 \n",
      "                                                                                                  \n",
      " conv4_block2_add (Add)         (None, 14, 14, 1024  0           ['conv4_block1_out[0][0]',       \n",
      "                                )                                 'conv4_block2_3_bn[0][0]']      \n",
      "                                                                                                  \n",
      " conv4_block2_out (Activation)  (None, 14, 14, 1024  0           ['conv4_block2_add[0][0]']       \n",
      "                                )                                                                 \n",
      "                                                                                                  \n",
      " conv4_block3_1_conv (Conv2D)   (None, 14, 14, 256)  262400      ['conv4_block2_out[0][0]']       \n",
      "                                                                                                  \n",
      " conv4_block3_1_bn (BatchNormal  (None, 14, 14, 256)  1024       ['conv4_block3_1_conv[0][0]']    \n",
      " ization)                                                                                         \n",
      "                                                                                                  \n",
      " conv4_block3_1_relu (Activatio  (None, 14, 14, 256)  0          ['conv4_block3_1_bn[0][0]']      \n",
      " n)                                                                                               \n",
      "                                                                                                  \n",
      " conv4_block3_2_conv (Conv2D)   (None, 14, 14, 256)  590080      ['conv4_block3_1_relu[0][0]']    \n",
      "                                                                                                  \n",
      " conv4_block3_2_bn (BatchNormal  (None, 14, 14, 256)  1024       ['conv4_block3_2_conv[0][0]']    \n",
      " ization)                                                                                         \n",
      "                                                                                                  \n",
      " conv4_block3_2_relu (Activatio  (None, 14, 14, 256)  0          ['conv4_block3_2_bn[0][0]']      \n",
      " n)                                                                                               \n",
      "                                                                                                  \n",
      " conv4_block3_3_conv (Conv2D)   (None, 14, 14, 1024  263168      ['conv4_block3_2_relu[0][0]']    \n",
      "                                )                                                                 \n",
      "                                                                                                  \n",
      " conv4_block3_3_bn (BatchNormal  (None, 14, 14, 1024  4096       ['conv4_block3_3_conv[0][0]']    \n",
      " ization)                       )                                                                 \n",
      "                                                                                                  \n",
      " conv4_block3_add (Add)         (None, 14, 14, 1024  0           ['conv4_block2_out[0][0]',       \n",
      "                                )                                 'conv4_block3_3_bn[0][0]']      \n",
      "                                                                                                  \n",
      " conv4_block3_out (Activation)  (None, 14, 14, 1024  0           ['conv4_block3_add[0][0]']       \n",
      "                                )                                                                 \n",
      "                                                                                                  \n",
      " conv4_block4_1_conv (Conv2D)   (None, 14, 14, 256)  262400      ['conv4_block3_out[0][0]']       \n",
      "                                                                                                  \n",
      " conv4_block4_1_bn (BatchNormal  (None, 14, 14, 256)  1024       ['conv4_block4_1_conv[0][0]']    \n",
      " ization)                                                                                         \n",
      "                                                                                                  \n",
      " conv4_block4_1_relu (Activatio  (None, 14, 14, 256)  0          ['conv4_block4_1_bn[0][0]']      \n",
      " n)                                                                                               \n",
      "                                                                                                  \n",
      " conv4_block4_2_conv (Conv2D)   (None, 14, 14, 256)  590080      ['conv4_block4_1_relu[0][0]']    \n",
      "                                                                                                  \n",
      " conv4_block4_2_bn (BatchNormal  (None, 14, 14, 256)  1024       ['conv4_block4_2_conv[0][0]']    \n",
      " ization)                                                                                         \n",
      "                                                                                                  \n",
      " conv4_block4_2_relu (Activatio  (None, 14, 14, 256)  0          ['conv4_block4_2_bn[0][0]']      \n",
      " n)                                                                                               \n",
      "                                                                                                  \n",
      " conv4_block4_3_conv (Conv2D)   (None, 14, 14, 1024  263168      ['conv4_block4_2_relu[0][0]']    \n",
      "                                )                                                                 \n",
      "                                                                                                  \n",
      " conv4_block4_3_bn (BatchNormal  (None, 14, 14, 1024  4096       ['conv4_block4_3_conv[0][0]']    \n",
      " ization)                       )                                                                 \n",
      "                                                                                                  \n",
      " conv4_block4_add (Add)         (None, 14, 14, 1024  0           ['conv4_block3_out[0][0]',       \n",
      "                                )                                 'conv4_block4_3_bn[0][0]']      \n",
      "                                                                                                  \n",
      " conv4_block4_out (Activation)  (None, 14, 14, 1024  0           ['conv4_block4_add[0][0]']       \n",
      "                                )                                                                 \n",
      "                                                                                                  \n",
      " conv4_block5_1_conv (Conv2D)   (None, 14, 14, 256)  262400      ['conv4_block4_out[0][0]']       \n",
      "                                                                                                  \n",
      " conv4_block5_1_bn (BatchNormal  (None, 14, 14, 256)  1024       ['conv4_block5_1_conv[0][0]']    \n",
      " ization)                                                                                         \n",
      "                                                                                                  \n",
      " conv4_block5_1_relu (Activatio  (None, 14, 14, 256)  0          ['conv4_block5_1_bn[0][0]']      \n",
      " n)                                                                                               \n",
      "                                                                                                  \n",
      " conv4_block5_2_conv (Conv2D)   (None, 14, 14, 256)  590080      ['conv4_block5_1_relu[0][0]']    \n",
      "                                                                                                  \n",
      " conv4_block5_2_bn (BatchNormal  (None, 14, 14, 256)  1024       ['conv4_block5_2_conv[0][0]']    \n",
      " ization)                                                                                         \n",
      "                                                                                                  \n",
      " conv4_block5_2_relu (Activatio  (None, 14, 14, 256)  0          ['conv4_block5_2_bn[0][0]']      \n",
      " n)                                                                                               \n",
      "                                                                                                  \n",
      " conv4_block5_3_conv (Conv2D)   (None, 14, 14, 1024  263168      ['conv4_block5_2_relu[0][0]']    \n",
      "                                )                                                                 \n",
      "                                                                                                  \n",
      " conv4_block5_3_bn (BatchNormal  (None, 14, 14, 1024  4096       ['conv4_block5_3_conv[0][0]']    \n",
      " ization)                       )                                                                 \n",
      "                                                                                                  \n",
      " conv4_block5_add (Add)         (None, 14, 14, 1024  0           ['conv4_block4_out[0][0]',       \n",
      "                                )                                 'conv4_block5_3_bn[0][0]']      \n",
      "                                                                                                  \n",
      " conv4_block5_out (Activation)  (None, 14, 14, 1024  0           ['conv4_block5_add[0][0]']       \n",
      "                                )                                                                 \n",
      "                                                                                                  \n",
      " conv4_block6_1_conv (Conv2D)   (None, 14, 14, 256)  262400      ['conv4_block5_out[0][0]']       \n",
      "                                                                                                  \n",
      " conv4_block6_1_bn (BatchNormal  (None, 14, 14, 256)  1024       ['conv4_block6_1_conv[0][0]']    \n",
      " ization)                                                                                         \n",
      "                                                                                                  \n",
      " conv4_block6_1_relu (Activatio  (None, 14, 14, 256)  0          ['conv4_block6_1_bn[0][0]']      \n",
      " n)                                                                                               \n",
      "                                                                                                  \n",
      " conv4_block6_2_conv (Conv2D)   (None, 14, 14, 256)  590080      ['conv4_block6_1_relu[0][0]']    \n",
      "                                                                                                  \n",
      " conv4_block6_2_bn (BatchNormal  (None, 14, 14, 256)  1024       ['conv4_block6_2_conv[0][0]']    \n",
      " ization)                                                                                         \n",
      "                                                                                                  \n",
      " conv4_block6_2_relu (Activatio  (None, 14, 14, 256)  0          ['conv4_block6_2_bn[0][0]']      \n",
      " n)                                                                                               \n",
      "                                                                                                  \n",
      " conv4_block6_3_conv (Conv2D)   (None, 14, 14, 1024  263168      ['conv4_block6_2_relu[0][0]']    \n",
      "                                )                                                                 \n",
      "                                                                                                  \n",
      " conv4_block6_3_bn (BatchNormal  (None, 14, 14, 1024  4096       ['conv4_block6_3_conv[0][0]']    \n",
      " ization)                       )                                                                 \n",
      "                                                                                                  \n",
      " conv4_block6_add (Add)         (None, 14, 14, 1024  0           ['conv4_block5_out[0][0]',       \n",
      "                                )                                 'conv4_block6_3_bn[0][0]']      \n",
      "                                                                                                  \n",
      " conv4_block6_out (Activation)  (None, 14, 14, 1024  0           ['conv4_block6_add[0][0]']       \n",
      "                                )                                                                 \n",
      "                                                                                                  \n",
      " conv5_block1_1_conv (Conv2D)   (None, 7, 7, 512)    524800      ['conv4_block6_out[0][0]']       \n",
      "                                                                                                  \n",
      " conv5_block1_1_bn (BatchNormal  (None, 7, 7, 512)   2048        ['conv5_block1_1_conv[0][0]']    \n",
      " ization)                                                                                         \n",
      "                                                                                                  \n",
      " conv5_block1_1_relu (Activatio  (None, 7, 7, 512)   0           ['conv5_block1_1_bn[0][0]']      \n",
      " n)                                                                                               \n",
      "                                                                                                  \n",
      " conv5_block1_2_conv (Conv2D)   (None, 7, 7, 512)    2359808     ['conv5_block1_1_relu[0][0]']    \n",
      "                                                                                                  \n",
      " conv5_block1_2_bn (BatchNormal  (None, 7, 7, 512)   2048        ['conv5_block1_2_conv[0][0]']    \n",
      " ization)                                                                                         \n",
      "                                                                                                  \n",
      " conv5_block1_2_relu (Activatio  (None, 7, 7, 512)   0           ['conv5_block1_2_bn[0][0]']      \n",
      " n)                                                                                               \n",
      "                                                                                                  \n",
      " conv5_block1_0_conv (Conv2D)   (None, 7, 7, 2048)   2099200     ['conv4_block6_out[0][0]']       \n",
      "                                                                                                  \n",
      " conv5_block1_3_conv (Conv2D)   (None, 7, 7, 2048)   1050624     ['conv5_block1_2_relu[0][0]']    \n",
      "                                                                                                  \n",
      " conv5_block1_0_bn (BatchNormal  (None, 7, 7, 2048)  8192        ['conv5_block1_0_conv[0][0]']    \n",
      " ization)                                                                                         \n",
      "                                                                                                  \n",
      " conv5_block1_3_bn (BatchNormal  (None, 7, 7, 2048)  8192        ['conv5_block1_3_conv[0][0]']    \n",
      " ization)                                                                                         \n",
      "                                                                                                  \n",
      " conv5_block1_add (Add)         (None, 7, 7, 2048)   0           ['conv5_block1_0_bn[0][0]',      \n",
      "                                                                  'conv5_block1_3_bn[0][0]']      \n",
      "                                                                                                  \n",
      " conv5_block1_out (Activation)  (None, 7, 7, 2048)   0           ['conv5_block1_add[0][0]']       \n",
      "                                                                                                  \n",
      " conv5_block2_1_conv (Conv2D)   (None, 7, 7, 512)    1049088     ['conv5_block1_out[0][0]']       \n",
      "                                                                                                  \n",
      " conv5_block2_1_bn (BatchNormal  (None, 7, 7, 512)   2048        ['conv5_block2_1_conv[0][0]']    \n",
      " ization)                                                                                         \n",
      "                                                                                                  \n",
      " conv5_block2_1_relu (Activatio  (None, 7, 7, 512)   0           ['conv5_block2_1_bn[0][0]']      \n",
      " n)                                                                                               \n",
      "                                                                                                  \n",
      " conv5_block2_2_conv (Conv2D)   (None, 7, 7, 512)    2359808     ['conv5_block2_1_relu[0][0]']    \n",
      "                                                                                                  \n",
      " conv5_block2_2_bn (BatchNormal  (None, 7, 7, 512)   2048        ['conv5_block2_2_conv[0][0]']    \n",
      " ization)                                                                                         \n",
      "                                                                                                  \n",
      " conv5_block2_2_relu (Activatio  (None, 7, 7, 512)   0           ['conv5_block2_2_bn[0][0]']      \n",
      " n)                                                                                               \n",
      "                                                                                                  \n",
      " conv5_block2_3_conv (Conv2D)   (None, 7, 7, 2048)   1050624     ['conv5_block2_2_relu[0][0]']    \n",
      "                                                                                                  \n",
      " conv5_block2_3_bn (BatchNormal  (None, 7, 7, 2048)  8192        ['conv5_block2_3_conv[0][0]']    \n",
      " ization)                                                                                         \n",
      "                                                                                                  \n",
      " conv5_block2_add (Add)         (None, 7, 7, 2048)   0           ['conv5_block1_out[0][0]',       \n",
      "                                                                  'conv5_block2_3_bn[0][0]']      \n",
      "                                                                                                  \n",
      " conv5_block2_out (Activation)  (None, 7, 7, 2048)   0           ['conv5_block2_add[0][0]']       \n",
      "                                                                                                  \n",
      " conv5_block3_1_conv (Conv2D)   (None, 7, 7, 512)    1049088     ['conv5_block2_out[0][0]']       \n",
      "                                                                                                  \n",
      " conv5_block3_1_bn (BatchNormal  (None, 7, 7, 512)   2048        ['conv5_block3_1_conv[0][0]']    \n",
      " ization)                                                                                         \n",
      "                                                                                                  \n",
      " conv5_block3_1_relu (Activatio  (None, 7, 7, 512)   0           ['conv5_block3_1_bn[0][0]']      \n",
      " n)                                                                                               \n",
      "                                                                                                  \n",
      " conv5_block3_2_conv (Conv2D)   (None, 7, 7, 512)    2359808     ['conv5_block3_1_relu[0][0]']    \n",
      "                                                                                                  \n",
      " conv5_block3_2_bn (BatchNormal  (None, 7, 7, 512)   2048        ['conv5_block3_2_conv[0][0]']    \n",
      " ization)                                                                                         \n",
      "                                                                                                  \n",
      " conv5_block3_2_relu (Activatio  (None, 7, 7, 512)   0           ['conv5_block3_2_bn[0][0]']      \n",
      " n)                                                                                               \n",
      "                                                                                                  \n",
      " conv5_block3_3_conv (Conv2D)   (None, 7, 7, 2048)   1050624     ['conv5_block3_2_relu[0][0]']    \n",
      "                                                                                                  \n",
      " conv5_block3_3_bn (BatchNormal  (None, 7, 7, 2048)  8192        ['conv5_block3_3_conv[0][0]']    \n",
      " ization)                                                                                         \n",
      "                                                                                                  \n",
      " conv5_block3_add (Add)         (None, 7, 7, 2048)   0           ['conv5_block2_out[0][0]',       \n",
      "                                                                  'conv5_block3_3_bn[0][0]']      \n",
      "                                                                                                  \n",
      " conv5_block3_out (Activation)  (None, 7, 7, 2048)   0           ['conv5_block3_add[0][0]']       \n",
      "                                                                                                  \n",
      " global_average_pooling2d (Glob  (None, 2048)        0           ['conv5_block3_out[0][0]']       \n",
      " alAveragePooling2D)                                                                              \n",
      "                                                                                                  \n",
      " dense (Dense)                  (None, 256)          524544      ['global_average_pooling2d[0][0]'\n",
      "                                                                 ]                                \n",
      "                                                                                                  \n",
      " dropout (Dropout)              (None, 256)          0           ['dense[0][0]']                  \n",
      "                                                                                                  \n",
      " dense_1 (Dense)                (None, 2)            514         ['dropout[0][0]']                \n",
      "                                                                                                  \n",
      "==================================================================================================\n",
      "Total params: 24,112,770\n",
      "Trainable params: 24,059,650\n",
      "Non-trainable params: 53,120\n",
      "__________________________________________________________________________________________________\n"
     ]
    }
   ],
   "source": [
    "model.summary()"
   ]
  },
  {
   "cell_type": "code",
   "execution_count": 20,
   "metadata": {
    "id": "9Q9gv8AukxzW",
    "ExecuteTime": {
     "end_time": "2023-05-26T10:36:23.951725600Z",
     "start_time": "2023-05-26T10:36:23.825729600Z"
    }
   },
   "outputs": [],
   "source": [
    "optimizer = Adam(0.0001)\n",
    "model.compile(loss='categorical_crossentropy', optimizer=optimizer, metrics=['accuracy'])\n",
    "\n",
    "csv_logger = CSVLogger(TRAINING_FILE, append=False)\n",
    "model_chkpt = ModelCheckpoint(MODEL_PATH, save_best_only=True, save_weights_only=True, monitor='val_accuracy',\n",
    "                              verbose=1)\n",
    "lr_reduce = ReduceLROnPlateau(monitor='val_accuracy', factor=0.5, patience=2, mode='max', min_lr=0.00001, verbose=1)\n",
    "early_stop = EarlyStopping(monitor='val_loss', patience=2, verbose=1)\n",
    "\n",
    "callback_list = [csv_logger, model_chkpt, lr_reduce, early_stop]"
   ]
  },
  {
   "cell_type": "markdown",
   "metadata": {
    "collapsed": false,
    "id": "1ev_7HACkxzW"
   },
   "source": [
    "## Model Training"
   ]
  },
  {
   "cell_type": "code",
   "execution_count": 247,
   "outputs": [
    {
     "output_type": "stream",
     "name": "stdout",
     "text": [
      "Epoch 1/30\n",
      "30/30 [==============================] - ETA: 0s - loss: 5.3303 - accuracy: 0.5712\n",
      "Epoch 1: val_accuracy improved from -inf to 0.66970, saving model to /content/drive/MyDrive/final_project/data/models/model_ResNet50_rgb_aug_mel_bkl.hdf5\n",
      "30/30 [==============================] - 64s 2s/step - loss: 5.3303 - accuracy: 0.5712 - val_loss: 5.1810 - val_accuracy: 0.6697 - lr: 1.0000e-05\n",
      "Epoch 2/30\n",
      "30/30 [==============================] - ETA: 0s - loss: 5.1707 - accuracy: 0.6631\n",
      "Epoch 2: val_accuracy improved from 0.66970 to 0.71515, saving model to /content/drive/MyDrive/final_project/data/models/model_ResNet50_rgb_aug_mel_bkl.hdf5\n",
      "30/30 [==============================] - 56s 2s/step - loss: 5.1707 - accuracy: 0.6631 - val_loss: 5.0682 - val_accuracy: 0.7152 - lr: 1.0000e-05\n",
      "Epoch 3/30\n",
      "30/30 [==============================] - ETA: 0s - loss: 5.0960 - accuracy: 0.6860\n",
      "Epoch 3: val_accuracy did not improve from 0.71515\n",
      "30/30 [==============================] - 55s 2s/step - loss: 5.0960 - accuracy: 0.6860 - val_loss: 5.0788 - val_accuracy: 0.6970 - lr: 1.0000e-05\n",
      "Epoch 4/30\n",
      "30/30 [==============================] - ETA: 0s - loss: 5.0244 - accuracy: 0.7152\n",
      "Epoch 4: val_accuracy did not improve from 0.71515\n",
      "30/30 [==============================] - 51s 2s/step - loss: 5.0244 - accuracy: 0.7152 - val_loss: 4.9786 - val_accuracy: 0.7121 - lr: 1.0000e-05\n",
      "Epoch 5/30\n",
      "30/30 [==============================] - ETA: 0s - loss: 4.9392 - accuracy: 0.7572\n",
      "Epoch 5: val_accuracy improved from 0.71515 to 0.73939, saving model to /content/drive/MyDrive/final_project/data/models/model_ResNet50_rgb_aug_mel_bkl.hdf5\n",
      "30/30 [==============================] - 54s 2s/step - loss: 4.9392 - accuracy: 0.7572 - val_loss: 4.9399 - val_accuracy: 0.7394 - lr: 1.0000e-05\n",
      "Epoch 6/30\n",
      "30/30 [==============================] - ETA: 0s - loss: 4.8735 - accuracy: 0.7784\n",
      "Epoch 6: val_accuracy improved from 0.73939 to 0.76364, saving model to /content/drive/MyDrive/final_project/data/models/model_ResNet50_rgb_aug_mel_bkl.hdf5\n",
      "30/30 [==============================] - 54s 2s/step - loss: 4.8735 - accuracy: 0.7784 - val_loss: 4.9008 - val_accuracy: 0.7636 - lr: 1.0000e-05\n",
      "Epoch 7/30\n",
      "30/30 [==============================] - ETA: 0s - loss: 4.8181 - accuracy: 0.7763\n",
      "Epoch 7: val_accuracy improved from 0.76364 to 0.76970, saving model to /content/drive/MyDrive/final_project/data/models/model_ResNet50_rgb_aug_mel_bkl.hdf5\n",
      "30/30 [==============================] - 52s 2s/step - loss: 4.8181 - accuracy: 0.7763 - val_loss: 4.8763 - val_accuracy: 0.7697 - lr: 1.0000e-05\n",
      "Epoch 8/30\n",
      "30/30 [==============================] - ETA: 0s - loss: 4.7798 - accuracy: 0.7986\n",
      "Epoch 8: val_accuracy improved from 0.76970 to 0.79394, saving model to /content/drive/MyDrive/final_project/data/models/model_ResNet50_rgb_aug_mel_bkl.hdf5\n",
      "30/30 [==============================] - 52s 2s/step - loss: 4.7798 - accuracy: 0.7986 - val_loss: 4.7745 - val_accuracy: 0.7939 - lr: 1.0000e-05\n",
      "Epoch 9/30\n",
      "30/30 [==============================] - ETA: 0s - loss: 4.7131 - accuracy: 0.8177\n",
      "Epoch 9: val_accuracy improved from 0.79394 to 0.80606, saving model to /content/drive/MyDrive/final_project/data/models/model_ResNet50_rgb_aug_mel_bkl.hdf5\n",
      "30/30 [==============================] - 51s 2s/step - loss: 4.7131 - accuracy: 0.8177 - val_loss: 4.7642 - val_accuracy: 0.8061 - lr: 1.0000e-05\n",
      "Epoch 10/30\n",
      "30/30 [==============================] - ETA: 0s - loss: 4.6958 - accuracy: 0.8151\n",
      "Epoch 10: val_accuracy did not improve from 0.80606\n",
      "30/30 [==============================] - 50s 2s/step - loss: 4.6958 - accuracy: 0.8151 - val_loss: 4.7335 - val_accuracy: 0.7879 - lr: 1.0000e-05\n",
      "Epoch 11/30\n",
      "30/30 [==============================] - ETA: 0s - loss: 4.6347 - accuracy: 0.8353\n",
      "Epoch 11: val_accuracy improved from 0.80606 to 0.81212, saving model to /content/drive/MyDrive/final_project/data/models/model_ResNet50_rgb_aug_mel_bkl.hdf5\n",
      "30/30 [==============================] - 52s 2s/step - loss: 4.6347 - accuracy: 0.8353 - val_loss: 4.6514 - val_accuracy: 0.8121 - lr: 1.0000e-05\n",
      "Epoch 12/30\n",
      "30/30 [==============================] - ETA: 0s - loss: 4.5823 - accuracy: 0.8475\n",
      "Epoch 12: val_accuracy improved from 0.81212 to 0.82727, saving model to /content/drive/MyDrive/final_project/data/models/model_ResNet50_rgb_aug_mel_bkl.hdf5\n",
      "30/30 [==============================] - 51s 2s/step - loss: 4.5823 - accuracy: 0.8475 - val_loss: 4.6030 - val_accuracy: 0.8273 - lr: 1.0000e-05\n",
      "Epoch 13/30\n",
      "30/30 [==============================] - ETA: 0s - loss: 4.5405 - accuracy: 0.8544\n",
      "Epoch 13: val_accuracy improved from 0.82727 to 0.83636, saving model to /content/drive/MyDrive/final_project/data/models/model_ResNet50_rgb_aug_mel_bkl.hdf5\n",
      "30/30 [==============================] - 52s 2s/step - loss: 4.5405 - accuracy: 0.8544 - val_loss: 4.5934 - val_accuracy: 0.8364 - lr: 1.0000e-05\n",
      "Epoch 14/30\n",
      "30/30 [==============================] - ETA: 0s - loss: 4.5093 - accuracy: 0.8544\n",
      "Epoch 14: val_accuracy did not improve from 0.83636\n",
      "30/30 [==============================] - 50s 2s/step - loss: 4.5093 - accuracy: 0.8544 - val_loss: 4.5334 - val_accuracy: 0.8333 - lr: 1.0000e-05\n",
      "Epoch 15/30\n",
      "30/30 [==============================] - ETA: 0s - loss: 4.4522 - accuracy: 0.8757\n",
      "Epoch 15: val_accuracy did not improve from 0.83636\n",
      "30/30 [==============================] - 49s 2s/step - loss: 4.4522 - accuracy: 0.8757 - val_loss: 4.5283 - val_accuracy: 0.8242 - lr: 1.0000e-05\n",
      "Epoch 16/30\n",
      "30/30 [==============================] - ETA: 0s - loss: 4.3924 - accuracy: 0.8889\n",
      "Epoch 16: val_accuracy improved from 0.83636 to 0.84242, saving model to /content/drive/MyDrive/final_project/data/models/model_ResNet50_rgb_aug_mel_bkl.hdf5\n",
      "30/30 [==============================] - 51s 2s/step - loss: 4.3924 - accuracy: 0.8889 - val_loss: 4.4666 - val_accuracy: 0.8424 - lr: 1.0000e-05\n",
      "Epoch 17/30\n",
      "30/30 [==============================] - ETA: 0s - loss: 4.3570 - accuracy: 0.8911\n",
      "Epoch 17: val_accuracy improved from 0.84242 to 0.85455, saving model to /content/drive/MyDrive/final_project/data/models/model_ResNet50_rgb_aug_mel_bkl.hdf5\n",
      "30/30 [==============================] - 51s 2s/step - loss: 4.3570 - accuracy: 0.8911 - val_loss: 4.4431 - val_accuracy: 0.8545 - lr: 1.0000e-05\n",
      "Epoch 18/30\n",
      "30/30 [==============================] - ETA: 0s - loss: 4.3184 - accuracy: 0.8990\n",
      "Epoch 18: val_accuracy did not improve from 0.85455\n",
      "30/30 [==============================] - 49s 2s/step - loss: 4.3184 - accuracy: 0.8990 - val_loss: 4.4570 - val_accuracy: 0.8424 - lr: 1.0000e-05\n",
      "Epoch 19/30\n",
      "30/30 [==============================] - ETA: 0s - loss: 4.2860 - accuracy: 0.9012\n",
      "Epoch 19: val_accuracy did not improve from 0.85455\n",
      "30/30 [==============================] - 49s 2s/step - loss: 4.2860 - accuracy: 0.9012 - val_loss: 4.4074 - val_accuracy: 0.8485 - lr: 1.0000e-05\n",
      "Epoch 20/30\n",
      "30/30 [==============================] - ETA: 0s - loss: 4.2375 - accuracy: 0.9113\n",
      "Epoch 20: val_accuracy did not improve from 0.85455\n",
      "30/30 [==============================] - 51s 2s/step - loss: 4.2375 - accuracy: 0.9113 - val_loss: 4.4255 - val_accuracy: 0.8455 - lr: 1.0000e-05\n",
      "Epoch 21/30\n",
      "30/30 [==============================] - ETA: 0s - loss: 4.1943 - accuracy: 0.9240\n",
      "Epoch 21: val_accuracy did not improve from 0.85455\n",
      "30/30 [==============================] - 51s 2s/step - loss: 4.1943 - accuracy: 0.9240 - val_loss: 4.3377 - val_accuracy: 0.8545 - lr: 1.0000e-05\n",
      "Epoch 22/30\n",
      "30/30 [==============================] - ETA: 0s - loss: 4.1724 - accuracy: 0.9081\n",
      "Epoch 22: val_accuracy did not improve from 0.85455\n",
      "30/30 [==============================] - 50s 2s/step - loss: 4.1724 - accuracy: 0.9081 - val_loss: 4.3175 - val_accuracy: 0.8515 - lr: 1.0000e-05\n",
      "Epoch 23/30\n",
      "30/30 [==============================] - ETA: 0s - loss: 4.1214 - accuracy: 0.9293\n",
      "Epoch 23: val_accuracy did not improve from 0.85455\n",
      "30/30 [==============================] - 49s 2s/step - loss: 4.1214 - accuracy: 0.9293 - val_loss: 4.3212 - val_accuracy: 0.8152 - lr: 1.0000e-05\n",
      "Epoch 24/30\n",
      "30/30 [==============================] - ETA: 0s - loss: 4.0799 - accuracy: 0.9341\n",
      "Epoch 24: val_accuracy improved from 0.85455 to 0.86061, saving model to /content/drive/MyDrive/final_project/data/models/model_ResNet50_rgb_aug_mel_bkl.hdf5\n",
      "30/30 [==============================] - 50s 2s/step - loss: 4.0799 - accuracy: 0.9341 - val_loss: 4.2336 - val_accuracy: 0.8606 - lr: 1.0000e-05\n",
      "Epoch 25/30\n",
      "30/30 [==============================] - ETA: 0s - loss: 4.0647 - accuracy: 0.9272\n",
      "Epoch 25: val_accuracy did not improve from 0.86061\n",
      "30/30 [==============================] - 48s 2s/step - loss: 4.0647 - accuracy: 0.9272 - val_loss: 4.1883 - val_accuracy: 0.8485 - lr: 1.0000e-05\n",
      "Epoch 26/30\n",
      "30/30 [==============================] - ETA: 0s - loss: 4.0191 - accuracy: 0.9394\n",
      "Epoch 26: val_accuracy did not improve from 0.86061\n",
      "30/30 [==============================] - 48s 2s/step - loss: 4.0191 - accuracy: 0.9394 - val_loss: 4.2079 - val_accuracy: 0.8545 - lr: 1.0000e-05\n",
      "Epoch 27/30\n",
      "30/30 [==============================] - ETA: 0s - loss: 3.9895 - accuracy: 0.9389\n",
      "Epoch 27: val_accuracy improved from 0.86061 to 0.87273, saving model to /content/drive/MyDrive/final_project/data/models/model_ResNet50_rgb_aug_mel_bkl.hdf5\n",
      "30/30 [==============================] - 50s 2s/step - loss: 3.9895 - accuracy: 0.9389 - val_loss: 4.1347 - val_accuracy: 0.8727 - lr: 1.0000e-05\n",
      "Epoch 28/30\n",
      "30/30 [==============================] - ETA: 0s - loss: 3.9599 - accuracy: 0.9357\n",
      "Epoch 28: val_accuracy did not improve from 0.87273\n",
      "30/30 [==============================] - 51s 2s/step - loss: 3.9599 - accuracy: 0.9357 - val_loss: 4.1716 - val_accuracy: 0.8545 - lr: 1.0000e-05\n",
      "Epoch 29/30\n",
      "30/30 [==============================] - ETA: 0s - loss: 3.9178 - accuracy: 0.9501\n",
      "Epoch 29: val_accuracy did not improve from 0.87273\n",
      "30/30 [==============================] - 49s 2s/step - loss: 3.9178 - accuracy: 0.9501 - val_loss: 4.1495 - val_accuracy: 0.8576 - lr: 1.0000e-05\n",
      "Epoch 30/30\n",
      "30/30 [==============================] - ETA: 0s - loss: 3.8719 - accuracy: 0.9554\n",
      "Epoch 30: val_accuracy improved from 0.87273 to 0.87576, saving model to /content/drive/MyDrive/final_project/data/models/model_ResNet50_rgb_aug_mel_bkl.hdf5\n",
      "30/30 [==============================] - 50s 2s/step - loss: 3.8719 - accuracy: 0.9554 - val_loss: 4.0940 - val_accuracy: 0.8758 - lr: 1.0000e-05\n"
     ]
    }
   ],
   "source": [
    "if config['train_model']:\n",
    "    history = model.fit(train_image_gen,\n",
    "                        epochs=30,\n",
    "                        validation_data=test_image_gen,\n",
    "                        class_weight=class_wt_dict,\n",
    "                        callbacks=callback_list\n",
    "                        )\n",
    "\n",
    "    log_data = pd.DataFrame(model.history.history)\n",
    "    log_data.to_csv(TRAINING_FILE)\n",
    "else:\n",
    "    model.load_weights(MODEL_PATH)  # load weights\n",
    "    log_data = pd.read_csv(TRAINING_FILE)  # load history"
   ],
   "metadata": {
    "collapsed": false
   }
  },
  {
   "cell_type": "code",
   "execution_count": null,
   "metadata": {
    "id": "TOvvW1ArRyJH",
    "colab": {
     "base_uri": "https://localhost:8080/",
     "height": 990
    },
    "outputId": "f2b3bc9a-dddb-40a1-acb9-3f0602b311af"
   },
   "outputs": [],
   "source": [
    "log_data"
   ]
  },
  {
   "cell_type": "markdown",
   "metadata": {
    "collapsed": false,
    "id": "xn20bHo3kxzX"
   },
   "source": [
    "### Model Evaluation"
   ]
  },
  {
   "cell_type": "code",
   "execution_count": null,
   "metadata": {
    "id": "r6L1hzVdkxzX",
    "colab": {
     "base_uri": "https://localhost:8080/",
     "height": 447
    },
    "outputId": "03066068-1a80-438e-f17f-96123486e6cc"
   },
   "outputs": [],
   "source": [
    "metrics = pd.DataFrame(log_data)\n",
    "metrics[['loss', 'val_loss']].plot()"
   ]
  },
  {
   "cell_type": "code",
   "execution_count": null,
   "metadata": {
    "id": "GMO4KhFYkxzX",
    "colab": {
     "base_uri": "https://localhost:8080/",
     "height": 447
    },
    "outputId": "1c67dff3-3681-40d9-c1ca-22641f1deda6"
   },
   "outputs": [],
   "source": [
    "metrics[['accuracy', 'val_accuracy']].plot()"
   ]
  },
  {
   "cell_type": "code",
   "execution_count": 248,
   "outputs": [
    {
     "output_type": "stream",
     "name": "stdout",
     "text": [
      "6/6 [==============================] - 7s 1s/step - loss: 4.0623 - accuracy: 0.8758\n"
     ]
    },
    {
     "output_type": "execute_result",
     "data": {
      "text/plain": [
       "[4.062337398529053, 0.8757575750350952]"
      ]
     },
     "metadata": {},
     "execution_count": 248
    }
   ],
   "source": [
    "model.evaluate(test_image_gen)"
   ],
   "metadata": {
    "collapsed": false
   }
  },
  {
   "cell_type": "code",
   "execution_count": 249,
   "outputs": [
    {
     "output_type": "stream",
     "name": "stdout",
     "text": [
      "6/6 [==============================] - 8s 1s/step\n"
     ]
    }
   ],
   "source": [
    "predictions = model.predict(test_image_gen, verbose=1)\n",
    "# save predictions\n",
    "np.save(PREDICTIONS_FILE, predictions)"
   ],
   "metadata": {
    "collapsed": false
   }
  },
  {
   "cell_type": "code",
   "execution_count": 27,
   "metadata": {
    "id": "rdzK1AYWRyJI",
    "ExecuteTime": {
     "end_time": "2023-05-26T10:46:13.763659200Z",
     "start_time": "2023-05-26T10:46:13.747803900Z"
    }
   },
   "outputs": [],
   "source": [
    "predictions = predictions.argmax(axis=1)\n",
    "test_labels = test_image_gen.classes"
   ]
  },
  {
   "cell_type": "markdown",
   "metadata": {
    "collapsed": false,
    "id": "PRrjZwb3RyJI"
   },
   "source": [
    "## The confusion matrix\n",
    "The confusion matrix can be used to evaluate the performance of a multi-class CNN classifier. By looking at the diagonal of the confusion matrix, you can see the percentage of instances that were correctly classified. You can also look at the off-diagonal elements of the confusion matrix to see which classes are being misclassified most often. This information can be used to improve the performance of the classifier by adjusting the hyperparameters or by using a different training algorithm."
   ]
  },
  {
   "cell_type": "code",
   "execution_count": 28,
   "metadata": {
    "id": "rZMZkj-BkxzY",
    "ExecuteTime": {
     "end_time": "2023-05-26T10:46:18.301435300Z",
     "start_time": "2023-05-26T10:46:18.281461500Z"
    }
   },
   "outputs": [],
   "source": [
    "conf_matrix = confusion_matrix(test_labels, predictions)"
   ]
  },
  {
   "cell_type": "code",
   "execution_count": null,
   "metadata": {
    "id": "TzudlPfckxzY",
    "colab": {
     "base_uri": "https://localhost:8080/",
     "height": 719
    },
    "outputId": "62c6b4cd-3be8-4ee9-c583-115fb3ec43af"
   },
   "outputs": [],
   "source": [
    "def plot_confusion_matrix(confusion_matrix, classes: list,\n",
    "                          normalize=True,\n",
    "                          title='Confusion matrix',\n",
    "                          cmap=cm.Blues) -> None:\n",
    "    if normalize:\n",
    "        confusion_matrix = confusion_matrix.astype('float') / confusion_matrix.sum(axis=1)[:, np.newaxis]\n",
    "        print('Normalized confusion matrix')\n",
    "    else:\n",
    "        print('Confusion matrix, without normalization')\n",
    "\n",
    "    plt.figure(figsize=(7, 7))\n",
    "    plt.imshow(confusion_matrix, interpolation='nearest', cmap=cmap)\n",
    "    plt.title(title)\n",
    "    plt.colorbar()\n",
    "    tick_marks = np.arange(len(classes))\n",
    "    plt.xticks(tick_marks, classes, rotation=45)\n",
    "    plt.yticks(tick_marks, classes)\n",
    "\n",
    "    fmt = '.2f' if normalize else 'd'\n",
    "    thresh = confusion_matrix.max() / 2.\n",
    "\n",
    "    for i, j in itertools.product(range(confusion_matrix.shape[0]), range(confusion_matrix.shape[1])):\n",
    "        plt.text(j, i, format(confusion_matrix[i, j], fmt),\n",
    "                 horizontalalignment='center',\n",
    "                 color='white' if confusion_matrix[i, j] > thresh else 'black')\n",
    "\n",
    "    plt.ylabel('True label')\n",
    "    plt.xlabel('Predicted label')\n",
    "    plt.tight_layout()"
   ]
  },
  {
   "cell_type": "code",
   "execution_count": 251,
   "outputs": [
    {
     "output_type": "stream",
     "name": "stdout",
     "text": [
      "Normalized confusion matrix\n"
     ]
    },
    {
     "output_type": "display_data",
     "data": {
      "text/plain": [
       "<Figure size 700x700 with 2 Axes>"
      ],
      "image/png": "[encoded data removed]"
     },
     "metadata": {}
    }
   ],
   "source": [
    "confusion_matrix_plot_labels = list(test_image_gen.class_indices.keys())\n",
    "conf_matrix = confusion_matrix(test_labels, predictions)\n",
    "plot_confusion_matrix(conf_matrix, confusion_matrix_plot_labels, title='Confusion Matrix', normalize=True)"
   ],
   "metadata": {
    "collapsed": false
   }
  },
  {
   "cell_type": "code",
   "execution_count": null,
   "metadata": {
    "id": "QIVXoqh4WNfA",
    "colab": {
     "base_uri": "https://localhost:8080/"
    },
    "outputId": "5ebedd04-991b-44ac-fbd5-ba0de5d8812d"
   },
   "outputs": [],
   "source": [
    "# Creating classification report\n",
    "report = classification_report(test_image_gen.classes, predictions, zero_division=0)\n",
    "\n",
    "print('Classification Report:')\n",
    "print(report)"
   ]
  },
  {
   "cell_type": "markdown",
   "metadata": {
    "collapsed": false,
    "id": "nWLmxVFqnSFH"
   },
   "source": [
    "---\n",
    "# GradCam\n",
    "\n",
    "Grad-CAM, or Gradient-weighted Class Activation Mapping, is a technique for visualizing the parts of an image that are most relevant to a model's prediction. It works by taking the gradients of the model's output with respect to the input image, and then weighting these gradients by the activations of the last convolutional layer. The resulting heatmap can then be overlaid on the original image to show which parts of the image are most important for the model's prediction.\n",
    "\n",
    "Grad-CAM is a useful tool for understanding how deep learning models work. It can be used to identify the features that a model is using to make its predictions, and to see how these features change when the model is presented with different images. Grad-CAM can also be used to debug models, and to identify areas where the model is making mistakes."
   ]
  },
  {
   "cell_type": "code",
   "execution_count": 32,
   "metadata": {
    "id": "FaFyILk_nSFN",
    "ExecuteTime": {
     "end_time": "2023-05-26T10:50:01.898565700Z",
     "start_time": "2023-05-26T10:50:01.876378500Z"
    }
   },
   "outputs": [],
   "source": [
    "def get_img_array(img_path, size):\n",
    "    img = load_img(img_path, target_size=size)\n",
    "    array = img_to_array(img)\n",
    "    array = np.expand_dims(array, axis=0)\n",
    "    return array\n",
    "\n",
    "\n",
    "def make_gradcam_heatmap(img_array, model, last_conv_layer_name: str, pred_index=None) -> np.ndarray:\n",
    "    grad_model = tf.keras.models.Model([model.inputs], [model.get_layer(last_conv_layer_name).output, model.output])\n",
    "\n",
    "    with tf.GradientTape() as tape:\n",
    "        last_conv_layer_output, preds = grad_model(img_array)\n",
    "\n",
    "        if pred_index is None:\n",
    "            pred_index = tf.argmax(preds[0])\n",
    "\n",
    "        class_channel = preds[:, pred_index]\n",
    "\n",
    "    grads = tape.gradient(class_channel, last_conv_layer_output)\n",
    "    pooled_grads = tf.reduce_mean(grads, axis=(0, 1, 2))\n",
    "    last_conv_layer_output = last_conv_layer_output[0]\n",
    "    heatmap = last_conv_layer_output @ pooled_grads[..., tf.newaxis]\n",
    "    heatmap = tf.squeeze(heatmap)\n",
    "    heatmap = tf.maximum(heatmap, 0) / tf.math.reduce_max(heatmap)\n",
    "\n",
    "    return heatmap.numpy()\n",
    "\n",
    "\n",
    "def save_and_display_gradcam(img_path: str, heatmap, alpha=1.2) -> None:\n",
    "    img = cv2.imread(img_path)\n",
    "    img = cv2.cvtColor(img, cv2.COLOR_BGR2RGB)\n",
    "    img = cv2.resize(img, (250, 250))\n",
    "    img = img_to_array(img)\n",
    "\n",
    "    heatmap = np.uint8(255 * heatmap)\n",
    "\n",
    "    jet = cm.get_cmap('viridis')\n",
    "    jet_colors = jet(np.arange(256))[:, :3]\n",
    "    jet_heatmap = jet_colors[heatmap]\n",
    "\n",
    "    jet_heatmap = array_to_img(jet_heatmap)\n",
    "    jet_heatmap = jet_heatmap.resize((img.shape[1], img.shape[0]))\n",
    "    jet_heatmap = img_to_array(jet_heatmap)\n",
    "\n",
    "    superimposed_img = jet_heatmap * alpha + img - 50\n",
    "    superimposed_img = array_to_img(superimposed_img)\n",
    "\n",
    "    return superimposed_img\n",
    "\n",
    "\n",
    "def predict(image: str, _last_conv_layer_name: str) -> None:\n",
    "    img_path = str(Path(IMAGES_DIRECTORY / f'{image}.jpg'))\n",
    "    print('image:', image)\n",
    "    img_array = base_preprocess(get_img_array(img_path, size=TARGET_SIZE))\n",
    "\n",
    "    preds = model.predict(img_array)\n",
    "    pred_index = np.argmax(preds)\n",
    "    prediction = class_names[pred_index]\n",
    "    print(f'prediction: {prediction}')\n",
    "    print(f'probability: {round(preds[0][pred_index] * 100, 2)}%')\n",
    "\n",
    "    # print class names and probabilities in descending order\n",
    "    probs_dict = {class_names[i]: preds[0][i] for i in range(len(class_names))}\n",
    "    probs_dict = {k: f'{round(v * 100, 2)}%' for k, v in\n",
    "                  sorted(probs_dict.items(), key=lambda item: item[1], reverse=True)}\n",
    "    print(probs_dict)\n",
    "\n",
    "    heatmap = make_gradcam_heatmap(img_array, model, _last_conv_layer_name)\n",
    "\n",
    "    image_titles = ['Lesion', 'Heatmap', 'Overlay']\n",
    "    f, ax = plt.subplots(nrows=1, ncols=3, figsize=(13, 4))\n",
    "\n",
    "    lesion = cv2.imread(img_path)\n",
    "    lesion = cv2.resize(lesion, (300, 300))\n",
    "    lesion = cv2.cvtColor(lesion, cv2.COLOR_BGR2RGB)\n",
    "    heatmap = cv2.resize(heatmap, (10, 10))\n",
    "    superimp = save_and_display_gradcam(img_path, heatmap)\n",
    "    overlay_arr = [lesion, heatmap, superimp]\n",
    "\n",
    "    for i, title in enumerate(image_titles):\n",
    "        if i == 1:\n",
    "            ax[i].set_title(title, fontsize=12)\n",
    "            sns.heatmap(overlay_arr[i], ax=ax[i], cmap='viridis')\n",
    "            continue\n",
    "\n",
    "        ax[i].set_title(title, fontsize=12)\n",
    "        ax[i].imshow(overlay_arr[i])\n",
    "        ax[i].axis('off')\n",
    "\n",
    "    plt.tight_layout()\n",
    "    plt.show()"
   ]
  },
  {
   "cell_type": "code",
   "execution_count": null,
   "metadata": {
    "id": "Nyk3sPVZnSFO",
    "colab": {
     "base_uri": "https://localhost:8080/",
     "height": 549
    },
    "outputId": "94519268-4247-4234-ee44-1fe6e686a839"
   },
   "outputs": [],
   "source": [
    "predict('mel/ISIC_0027622', last_conv_layer_name)"
   ]
  },
  {
   "cell_type": "code",
   "execution_count": null,
   "metadata": {
    "id": "FubKu4nAnSFO",
    "colab": {
     "base_uri": "https://localhost:8080/",
     "height": 549
    },
    "outputId": "98095d07-4544-4516-bf76-51e6b08f9eaa"
   },
   "outputs": [],
   "source": [
    "# predict('nv/ISIC_0024350', last_conv_layer_name)"
   ]
  },
  {
   "cell_type": "code",
   "execution_count": null,
   "metadata": {
    "id": "vXocC33kUchv"
   },
   "outputs": [],
   "source": [
    "# from google.colab import runtime\n",
    "\n",
    "# runtime.unassign()"
   ]
  }
 ],
 "metadata": {
  "accelerator": "GPU",
  "colab": {
   "machine_shape": "hm",
   "provenance": [],
   "gpuType": "V100"
  },
  "gpuClass": "premium",
  "kernelspec": {
   "display_name": "Python 3",
   "language": "python",
   "name": "python3"
  },
  "language_info": {
   "codemirror_mode": {
    "name": "ipython",
    "version": 2
   },
   "file_extension": ".py",
   "mimetype": "text/x-python",
   "name": "python",
   "nbconvert_exporter": "python",
   "pygments_lexer": "ipython2",
   "version": "2.7.6"
  }
 },
 "nbformat": 4,
 "nbformat_minor": 0
}
