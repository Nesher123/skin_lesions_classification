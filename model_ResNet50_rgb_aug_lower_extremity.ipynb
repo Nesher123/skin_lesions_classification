{
  "cells": [
    {
      "cell_type": "markdown",
      "metadata": {
        "collapsed": false,
        "id": "wmu519HJniYx"
      },
      "source": [
        "# Fine-tuning an image classification model on a skin lesions dataset\n",
        "[tutorial1](https://keras.io/guides/transfer_learning), [tutorial2](https://neptune.ai/blog/transfer-learning-guide-examples-for-images-and-text-in-keras)\n",
        "\n",
        "A concrete end-to-end transfer learning example. We will load a SOTA model, pre-trained on ImageNet, and use it on the skin lesions classification dataset.\n",
        "\n",
        "<br>\n",
        "\n",
        "<center><img src=\"images/Diagram of the methods developed for skin lesion images classification.png\", alt=\"Ensemble\"/></center>"
      ]
    },
    {
      "cell_type": "code",
      "execution_count": 1,
      "metadata": {
        "colab": {
          "base_uri": "https://localhost:8080/"
        },
        "id": "HRmB5ZOzRyJD",
        "outputId": "b454641d-0b39-4e1e-db82-787f9699a827"
      },
      "outputs": [
        {
          "output_type": "stream",
          "name": "stdout",
          "text": [
            "Wed May 17 15:46:43 2023       \n",
            "+-----------------------------------------------------------------------------+\n",
            "| NVIDIA-SMI 525.85.12    Driver Version: 525.85.12    CUDA Version: 12.0     |\n",
            "|-------------------------------+----------------------+----------------------+\n",
            "| GPU  Name        Persistence-M| Bus-Id        Disp.A | Volatile Uncorr. ECC |\n",
            "| Fan  Temp  Perf  Pwr:Usage/Cap|         Memory-Usage | GPU-Util  Compute M. |\n",
            "|                               |                      |               MIG M. |\n",
            "|===============================+======================+======================|\n",
            "|   0  Tesla T4            Off  | 00000000:00:04.0 Off |                    0 |\n",
            "| N/A   35C    P8     9W /  70W |      0MiB / 15360MiB |      0%      Default |\n",
            "|                               |                      |                  N/A |\n",
            "+-------------------------------+----------------------+----------------------+\n",
            "                                                                               \n",
            "+-----------------------------------------------------------------------------+\n",
            "| Processes:                                                                  |\n",
            "|  GPU   GI   CI        PID   Type   Process name                  GPU Memory |\n",
            "|        ID   ID                                                   Usage      |\n",
            "|=============================================================================|\n",
            "|  No running processes found                                                 |\n",
            "+-----------------------------------------------------------------------------+\n"
          ]
        }
      ],
      "source": [
        "!nvidia-smi"
      ]
    },
    {
      "cell_type": "code",
      "execution_count": 2,
      "metadata": {
        "id": "FDxy8fhQniYz"
      },
      "outputs": [],
      "source": [
        "config = {\n",
        "    \"model_name\": \"ResNet50\",  # ResNet50, Xception, InceptionResNetV2, VGG19\n",
        "    \"color_mode\": \"rgb\",  # rgb, grayscale,\n",
        "    \"train_model\": True,\n",
        "    \"to_unzip\": True,\n",
        "    \"with_augmentations\": True,\n",
        "    \"localization\": \"lower extremity\",  # \"\", \"back\", \"abdomen\", \"lower extremity\", \"upper extremity\"\n",
        "}"
      ]
    },
    {
      "cell_type": "code",
      "execution_count": 3,
      "metadata": {
        "colab": {
          "base_uri": "https://localhost:8080/"
        },
        "id": "SZn8t3ctRkwd",
        "outputId": "b74a24a3-62f3-4164-f32f-57780e2383a7"
      },
      "outputs": [
        {
          "output_type": "stream",
          "name": "stdout",
          "text": [
            "Mounted at /content/drive\n",
            "Running on COLAB\n"
          ]
        }
      ],
      "source": [
        "def connect_to_resources():\n",
        "    try:\n",
        "        from google.colab import drive, files\n",
        "\n",
        "        drive.mount('/content/drive')\n",
        "        print('Running on COLAB')\n",
        "        return '/content/drive/MyDrive/final_project'\n",
        "    except ModuleNotFoundError:\n",
        "        print('Not running on COLAB')\n",
        "        return ''\n",
        "\n",
        "\n",
        "ROOT = connect_to_resources()"
      ]
    },
    {
      "cell_type": "code",
      "execution_count": 4,
      "metadata": {
        "collapsed": true,
        "id": "M4eZ20nWRkwh"
      },
      "outputs": [],
      "source": [
        "# Built-in modules\n",
        "import os\n",
        "import shutil\n",
        "from pathlib import Path\n",
        "import itertools\n",
        "from zipfile import ZipFile\n",
        "from typing import List\n",
        "\n",
        "# Third-party modules\n",
        "import cv2\n",
        "import seaborn as sns\n",
        "import numpy as np\n",
        "import pandas as pd\n",
        "from tqdm import tqdm\n",
        "import matplotlib.pyplot as plt\n",
        "import matplotlib.cm as cm\n",
        "from sklearn.metrics import classification_report, confusion_matrix\n",
        "from sklearn.utils import class_weight\n",
        "import tensorflow as tf\n",
        "\n",
        "from keras.applications import *\n",
        "from keras.preprocessing.image import ImageDataGenerator\n",
        "from keras.callbacks import ReduceLROnPlateau, EarlyStopping, ModelCheckpoint, CSVLogger\n",
        "from keras.optimizers import Adam\n",
        "from keras.layers import Dense, Dropout, GlobalAveragePooling2D\n",
        "from keras.models import Model\n",
        "from keras.utils import load_img, img_to_array, array_to_img\n",
        "from keras import layers"
      ]
    },
    {
      "cell_type": "code",
      "execution_count": 5,
      "metadata": {
        "id": "RYmeKyY0Rkwh"
      },
      "outputs": [],
      "source": [
        "IMAGE_ZIP_FILENAME = 'HAM10000.zip'\n",
        "DATA_PATH = 'data'\n",
        "METADATA_FILE_PATH = Path(ROOT, DATA_PATH, 'HAM10000_metadata.csv')\n",
        "IMAGES_DIRECTORY = Path(DATA_PATH, 'HAM10000')\n",
        "\n",
        "MODEL_NAME = f\"model_{config['model_name']}_{config['color_mode']}\" + \\\n",
        "             ('_aug' if config['with_augmentations'] else '_no_aug') + \\\n",
        "             (f\"_{config['localization']}\".replace(\" \", \"_\") if config['localization'] else '')\n",
        "MODEL_PATH = Path(ROOT, DATA_PATH, 'models', f'{MODEL_NAME}.hdf5')\n",
        "TRAINING_FILE = Path(ROOT, DATA_PATH, 'history', f'{MODEL_NAME}_history.csv')\n",
        "PREDICTIONS_FILE = Path(ROOT, DATA_PATH, 'predictions', f'{MODEL_NAME}_predictions')\n",
        "\n",
        "BATCH_SIZE = 64\n",
        "TARGET_SIZE = (224, 224)\n",
        "SEED = 42"
      ]
    },
    {
      "cell_type": "code",
      "execution_count": 6,
      "metadata": {
        "colab": {
          "base_uri": "https://localhost:8080/"
        },
        "id": "Cb5LgBj7RyJF",
        "outputId": "877b87bb-d08a-4604-feb9-474482c14e93"
      },
      "outputs": [
        {
          "output_type": "execute_result",
          "data": {
            "text/plain": [
              "['akiec', 'bcc', 'bkl', 'df', 'mel', 'nv', 'vasc']"
            ]
          },
          "metadata": {},
          "execution_count": 6
        }
      ],
      "source": [
        "def get_class_names(_metadata_df: pd.DataFrame) -> List[str]:\n",
        "    \"\"\"get the class names from the metadata file\"\"\"\n",
        "    return sorted(list(_metadata_df['dx'].str.lower().unique()))\n",
        "\n",
        "\n",
        "def get_metadata_df(metadata_file_path: Path) -> pd.DataFrame:\n",
        "    df = pd.read_csv(metadata_file_path)\n",
        "    lesion_types = df['dx'].unique()\n",
        "\n",
        "    if config['localization'] != '':\n",
        "        if config['localization'] in df['localization'].unique():\n",
        "            df = df[df['localization'] == config['localization']]\n",
        "\n",
        "            # check that all lesion types are present\n",
        "            remaining_lesion_types = df['dx'].unique()\n",
        "\n",
        "            if len(remaining_lesion_types) != len(lesion_types):\n",
        "                missing_lesion_types = set(lesion_types) - set(remaining_lesion_types)\n",
        "                raise ValueError(\n",
        "                    f'Missing lesion types: {missing_lesion_types}.\\nMust include all lesions types in order to run on a subset of the dataset.')\n",
        "        else:\n",
        "            raise ValueError(f'Invalid localization: {config[\"localization\"]}')\n",
        "\n",
        "    return df\n",
        "\n",
        "\n",
        "metadata_df = get_metadata_df(METADATA_FILE_PATH)\n",
        "class_names = get_class_names(metadata_df)\n",
        "class_names"
      ]
    },
    {
      "cell_type": "code",
      "execution_count": 7,
      "metadata": {
        "colab": {
          "base_uri": "https://localhost:8080/",
          "height": 206
        },
        "id": "g4C84ACAkxzR",
        "outputId": "99d8e8e4-150e-4bac-dd53-5b4f81143680"
      },
      "outputs": [
        {
          "output_type": "execute_result",
          "data": {
            "text/plain": [
              "         image_id  akiec  bcc  bkl  df  mel  nv  vasc label\n",
              "59   ISIC_0025286      0    0    1   0    0   0     0   bkl\n",
              "86   ISIC_0031624      0    0    1   0    0   0     0   bkl\n",
              "87   ISIC_0025510      0    0    1   0    0   0     0   bkl\n",
              "102  ISIC_0032463      0    0    1   0    0   0     0   bkl\n",
              "103  ISIC_0025548      0    0    1   0    0   0     0   bkl"
            ],
            "text/html": [
              "\n",
              "  <div id=\"df-836e15ab-dc64-4780-929a-db6efd48b51d\">\n",
              "    <div class=\"colab-df-container\">\n",
              "      <div>\n",
              "<style scoped>\n",
              "    .dataframe tbody tr th:only-of-type {\n",
              "        vertical-align: middle;\n",
              "    }\n",
              "\n",
              "    .dataframe tbody tr th {\n",
              "        vertical-align: top;\n",
              "    }\n",
              "\n",
              "    .dataframe thead th {\n",
              "        text-align: right;\n",
              "    }\n",
              "</style>\n",
              "<table border=\"1\" class=\"dataframe\">\n",
              "  <thead>\n",
              "    <tr style=\"text-align: right;\">\n",
              "      <th></th>\n",
              "      <th>image_id</th>\n",
              "      <th>akiec</th>\n",
              "      <th>bcc</th>\n",
              "      <th>bkl</th>\n",
              "      <th>df</th>\n",
              "      <th>mel</th>\n",
              "      <th>nv</th>\n",
              "      <th>vasc</th>\n",
              "      <th>label</th>\n",
              "    </tr>\n",
              "  </thead>\n",
              "  <tbody>\n",
              "    <tr>\n",
              "      <th>59</th>\n",
              "      <td>ISIC_0025286</td>\n",
              "      <td>0</td>\n",
              "      <td>0</td>\n",
              "      <td>1</td>\n",
              "      <td>0</td>\n",
              "      <td>0</td>\n",
              "      <td>0</td>\n",
              "      <td>0</td>\n",
              "      <td>bkl</td>\n",
              "    </tr>\n",
              "    <tr>\n",
              "      <th>86</th>\n",
              "      <td>ISIC_0031624</td>\n",
              "      <td>0</td>\n",
              "      <td>0</td>\n",
              "      <td>1</td>\n",
              "      <td>0</td>\n",
              "      <td>0</td>\n",
              "      <td>0</td>\n",
              "      <td>0</td>\n",
              "      <td>bkl</td>\n",
              "    </tr>\n",
              "    <tr>\n",
              "      <th>87</th>\n",
              "      <td>ISIC_0025510</td>\n",
              "      <td>0</td>\n",
              "      <td>0</td>\n",
              "      <td>1</td>\n",
              "      <td>0</td>\n",
              "      <td>0</td>\n",
              "      <td>0</td>\n",
              "      <td>0</td>\n",
              "      <td>bkl</td>\n",
              "    </tr>\n",
              "    <tr>\n",
              "      <th>102</th>\n",
              "      <td>ISIC_0032463</td>\n",
              "      <td>0</td>\n",
              "      <td>0</td>\n",
              "      <td>1</td>\n",
              "      <td>0</td>\n",
              "      <td>0</td>\n",
              "      <td>0</td>\n",
              "      <td>0</td>\n",
              "      <td>bkl</td>\n",
              "    </tr>\n",
              "    <tr>\n",
              "      <th>103</th>\n",
              "      <td>ISIC_0025548</td>\n",
              "      <td>0</td>\n",
              "      <td>0</td>\n",
              "      <td>1</td>\n",
              "      <td>0</td>\n",
              "      <td>0</td>\n",
              "      <td>0</td>\n",
              "      <td>0</td>\n",
              "      <td>bkl</td>\n",
              "    </tr>\n",
              "  </tbody>\n",
              "</table>\n",
              "</div>\n",
              "      <button class=\"colab-df-convert\" onclick=\"convertToInteractive('df-836e15ab-dc64-4780-929a-db6efd48b51d')\"\n",
              "              title=\"Convert this dataframe to an interactive table.\"\n",
              "              style=\"display:none;\">\n",
              "        \n",
              "  <svg xmlns=\"http://www.w3.org/2000/svg\" height=\"24px\"viewBox=\"0 0 24 24\"\n",
              "       width=\"24px\">\n",
              "    <path d=\"M0 0h24v24H0V0z\" fill=\"none\"/>\n",
              "    <path d=\"M18.56 5.44l.94 2.06.94-2.06 2.06-.94-2.06-.94-.94-2.06-.94 2.06-2.06.94zm-11 1L8.5 8.5l.94-2.06 2.06-.94-2.06-.94L8.5 2.5l-.94 2.06-2.06.94zm10 10l.94 2.06.94-2.06 2.06-.94-2.06-.94-.94-2.06-.94 2.06-2.06.94z\"/><path d=\"M17.41 7.96l-1.37-1.37c-.4-.4-.92-.59-1.43-.59-.52 0-1.04.2-1.43.59L10.3 9.45l-7.72 7.72c-.78.78-.78 2.05 0 2.83L4 21.41c.39.39.9.59 1.41.59.51 0 1.02-.2 1.41-.59l7.78-7.78 2.81-2.81c.8-.78.8-2.07 0-2.86zM5.41 20L4 18.59l7.72-7.72 1.47 1.35L5.41 20z\"/>\n",
              "  </svg>\n",
              "      </button>\n",
              "      \n",
              "  <style>\n",
              "    .colab-df-container {\n",
              "      display:flex;\n",
              "      flex-wrap:wrap;\n",
              "      gap: 12px;\n",
              "    }\n",
              "\n",
              "    .colab-df-convert {\n",
              "      background-color: #E8F0FE;\n",
              "      border: none;\n",
              "      border-radius: 50%;\n",
              "      cursor: pointer;\n",
              "      display: none;\n",
              "      fill: #1967D2;\n",
              "      height: 32px;\n",
              "      padding: 0 0 0 0;\n",
              "      width: 32px;\n",
              "    }\n",
              "\n",
              "    .colab-df-convert:hover {\n",
              "      background-color: #E2EBFA;\n",
              "      box-shadow: 0px 1px 2px rgba(60, 64, 67, 0.3), 0px 1px 3px 1px rgba(60, 64, 67, 0.15);\n",
              "      fill: #174EA6;\n",
              "    }\n",
              "\n",
              "    [theme=dark] .colab-df-convert {\n",
              "      background-color: #3B4455;\n",
              "      fill: #D2E3FC;\n",
              "    }\n",
              "\n",
              "    [theme=dark] .colab-df-convert:hover {\n",
              "      background-color: #434B5C;\n",
              "      box-shadow: 0px 1px 3px 1px rgba(0, 0, 0, 0.15);\n",
              "      filter: drop-shadow(0px 1px 2px rgba(0, 0, 0, 0.3));\n",
              "      fill: #FFFFFF;\n",
              "    }\n",
              "  </style>\n",
              "\n",
              "      <script>\n",
              "        const buttonEl =\n",
              "          document.querySelector('#df-836e15ab-dc64-4780-929a-db6efd48b51d button.colab-df-convert');\n",
              "        buttonEl.style.display =\n",
              "          google.colab.kernel.accessAllowed ? 'block' : 'none';\n",
              "\n",
              "        async function convertToInteractive(key) {\n",
              "          const element = document.querySelector('#df-836e15ab-dc64-4780-929a-db6efd48b51d');\n",
              "          const dataTable =\n",
              "            await google.colab.kernel.invokeFunction('convertToInteractive',\n",
              "                                                     [key], {});\n",
              "          if (!dataTable) return;\n",
              "\n",
              "          const docLinkHtml = 'Like what you see? Visit the ' +\n",
              "            '<a target=\"_blank\" href=https://colab.research.google.com/notebooks/data_table.ipynb>data table notebook</a>'\n",
              "            + ' to learn more about interactive tables.';\n",
              "          element.innerHTML = '';\n",
              "          dataTable['output_type'] = 'display_data';\n",
              "          await google.colab.output.renderOutput(dataTable, element);\n",
              "          const docLink = document.createElement('div');\n",
              "          docLink.innerHTML = docLinkHtml;\n",
              "          element.appendChild(docLink);\n",
              "        }\n",
              "      </script>\n",
              "    </div>\n",
              "  </div>\n",
              "  "
            ]
          },
          "metadata": {},
          "execution_count": 7
        }
      ],
      "source": [
        "def get_df_labels(metadata_df: pd.DataFrame, classes: List[str]) -> pd.DataFrame:\n",
        "    \"\"\"get the DataFrame with the labels for each image\"\"\"\n",
        "    # perform one-hot encoding on the 'dx' column\n",
        "    one_hot = pd.get_dummies(metadata_df['dx'])\n",
        "\n",
        "    # add the one-hot encoding to the original DataFrame and drop the 'dx' column\n",
        "    df_labels = pd.concat([metadata_df, one_hot], axis=1).drop('dx', axis=1)\n",
        "\n",
        "    df_labels['label'] = one_hot.idxmax(axis=1)\n",
        "\n",
        "    # re-arrange the columns to match the desired output\n",
        "    df_labels = df_labels[['image_id'] + classes + ['label']]\n",
        "\n",
        "    return df_labels\n",
        "\n",
        "\n",
        "df_labels = get_df_labels(metadata_df, class_names)\n",
        "df_labels.head()"
      ]
    },
    {
      "cell_type": "code",
      "execution_count": 8,
      "metadata": {
        "id": "PQpE4AVgniY3"
      },
      "outputs": [],
      "source": [
        "class ConvertToGrayscale(layers.Layer):\n",
        "    def __init__(self):\n",
        "        super(ConvertToGrayscale, self).__init__()\n",
        "\n",
        "    def call(self, inputs):\n",
        "        grayscale = tf.image.rgb_to_grayscale(inputs)\n",
        "        return tf.concat([grayscale, grayscale, grayscale], axis=-1)\n",
        "\n",
        "\n",
        "def preprocess(classes: List[str]) -> None:\n",
        "    \"\"\"Preprocess zip file: extract and split images into their class folder\"\"\"\n",
        "    # Read the zip file and extract it\n",
        "    with ZipFile(Path(ROOT, DATA_PATH, IMAGE_ZIP_FILENAME), 'r') as z:\n",
        "        # Extracting all the files to PATH directory\n",
        "        z.extractall(DATA_PATH)\n",
        "        print('Zip file extracted')\n",
        "\n",
        "    for i in classes:\n",
        "        os.makedirs(Path(IMAGES_DIRECTORY, i), exist_ok=True)\n",
        "\n",
        "    # Split images to folders by class\n",
        "    images = os.listdir(IMAGES_DIRECTORY)\n",
        "    images = [image for image in images if image.endswith('.jpg')]\n",
        "\n",
        "    for image in tqdm(images):\n",
        "        fname = image.split('.jpg')[0]\n",
        "\n",
        "        try:\n",
        "            # check if the image is in the metadata file\n",
        "            label = df_labels.loc[df_labels['image_id'] == fname, 'label'].values[0]\n",
        "        except IndexError:\n",
        "            # if the image is not in the metadata file, delete it and continue to next one\n",
        "            os.remove(Path(IMAGES_DIRECTORY, image))\n",
        "            continue\n",
        "\n",
        "        src = str(Path(IMAGES_DIRECTORY, image))  # Convert path to string\n",
        "        dst = str(Path(IMAGES_DIRECTORY, label, image))  # Convert path to string\n",
        "\n",
        "        # Convert image to grayscale if config['color_mode'] is 'grayscale'\n",
        "        if config['color_mode'] == 'grayscale':\n",
        "            img = load_img(src, target_size=TARGET_SIZE)\n",
        "            img_array = tf.keras.preprocessing.image.img_to_array(img)\n",
        "            img_array = tf.expand_dims(img_array, 0)\n",
        "\n",
        "            # Create the grayscale conversion layer\n",
        "            grayscale_layer = ConvertToGrayscale()\n",
        "\n",
        "            # Convert the image to grayscale\n",
        "            grayscale_image = grayscale_layer(img_array)\n",
        "            grayscale_image = tf.squeeze(grayscale_image, axis=0)\n",
        "            grayscale_image = tf.cast(grayscale_image, dtype=tf.uint8)\n",
        "\n",
        "            # Save the grayscale image\n",
        "            tf.io.write_file(dst, tf.image.encode_jpeg(grayscale_image).numpy())\n",
        "        else:\n",
        "            shutil.move(src, dst)"
      ]
    },
    {
      "cell_type": "code",
      "execution_count": 9,
      "metadata": {
        "id": "VXNOc_A7RyJG",
        "colab": {
          "base_uri": "https://localhost:8080/"
        },
        "outputId": "d278aa74-cd29-49a6-ab6a-82e509a9243c"
      },
      "outputs": [
        {
          "output_type": "stream",
          "name": "stdout",
          "text": [
            "Zip file extracted\n"
          ]
        },
        {
          "output_type": "stream",
          "name": "stderr",
          "text": [
            "100%|██████████| 10015/10015 [00:04<00:00, 2067.95it/s]\n"
          ]
        }
      ],
      "source": [
        "if config['to_unzip']:\n",
        "    preprocess(class_names)\n",
        "\n",
        "# create the directories if they don't exist\n",
        "for n in ['models', 'history', 'predictions']:\n",
        "    if not os.path.exists(Path(DATA_PATH, n)):\n",
        "        os.makedirs(Path(DATA_PATH, n))"
      ]
    },
    {
      "cell_type": "code",
      "execution_count": 10,
      "metadata": {
        "id": "CABKxrgXkxzS",
        "colab": {
          "base_uri": "https://localhost:8080/",
          "height": 449
        },
        "outputId": "36b82632-4d7b-459f-a722-225a3eb2ee15"
      },
      "outputs": [
        {
          "output_type": "display_data",
          "data": {
            "text/plain": [
              "<Figure size 640x480 with 1 Axes>"
            ],
            "image/png": "[encoded data removed]"
          },
          "metadata": {}
        }
      ],
      "source": [
        "sns.countplot(x=df_labels['label'])\n",
        "plt.show()"
      ]
    },
    {
      "cell_type": "code",
      "execution_count": 11,
      "metadata": {
        "id": "fQzZJSNJkxzS",
        "colab": {
          "base_uri": "https://localhost:8080/"
        },
        "outputId": "a612090a-da8e-45af-836b-c48223f4793e"
      },
      "outputs": [
        {
          "output_type": "execute_result",
          "data": {
            "text/plain": [
              "{0: 4.564835164835165,\n",
              " 1: 5.115763546798029,\n",
              " 2: 1.7052545155993433,\n",
              " 3: 3.6184668989547037,\n",
              " 4: 1.5453869047619047,\n",
              " 5: 0.20061817830580508,\n",
              " 6: 10.989417989417989}"
            ]
          },
          "metadata": {},
          "execution_count": 11
        }
      ],
      "source": [
        "class_weights = class_weight.compute_class_weight('balanced', classes=class_names, y=df_labels['label'])\n",
        "class_wt_dict = dict(enumerate(class_weights))\n",
        "class_wt_dict"
      ]
    },
    {
      "cell_type": "markdown",
      "metadata": {
        "collapsed": false,
        "id": "9Sv6xb9OkxzT"
      },
      "source": [
        "# Using random data augmentation\n",
        "When you don't have a large image dataset, it's a good practice to artificially introduce sample diversity by applying random yet realistic transformations to the training images, such as random horizontal flipping or small random rotations. This helps expose the model to different aspects of the training data while slowing down overfitting."
      ]
    },
    {
      "cell_type": "code",
      "execution_count": 12,
      "metadata": {
        "id": "x3i8eAN8kxzT"
      },
      "outputs": [],
      "source": [
        "def get_augmentations(with_augmentations: bool) -> dict:\n",
        "    result = {}\n",
        "\n",
        "    if with_augmentations:\n",
        "        result = {\n",
        "            'horizontal_flip': True,\n",
        "            'vertical_flip': True,\n",
        "            'rotation_range': 30,\n",
        "            'width_shift_range': 0.1,\n",
        "            'height_shift_range': 0.1,\n",
        "            'shear_range': 0.1,\n",
        "            'zoom_range': 0.2,\n",
        "            'fill_mode': 'nearest',\n",
        "        }\n",
        "    else:\n",
        "        print('no augmentations')\n",
        "\n",
        "    return result\n",
        "\n",
        "\n",
        "data_augmentation = get_augmentations(config['with_augmentations'])"
      ]
    },
    {
      "cell_type": "markdown",
      "metadata": {
        "collapsed": false,
        "id": "zB56H6bXkxzT"
      },
      "source": [
        "# Build a model"
      ]
    },
    {
      "cell_type": "code",
      "execution_count": 13,
      "metadata": {
        "id": "CviWfBtWkxzT"
      },
      "outputs": [],
      "source": [
        "def get_model(name: str):\n",
        "    inputs = {\n",
        "        'weights': 'imagenet',  # load weights pre-trained on ImageNet\n",
        "        'include_top': False,  # do not include the ImageNet classifier at the top\n",
        "        'input_shape': TARGET_SIZE + (3,)\n",
        "    }\n",
        "\n",
        "    if name == 'ResNet50':\n",
        "        _base_model = ResNet50(**inputs)\n",
        "        _base_preprocess = tf.keras.applications.resnet50.preprocess_input\n",
        "        _last_conv_layer_name = 'conv5_block3_out'\n",
        "    elif name == 'InceptionResNetV2':\n",
        "        _base_model = InceptionResNetV2(**inputs)\n",
        "        _base_preprocess = tf.keras.applications.inception_resnet_v2.preprocess_input\n",
        "        _last_conv_layer_name = 'conv_7b_ac'\n",
        "    elif name == 'Xception':\n",
        "        _base_model = Xception(**inputs)\n",
        "        _base_preprocess = tf.keras.applications.xception.preprocess_input  # this model expects data in the range of (-1,1) and not (0,1)\n",
        "        _last_conv_layer_name = 'block14_sepconv2_act'\n",
        "    elif name == 'VGG19':\n",
        "        _base_model = VGG19(**inputs)\n",
        "        _base_preprocess = tf.keras.applications.vgg19.preprocess_input\n",
        "        _last_conv_layer_name = 'block5_conv4'\n",
        "    else:\n",
        "        raise ValueError('Invalid model name')\n",
        "\n",
        "    return _base_model, _base_preprocess, _last_conv_layer_name"
      ]
    },
    {
      "cell_type": "code",
      "execution_count": 14,
      "metadata": {
        "id": "tTDGDMKAkxzU",
        "colab": {
          "base_uri": "https://localhost:8080/"
        },
        "outputId": "781126c9-da6f-488c-9f60-65175a082826"
      },
      "outputs": [
        {
          "output_type": "stream",
          "name": "stdout",
          "text": [
            "Downloading data from https://storage.googleapis.com/tensorflow/keras-applications/resnet/resnet50_weights_tf_dim_ordering_tf_kernels_notop.h5\n",
            "94765736/94765736 [==============================] - 5s 0us/step\n"
          ]
        }
      ],
      "source": [
        "base_model, base_preprocess, last_conv_layer_name = get_model(config['model_name'])\n",
        "image_gen = ImageDataGenerator(preprocessing_function=base_preprocess, validation_split=0.15, **data_augmentation)"
      ]
    },
    {
      "cell_type": "markdown",
      "metadata": {
        "collapsed": false,
        "id": "FMRqY3iQkxzU"
      },
      "source": [
        "### Train Test Split"
      ]
    },
    {
      "cell_type": "code",
      "execution_count": 15,
      "metadata": {
        "id": "0vUlw2cMkxzU",
        "colab": {
          "base_uri": "https://localhost:8080/"
        },
        "outputId": "cea6d16b-91cc-4491-ba58-006f83469eed"
      },
      "outputs": [
        {
          "output_type": "stream",
          "name": "stdout",
          "text": [
            "Found 1769 images belonging to 7 classes.\n",
            "Found 308 images belonging to 7 classes.\n",
            "{'akiec': 0, 'bcc': 1, 'bkl': 2, 'df': 3, 'mel': 4, 'nv': 5, 'vasc': 6}\n"
          ]
        }
      ],
      "source": [
        "flow_from_directory_args = {\n",
        "    'directory': IMAGES_DIRECTORY,\n",
        "    'target_size': TARGET_SIZE,\n",
        "    'batch_size': BATCH_SIZE,\n",
        "    'color_mode': 'rgb',\n",
        "    'class_mode': 'categorical',\n",
        "    'seed': SEED,\n",
        "}\n",
        "\n",
        "train_image_gen = image_gen.flow_from_directory(subset='training', **flow_from_directory_args)\n",
        "test_image_gen = image_gen.flow_from_directory(subset='validation', shuffle=False, **flow_from_directory_args)\n",
        "print(test_image_gen.class_indices)"
      ]
    },
    {
      "cell_type": "code",
      "execution_count": 16,
      "metadata": {
        "id": "FcDb0bnxRyJH"
      },
      "outputs": [],
      "source": [
        "# save test_image_gen.classes to csv\n",
        "pd.DataFrame(test_image_gen.classes).to_csv(Path(ROOT, DATA_PATH, 'test_image_gen_classes.csv'), index=False)\n",
        "\n",
        "# save list(test_image_gen.class_indices.keys()) as csv\n",
        "pd.DataFrame(list(test_image_gen.class_indices.keys())).to_csv(\n",
        "    Path(ROOT, DATA_PATH, 'test_image_gen_class_indices.csv'), index=False)"
      ]
    },
    {
      "cell_type": "code",
      "execution_count": 17,
      "metadata": {
        "id": "4pKS_IhPkxzU",
        "colab": {
          "base_uri": "https://localhost:8080/",
          "height": 447
        },
        "outputId": "971d991a-42a0-44b8-b5bd-3a19acc07cf5"
      },
      "outputs": [
        {
          "output_type": "execute_result",
          "data": {
            "text/plain": [
              "<Axes: ylabel='count'>"
            ]
          },
          "metadata": {},
          "execution_count": 17
        },
        {
          "output_type": "display_data",
          "data": {
            "text/plain": [
              "<Figure size 640x480 with 1 Axes>"
            ],
            "image/png": "[encoded data removed]"
          },
          "metadata": {}
        }
      ],
      "source": [
        "sns.countplot(x=test_image_gen.classes)"
      ]
    },
    {
      "cell_type": "code",
      "execution_count": 18,
      "metadata": {
        "id": "0UmQ5H4okxzV",
        "colab": {
          "base_uri": "https://localhost:8080/",
          "height": 469
        },
        "outputId": "bb954d88-0cee-4b27-d2f0-e394c46db0a1"
      },
      "outputs": [
        {
          "output_type": "stream",
          "name": "stderr",
          "text": [
            "WARNING:matplotlib.image:Clipping input data to the valid range for imshow with RGB data ([0..1] for floats or [0..255] for integers).\n"
          ]
        },
        {
          "output_type": "execute_result",
          "data": {
            "text/plain": [
              "<matplotlib.image.AxesImage at 0x7f791e7063b0>"
            ]
          },
          "metadata": {},
          "execution_count": 18
        },
        {
          "output_type": "display_data",
          "data": {
            "text/plain": [
              "<Figure size 640x480 with 1 Axes>"
            ],
            "image/png": "[encoded data removed]"
          },
          "metadata": {}
        }
      ],
      "source": [
        "plt.imshow(train_image_gen[0][0][0])"
      ]
    },
    {
      "cell_type": "code",
      "execution_count": 19,
      "metadata": {
        "id": "FFFU_X3SkxzV"
      },
      "outputs": [],
      "source": [
        "for layer in base_model.layers:\n",
        "    layer.trainable = True\n",
        "\n",
        "x = base_model.output\n",
        "x = GlobalAveragePooling2D()(x)\n",
        "x = Dense(256, kernel_regularizer='l2', activation='relu')(x)\n",
        "x = Dropout(0.5)(x)\n",
        "x = Dense(len(class_names), activation='softmax')(x)\n",
        "model = Model(inputs=base_model.input, outputs=x)"
      ]
    },
    {
      "cell_type": "code",
      "execution_count": 20,
      "metadata": {
        "id": "AVZu_leykxzV",
        "colab": {
          "base_uri": "https://localhost:8080/"
        },
        "outputId": "a636e7f9-c654-41a0-eb8b-bdc28b008bb7"
      },
      "outputs": [
        {
          "output_type": "stream",
          "name": "stdout",
          "text": [
            "Model: \"model\"\n",
            "__________________________________________________________________________________________________\n",
            " Layer (type)                   Output Shape         Param #     Connected to                     \n",
            "==================================================================================================\n",
            " input_1 (InputLayer)           [(None, 224, 224, 3  0           []                               \n",
            "                                )]                                                                \n",
            "                                                                                                  \n",
            " conv1_pad (ZeroPadding2D)      (None, 230, 230, 3)  0           ['input_1[0][0]']                \n",
            "                                                                                                  \n",
            " conv1_conv (Conv2D)            (None, 112, 112, 64  9472        ['conv1_pad[0][0]']              \n",
            "                                )                                                                 \n",
            "                                                                                                  \n",
            " conv1_bn (BatchNormalization)  (None, 112, 112, 64  256         ['conv1_conv[0][0]']             \n",
            "                                )                                                                 \n",
            "                                                                                                  \n",
            " conv1_relu (Activation)        (None, 112, 112, 64  0           ['conv1_bn[0][0]']               \n",
            "                                )                                                                 \n",
            "                                                                                                  \n",
            " pool1_pad (ZeroPadding2D)      (None, 114, 114, 64  0           ['conv1_relu[0][0]']             \n",
            "                                )                                                                 \n",
            "                                                                                                  \n",
            " pool1_pool (MaxPooling2D)      (None, 56, 56, 64)   0           ['pool1_pad[0][0]']              \n",
            "                                                                                                  \n",
            " conv2_block1_1_conv (Conv2D)   (None, 56, 56, 64)   4160        ['pool1_pool[0][0]']             \n",
            "                                                                                                  \n",
            " conv2_block1_1_bn (BatchNormal  (None, 56, 56, 64)  256         ['conv2_block1_1_conv[0][0]']    \n",
            " ization)                                                                                         \n",
            "                                                                                                  \n",
            " conv2_block1_1_relu (Activatio  (None, 56, 56, 64)  0           ['conv2_block1_1_bn[0][0]']      \n",
            " n)                                                                                               \n",
            "                                                                                                  \n",
            " conv2_block1_2_conv (Conv2D)   (None, 56, 56, 64)   36928       ['conv2_block1_1_relu[0][0]']    \n",
            "                                                                                                  \n",
            " conv2_block1_2_bn (BatchNormal  (None, 56, 56, 64)  256         ['conv2_block1_2_conv[0][0]']    \n",
            " ization)                                                                                         \n",
            "                                                                                                  \n",
            " conv2_block1_2_relu (Activatio  (None, 56, 56, 64)  0           ['conv2_block1_2_bn[0][0]']      \n",
            " n)                                                                                               \n",
            "                                                                                                  \n",
            " conv2_block1_0_conv (Conv2D)   (None, 56, 56, 256)  16640       ['pool1_pool[0][0]']             \n",
            "                                                                                                  \n",
            " conv2_block1_3_conv (Conv2D)   (None, 56, 56, 256)  16640       ['conv2_block1_2_relu[0][0]']    \n",
            "                                                                                                  \n",
            " conv2_block1_0_bn (BatchNormal  (None, 56, 56, 256)  1024       ['conv2_block1_0_conv[0][0]']    \n",
            " ization)                                                                                         \n",
            "                                                                                                  \n",
            " conv2_block1_3_bn (BatchNormal  (None, 56, 56, 256)  1024       ['conv2_block1_3_conv[0][0]']    \n",
            " ization)                                                                                         \n",
            "                                                                                                  \n",
            " conv2_block1_add (Add)         (None, 56, 56, 256)  0           ['conv2_block1_0_bn[0][0]',      \n",
            "                                                                  'conv2_block1_3_bn[0][0]']      \n",
            "                                                                                                  \n",
            " conv2_block1_out (Activation)  (None, 56, 56, 256)  0           ['conv2_block1_add[0][0]']       \n",
            "                                                                                                  \n",
            " conv2_block2_1_conv (Conv2D)   (None, 56, 56, 64)   16448       ['conv2_block1_out[0][0]']       \n",
            "                                                                                                  \n",
            " conv2_block2_1_bn (BatchNormal  (None, 56, 56, 64)  256         ['conv2_block2_1_conv[0][0]']    \n",
            " ization)                                                                                         \n",
            "                                                                                                  \n",
            " conv2_block2_1_relu (Activatio  (None, 56, 56, 64)  0           ['conv2_block2_1_bn[0][0]']      \n",
            " n)                                                                                               \n",
            "                                                                                                  \n",
            " conv2_block2_2_conv (Conv2D)   (None, 56, 56, 64)   36928       ['conv2_block2_1_relu[0][0]']    \n",
            "                                                                                                  \n",
            " conv2_block2_2_bn (BatchNormal  (None, 56, 56, 64)  256         ['conv2_block2_2_conv[0][0]']    \n",
            " ization)                                                                                         \n",
            "                                                                                                  \n",
            " conv2_block2_2_relu (Activatio  (None, 56, 56, 64)  0           ['conv2_block2_2_bn[0][0]']      \n",
            " n)                                                                                               \n",
            "                                                                                                  \n",
            " conv2_block2_3_conv (Conv2D)   (None, 56, 56, 256)  16640       ['conv2_block2_2_relu[0][0]']    \n",
            "                                                                                                  \n",
            " conv2_block2_3_bn (BatchNormal  (None, 56, 56, 256)  1024       ['conv2_block2_3_conv[0][0]']    \n",
            " ization)                                                                                         \n",
            "                                                                                                  \n",
            " conv2_block2_add (Add)         (None, 56, 56, 256)  0           ['conv2_block1_out[0][0]',       \n",
            "                                                                  'conv2_block2_3_bn[0][0]']      \n",
            "                                                                                                  \n",
            " conv2_block2_out (Activation)  (None, 56, 56, 256)  0           ['conv2_block2_add[0][0]']       \n",
            "                                                                                                  \n",
            " conv2_block3_1_conv (Conv2D)   (None, 56, 56, 64)   16448       ['conv2_block2_out[0][0]']       \n",
            "                                                                                                  \n",
            " conv2_block3_1_bn (BatchNormal  (None, 56, 56, 64)  256         ['conv2_block3_1_conv[0][0]']    \n",
            " ization)                                                                                         \n",
            "                                                                                                  \n",
            " conv2_block3_1_relu (Activatio  (None, 56, 56, 64)  0           ['conv2_block3_1_bn[0][0]']      \n",
            " n)                                                                                               \n",
            "                                                                                                  \n",
            " conv2_block3_2_conv (Conv2D)   (None, 56, 56, 64)   36928       ['conv2_block3_1_relu[0][0]']    \n",
            "                                                                                                  \n",
            " conv2_block3_2_bn (BatchNormal  (None, 56, 56, 64)  256         ['conv2_block3_2_conv[0][0]']    \n",
            " ization)                                                                                         \n",
            "                                                                                                  \n",
            " conv2_block3_2_relu (Activatio  (None, 56, 56, 64)  0           ['conv2_block3_2_bn[0][0]']      \n",
            " n)                                                                                               \n",
            "                                                                                                  \n",
            " conv2_block3_3_conv (Conv2D)   (None, 56, 56, 256)  16640       ['conv2_block3_2_relu[0][0]']    \n",
            "                                                                                                  \n",
            " conv2_block3_3_bn (BatchNormal  (None, 56, 56, 256)  1024       ['conv2_block3_3_conv[0][0]']    \n",
            " ization)                                                                                         \n",
            "                                                                                                  \n",
            " conv2_block3_add (Add)         (None, 56, 56, 256)  0           ['conv2_block2_out[0][0]',       \n",
            "                                                                  'conv2_block3_3_bn[0][0]']      \n",
            "                                                                                                  \n",
            " conv2_block3_out (Activation)  (None, 56, 56, 256)  0           ['conv2_block3_add[0][0]']       \n",
            "                                                                                                  \n",
            " conv3_block1_1_conv (Conv2D)   (None, 28, 28, 128)  32896       ['conv2_block3_out[0][0]']       \n",
            "                                                                                                  \n",
            " conv3_block1_1_bn (BatchNormal  (None, 28, 28, 128)  512        ['conv3_block1_1_conv[0][0]']    \n",
            " ization)                                                                                         \n",
            "                                                                                                  \n",
            " conv3_block1_1_relu (Activatio  (None, 28, 28, 128)  0          ['conv3_block1_1_bn[0][0]']      \n",
            " n)                                                                                               \n",
            "                                                                                                  \n",
            " conv3_block1_2_conv (Conv2D)   (None, 28, 28, 128)  147584      ['conv3_block1_1_relu[0][0]']    \n",
            "                                                                                                  \n",
            " conv3_block1_2_bn (BatchNormal  (None, 28, 28, 128)  512        ['conv3_block1_2_conv[0][0]']    \n",
            " ization)                                                                                         \n",
            "                                                                                                  \n",
            " conv3_block1_2_relu (Activatio  (None, 28, 28, 128)  0          ['conv3_block1_2_bn[0][0]']      \n",
            " n)                                                                                               \n",
            "                                                                                                  \n",
            " conv3_block1_0_conv (Conv2D)   (None, 28, 28, 512)  131584      ['conv2_block3_out[0][0]']       \n",
            "                                                                                                  \n",
            " conv3_block1_3_conv (Conv2D)   (None, 28, 28, 512)  66048       ['conv3_block1_2_relu[0][0]']    \n",
            "                                                                                                  \n",
            " conv3_block1_0_bn (BatchNormal  (None, 28, 28, 512)  2048       ['conv3_block1_0_conv[0][0]']    \n",
            " ization)                                                                                         \n",
            "                                                                                                  \n",
            " conv3_block1_3_bn (BatchNormal  (None, 28, 28, 512)  2048       ['conv3_block1_3_conv[0][0]']    \n",
            " ization)                                                                                         \n",
            "                                                                                                  \n",
            " conv3_block1_add (Add)         (None, 28, 28, 512)  0           ['conv3_block1_0_bn[0][0]',      \n",
            "                                                                  'conv3_block1_3_bn[0][0]']      \n",
            "                                                                                                  \n",
            " conv3_block1_out (Activation)  (None, 28, 28, 512)  0           ['conv3_block1_add[0][0]']       \n",
            "                                                                                                  \n",
            " conv3_block2_1_conv (Conv2D)   (None, 28, 28, 128)  65664       ['conv3_block1_out[0][0]']       \n",
            "                                                                                                  \n",
            " conv3_block2_1_bn (BatchNormal  (None, 28, 28, 128)  512        ['conv3_block2_1_conv[0][0]']    \n",
            " ization)                                                                                         \n",
            "                                                                                                  \n",
            " conv3_block2_1_relu (Activatio  (None, 28, 28, 128)  0          ['conv3_block2_1_bn[0][0]']      \n",
            " n)                                                                                               \n",
            "                                                                                                  \n",
            " conv3_block2_2_conv (Conv2D)   (None, 28, 28, 128)  147584      ['conv3_block2_1_relu[0][0]']    \n",
            "                                                                                                  \n",
            " conv3_block2_2_bn (BatchNormal  (None, 28, 28, 128)  512        ['conv3_block2_2_conv[0][0]']    \n",
            " ization)                                                                                         \n",
            "                                                                                                  \n",
            " conv3_block2_2_relu (Activatio  (None, 28, 28, 128)  0          ['conv3_block2_2_bn[0][0]']      \n",
            " n)                                                                                               \n",
            "                                                                                                  \n",
            " conv3_block2_3_conv (Conv2D)   (None, 28, 28, 512)  66048       ['conv3_block2_2_relu[0][0]']    \n",
            "                                                                                                  \n",
            " conv3_block2_3_bn (BatchNormal  (None, 28, 28, 512)  2048       ['conv3_block2_3_conv[0][0]']    \n",
            " ization)                                                                                         \n",
            "                                                                                                  \n",
            " conv3_block2_add (Add)         (None, 28, 28, 512)  0           ['conv3_block1_out[0][0]',       \n",
            "                                                                  'conv3_block2_3_bn[0][0]']      \n",
            "                                                                                                  \n",
            " conv3_block2_out (Activation)  (None, 28, 28, 512)  0           ['conv3_block2_add[0][0]']       \n",
            "                                                                                                  \n",
            " conv3_block3_1_conv (Conv2D)   (None, 28, 28, 128)  65664       ['conv3_block2_out[0][0]']       \n",
            "                                                                                                  \n",
            " conv3_block3_1_bn (BatchNormal  (None, 28, 28, 128)  512        ['conv3_block3_1_conv[0][0]']    \n",
            " ization)                                                                                         \n",
            "                                                                                                  \n",
            " conv3_block3_1_relu (Activatio  (None, 28, 28, 128)  0          ['conv3_block3_1_bn[0][0]']      \n",
            " n)                                                                                               \n",
            "                                                                                                  \n",
            " conv3_block3_2_conv (Conv2D)   (None, 28, 28, 128)  147584      ['conv3_block3_1_relu[0][0]']    \n",
            "                                                                                                  \n",
            " conv3_block3_2_bn (BatchNormal  (None, 28, 28, 128)  512        ['conv3_block3_2_conv[0][0]']    \n",
            " ization)                                                                                         \n",
            "                                                                                                  \n",
            " conv3_block3_2_relu (Activatio  (None, 28, 28, 128)  0          ['conv3_block3_2_bn[0][0]']      \n",
            " n)                                                                                               \n",
            "                                                                                                  \n",
            " conv3_block3_3_conv (Conv2D)   (None, 28, 28, 512)  66048       ['conv3_block3_2_relu[0][0]']    \n",
            "                                                                                                  \n",
            " conv3_block3_3_bn (BatchNormal  (None, 28, 28, 512)  2048       ['conv3_block3_3_conv[0][0]']    \n",
            " ization)                                                                                         \n",
            "                                                                                                  \n",
            " conv3_block3_add (Add)         (None, 28, 28, 512)  0           ['conv3_block2_out[0][0]',       \n",
            "                                                                  'conv3_block3_3_bn[0][0]']      \n",
            "                                                                                                  \n",
            " conv3_block3_out (Activation)  (None, 28, 28, 512)  0           ['conv3_block3_add[0][0]']       \n",
            "                                                                                                  \n",
            " conv3_block4_1_conv (Conv2D)   (None, 28, 28, 128)  65664       ['conv3_block3_out[0][0]']       \n",
            "                                                                                                  \n",
            " conv3_block4_1_bn (BatchNormal  (None, 28, 28, 128)  512        ['conv3_block4_1_conv[0][0]']    \n",
            " ization)                                                                                         \n",
            "                                                                                                  \n",
            " conv3_block4_1_relu (Activatio  (None, 28, 28, 128)  0          ['conv3_block4_1_bn[0][0]']      \n",
            " n)                                                                                               \n",
            "                                                                                                  \n",
            " conv3_block4_2_conv (Conv2D)   (None, 28, 28, 128)  147584      ['conv3_block4_1_relu[0][0]']    \n",
            "                                                                                                  \n",
            " conv3_block4_2_bn (BatchNormal  (None, 28, 28, 128)  512        ['conv3_block4_2_conv[0][0]']    \n",
            " ization)                                                                                         \n",
            "                                                                                                  \n",
            " conv3_block4_2_relu (Activatio  (None, 28, 28, 128)  0          ['conv3_block4_2_bn[0][0]']      \n",
            " n)                                                                                               \n",
            "                                                                                                  \n",
            " conv3_block4_3_conv (Conv2D)   (None, 28, 28, 512)  66048       ['conv3_block4_2_relu[0][0]']    \n",
            "                                                                                                  \n",
            " conv3_block4_3_bn (BatchNormal  (None, 28, 28, 512)  2048       ['conv3_block4_3_conv[0][0]']    \n",
            " ization)                                                                                         \n",
            "                                                                                                  \n",
            " conv3_block4_add (Add)         (None, 28, 28, 512)  0           ['conv3_block3_out[0][0]',       \n",
            "                                                                  'conv3_block4_3_bn[0][0]']      \n",
            "                                                                                                  \n",
            " conv3_block4_out (Activation)  (None, 28, 28, 512)  0           ['conv3_block4_add[0][0]']       \n",
            "                                                                                                  \n",
            " conv4_block1_1_conv (Conv2D)   (None, 14, 14, 256)  131328      ['conv3_block4_out[0][0]']       \n",
            "                                                                                                  \n",
            " conv4_block1_1_bn (BatchNormal  (None, 14, 14, 256)  1024       ['conv4_block1_1_conv[0][0]']    \n",
            " ization)                                                                                         \n",
            "                                                                                                  \n",
            " conv4_block1_1_relu (Activatio  (None, 14, 14, 256)  0          ['conv4_block1_1_bn[0][0]']      \n",
            " n)                                                                                               \n",
            "                                                                                                  \n",
            " conv4_block1_2_conv (Conv2D)   (None, 14, 14, 256)  590080      ['conv4_block1_1_relu[0][0]']    \n",
            "                                                                                                  \n",
            " conv4_block1_2_bn (BatchNormal  (None, 14, 14, 256)  1024       ['conv4_block1_2_conv[0][0]']    \n",
            " ization)                                                                                         \n",
            "                                                                                                  \n",
            " conv4_block1_2_relu (Activatio  (None, 14, 14, 256)  0          ['conv4_block1_2_bn[0][0]']      \n",
            " n)                                                                                               \n",
            "                                                                                                  \n",
            " conv4_block1_0_conv (Conv2D)   (None, 14, 14, 1024  525312      ['conv3_block4_out[0][0]']       \n",
            "                                )                                                                 \n",
            "                                                                                                  \n",
            " conv4_block1_3_conv (Conv2D)   (None, 14, 14, 1024  263168      ['conv4_block1_2_relu[0][0]']    \n",
            "                                )                                                                 \n",
            "                                                                                                  \n",
            " conv4_block1_0_bn (BatchNormal  (None, 14, 14, 1024  4096       ['conv4_block1_0_conv[0][0]']    \n",
            " ization)                       )                                                                 \n",
            "                                                                                                  \n",
            " conv4_block1_3_bn (BatchNormal  (None, 14, 14, 1024  4096       ['conv4_block1_3_conv[0][0]']    \n",
            " ization)                       )                                                                 \n",
            "                                                                                                  \n",
            " conv4_block1_add (Add)         (None, 14, 14, 1024  0           ['conv4_block1_0_bn[0][0]',      \n",
            "                                )                                 'conv4_block1_3_bn[0][0]']      \n",
            "                                                                                                  \n",
            " conv4_block1_out (Activation)  (None, 14, 14, 1024  0           ['conv4_block1_add[0][0]']       \n",
            "                                )                                                                 \n",
            "                                                                                                  \n",
            " conv4_block2_1_conv (Conv2D)   (None, 14, 14, 256)  262400      ['conv4_block1_out[0][0]']       \n",
            "                                                                                                  \n",
            " conv4_block2_1_bn (BatchNormal  (None, 14, 14, 256)  1024       ['conv4_block2_1_conv[0][0]']    \n",
            " ization)                                                                                         \n",
            "                                                                                                  \n",
            " conv4_block2_1_relu (Activatio  (None, 14, 14, 256)  0          ['conv4_block2_1_bn[0][0]']      \n",
            " n)                                                                                               \n",
            "                                                                                                  \n",
            " conv4_block2_2_conv (Conv2D)   (None, 14, 14, 256)  590080      ['conv4_block2_1_relu[0][0]']    \n",
            "                                                                                                  \n",
            " conv4_block2_2_bn (BatchNormal  (None, 14, 14, 256)  1024       ['conv4_block2_2_conv[0][0]']    \n",
            " ization)                                                                                         \n",
            "                                                                                                  \n",
            " conv4_block2_2_relu (Activatio  (None, 14, 14, 256)  0          ['conv4_block2_2_bn[0][0]']      \n",
            " n)                                                                                               \n",
            "                                                                                                  \n",
            " conv4_block2_3_conv (Conv2D)   (None, 14, 14, 1024  263168      ['conv4_block2_2_relu[0][0]']    \n",
            "                                )                                                                 \n",
            "                                                                                                  \n",
            " conv4_block2_3_bn (BatchNormal  (None, 14, 14, 1024  4096       ['conv4_block2_3_conv[0][0]']    \n",
            " ization)                       )                                                                 \n",
            "                                                                                                  \n",
            " conv4_block2_add (Add)         (None, 14, 14, 1024  0           ['conv4_block1_out[0][0]',       \n",
            "                                )                                 'conv4_block2_3_bn[0][0]']      \n",
            "                                                                                                  \n",
            " conv4_block2_out (Activation)  (None, 14, 14, 1024  0           ['conv4_block2_add[0][0]']       \n",
            "                                )                                                                 \n",
            "                                                                                                  \n",
            " conv4_block3_1_conv (Conv2D)   (None, 14, 14, 256)  262400      ['conv4_block2_out[0][0]']       \n",
            "                                                                                                  \n",
            " conv4_block3_1_bn (BatchNormal  (None, 14, 14, 256)  1024       ['conv4_block3_1_conv[0][0]']    \n",
            " ization)                                                                                         \n",
            "                                                                                                  \n",
            " conv4_block3_1_relu (Activatio  (None, 14, 14, 256)  0          ['conv4_block3_1_bn[0][0]']      \n",
            " n)                                                                                               \n",
            "                                                                                                  \n",
            " conv4_block3_2_conv (Conv2D)   (None, 14, 14, 256)  590080      ['conv4_block3_1_relu[0][0]']    \n",
            "                                                                                                  \n",
            " conv4_block3_2_bn (BatchNormal  (None, 14, 14, 256)  1024       ['conv4_block3_2_conv[0][0]']    \n",
            " ization)                                                                                         \n",
            "                                                                                                  \n",
            " conv4_block3_2_relu (Activatio  (None, 14, 14, 256)  0          ['conv4_block3_2_bn[0][0]']      \n",
            " n)                                                                                               \n",
            "                                                                                                  \n",
            " conv4_block3_3_conv (Conv2D)   (None, 14, 14, 1024  263168      ['conv4_block3_2_relu[0][0]']    \n",
            "                                )                                                                 \n",
            "                                                                                                  \n",
            " conv4_block3_3_bn (BatchNormal  (None, 14, 14, 1024  4096       ['conv4_block3_3_conv[0][0]']    \n",
            " ization)                       )                                                                 \n",
            "                                                                                                  \n",
            " conv4_block3_add (Add)         (None, 14, 14, 1024  0           ['conv4_block2_out[0][0]',       \n",
            "                                )                                 'conv4_block3_3_bn[0][0]']      \n",
            "                                                                                                  \n",
            " conv4_block3_out (Activation)  (None, 14, 14, 1024  0           ['conv4_block3_add[0][0]']       \n",
            "                                )                                                                 \n",
            "                                                                                                  \n",
            " conv4_block4_1_conv (Conv2D)   (None, 14, 14, 256)  262400      ['conv4_block3_out[0][0]']       \n",
            "                                                                                                  \n",
            " conv4_block4_1_bn (BatchNormal  (None, 14, 14, 256)  1024       ['conv4_block4_1_conv[0][0]']    \n",
            " ization)                                                                                         \n",
            "                                                                                                  \n",
            " conv4_block4_1_relu (Activatio  (None, 14, 14, 256)  0          ['conv4_block4_1_bn[0][0]']      \n",
            " n)                                                                                               \n",
            "                                                                                                  \n",
            " conv4_block4_2_conv (Conv2D)   (None, 14, 14, 256)  590080      ['conv4_block4_1_relu[0][0]']    \n",
            "                                                                                                  \n",
            " conv4_block4_2_bn (BatchNormal  (None, 14, 14, 256)  1024       ['conv4_block4_2_conv[0][0]']    \n",
            " ization)                                                                                         \n",
            "                                                                                                  \n",
            " conv4_block4_2_relu (Activatio  (None, 14, 14, 256)  0          ['conv4_block4_2_bn[0][0]']      \n",
            " n)                                                                                               \n",
            "                                                                                                  \n",
            " conv4_block4_3_conv (Conv2D)   (None, 14, 14, 1024  263168      ['conv4_block4_2_relu[0][0]']    \n",
            "                                )                                                                 \n",
            "                                                                                                  \n",
            " conv4_block4_3_bn (BatchNormal  (None, 14, 14, 1024  4096       ['conv4_block4_3_conv[0][0]']    \n",
            " ization)                       )                                                                 \n",
            "                                                                                                  \n",
            " conv4_block4_add (Add)         (None, 14, 14, 1024  0           ['conv4_block3_out[0][0]',       \n",
            "                                )                                 'conv4_block4_3_bn[0][0]']      \n",
            "                                                                                                  \n",
            " conv4_block4_out (Activation)  (None, 14, 14, 1024  0           ['conv4_block4_add[0][0]']       \n",
            "                                )                                                                 \n",
            "                                                                                                  \n",
            " conv4_block5_1_conv (Conv2D)   (None, 14, 14, 256)  262400      ['conv4_block4_out[0][0]']       \n",
            "                                                                                                  \n",
            " conv4_block5_1_bn (BatchNormal  (None, 14, 14, 256)  1024       ['conv4_block5_1_conv[0][0]']    \n",
            " ization)                                                                                         \n",
            "                                                                                                  \n",
            " conv4_block5_1_relu (Activatio  (None, 14, 14, 256)  0          ['conv4_block5_1_bn[0][0]']      \n",
            " n)                                                                                               \n",
            "                                                                                                  \n",
            " conv4_block5_2_conv (Conv2D)   (None, 14, 14, 256)  590080      ['conv4_block5_1_relu[0][0]']    \n",
            "                                                                                                  \n",
            " conv4_block5_2_bn (BatchNormal  (None, 14, 14, 256)  1024       ['conv4_block5_2_conv[0][0]']    \n",
            " ization)                                                                                         \n",
            "                                                                                                  \n",
            " conv4_block5_2_relu (Activatio  (None, 14, 14, 256)  0          ['conv4_block5_2_bn[0][0]']      \n",
            " n)                                                                                               \n",
            "                                                                                                  \n",
            " conv4_block5_3_conv (Conv2D)   (None, 14, 14, 1024  263168      ['conv4_block5_2_relu[0][0]']    \n",
            "                                )                                                                 \n",
            "                                                                                                  \n",
            " conv4_block5_3_bn (BatchNormal  (None, 14, 14, 1024  4096       ['conv4_block5_3_conv[0][0]']    \n",
            " ization)                       )                                                                 \n",
            "                                                                                                  \n",
            " conv4_block5_add (Add)         (None, 14, 14, 1024  0           ['conv4_block4_out[0][0]',       \n",
            "                                )                                 'conv4_block5_3_bn[0][0]']      \n",
            "                                                                                                  \n",
            " conv4_block5_out (Activation)  (None, 14, 14, 1024  0           ['conv4_block5_add[0][0]']       \n",
            "                                )                                                                 \n",
            "                                                                                                  \n",
            " conv4_block6_1_conv (Conv2D)   (None, 14, 14, 256)  262400      ['conv4_block5_out[0][0]']       \n",
            "                                                                                                  \n",
            " conv4_block6_1_bn (BatchNormal  (None, 14, 14, 256)  1024       ['conv4_block6_1_conv[0][0]']    \n",
            " ization)                                                                                         \n",
            "                                                                                                  \n",
            " conv4_block6_1_relu (Activatio  (None, 14, 14, 256)  0          ['conv4_block6_1_bn[0][0]']      \n",
            " n)                                                                                               \n",
            "                                                                                                  \n",
            " conv4_block6_2_conv (Conv2D)   (None, 14, 14, 256)  590080      ['conv4_block6_1_relu[0][0]']    \n",
            "                                                                                                  \n",
            " conv4_block6_2_bn (BatchNormal  (None, 14, 14, 256)  1024       ['conv4_block6_2_conv[0][0]']    \n",
            " ization)                                                                                         \n",
            "                                                                                                  \n",
            " conv4_block6_2_relu (Activatio  (None, 14, 14, 256)  0          ['conv4_block6_2_bn[0][0]']      \n",
            " n)                                                                                               \n",
            "                                                                                                  \n",
            " conv4_block6_3_conv (Conv2D)   (None, 14, 14, 1024  263168      ['conv4_block6_2_relu[0][0]']    \n",
            "                                )                                                                 \n",
            "                                                                                                  \n",
            " conv4_block6_3_bn (BatchNormal  (None, 14, 14, 1024  4096       ['conv4_block6_3_conv[0][0]']    \n",
            " ization)                       )                                                                 \n",
            "                                                                                                  \n",
            " conv4_block6_add (Add)         (None, 14, 14, 1024  0           ['conv4_block5_out[0][0]',       \n",
            "                                )                                 'conv4_block6_3_bn[0][0]']      \n",
            "                                                                                                  \n",
            " conv4_block6_out (Activation)  (None, 14, 14, 1024  0           ['conv4_block6_add[0][0]']       \n",
            "                                )                                                                 \n",
            "                                                                                                  \n",
            " conv5_block1_1_conv (Conv2D)   (None, 7, 7, 512)    524800      ['conv4_block6_out[0][0]']       \n",
            "                                                                                                  \n",
            " conv5_block1_1_bn (BatchNormal  (None, 7, 7, 512)   2048        ['conv5_block1_1_conv[0][0]']    \n",
            " ization)                                                                                         \n",
            "                                                                                                  \n",
            " conv5_block1_1_relu (Activatio  (None, 7, 7, 512)   0           ['conv5_block1_1_bn[0][0]']      \n",
            " n)                                                                                               \n",
            "                                                                                                  \n",
            " conv5_block1_2_conv (Conv2D)   (None, 7, 7, 512)    2359808     ['conv5_block1_1_relu[0][0]']    \n",
            "                                                                                                  \n",
            " conv5_block1_2_bn (BatchNormal  (None, 7, 7, 512)   2048        ['conv5_block1_2_conv[0][0]']    \n",
            " ization)                                                                                         \n",
            "                                                                                                  \n",
            " conv5_block1_2_relu (Activatio  (None, 7, 7, 512)   0           ['conv5_block1_2_bn[0][0]']      \n",
            " n)                                                                                               \n",
            "                                                                                                  \n",
            " conv5_block1_0_conv (Conv2D)   (None, 7, 7, 2048)   2099200     ['conv4_block6_out[0][0]']       \n",
            "                                                                                                  \n",
            " conv5_block1_3_conv (Conv2D)   (None, 7, 7, 2048)   1050624     ['conv5_block1_2_relu[0][0]']    \n",
            "                                                                                                  \n",
            " conv5_block1_0_bn (BatchNormal  (None, 7, 7, 2048)  8192        ['conv5_block1_0_conv[0][0]']    \n",
            " ization)                                                                                         \n",
            "                                                                                                  \n",
            " conv5_block1_3_bn (BatchNormal  (None, 7, 7, 2048)  8192        ['conv5_block1_3_conv[0][0]']    \n",
            " ization)                                                                                         \n",
            "                                                                                                  \n",
            " conv5_block1_add (Add)         (None, 7, 7, 2048)   0           ['conv5_block1_0_bn[0][0]',      \n",
            "                                                                  'conv5_block1_3_bn[0][0]']      \n",
            "                                                                                                  \n",
            " conv5_block1_out (Activation)  (None, 7, 7, 2048)   0           ['conv5_block1_add[0][0]']       \n",
            "                                                                                                  \n",
            " conv5_block2_1_conv (Conv2D)   (None, 7, 7, 512)    1049088     ['conv5_block1_out[0][0]']       \n",
            "                                                                                                  \n",
            " conv5_block2_1_bn (BatchNormal  (None, 7, 7, 512)   2048        ['conv5_block2_1_conv[0][0]']    \n",
            " ization)                                                                                         \n",
            "                                                                                                  \n",
            " conv5_block2_1_relu (Activatio  (None, 7, 7, 512)   0           ['conv5_block2_1_bn[0][0]']      \n",
            " n)                                                                                               \n",
            "                                                                                                  \n",
            " conv5_block2_2_conv (Conv2D)   (None, 7, 7, 512)    2359808     ['conv5_block2_1_relu[0][0]']    \n",
            "                                                                                                  \n",
            " conv5_block2_2_bn (BatchNormal  (None, 7, 7, 512)   2048        ['conv5_block2_2_conv[0][0]']    \n",
            " ization)                                                                                         \n",
            "                                                                                                  \n",
            " conv5_block2_2_relu (Activatio  (None, 7, 7, 512)   0           ['conv5_block2_2_bn[0][0]']      \n",
            " n)                                                                                               \n",
            "                                                                                                  \n",
            " conv5_block2_3_conv (Conv2D)   (None, 7, 7, 2048)   1050624     ['conv5_block2_2_relu[0][0]']    \n",
            "                                                                                                  \n",
            " conv5_block2_3_bn (BatchNormal  (None, 7, 7, 2048)  8192        ['conv5_block2_3_conv[0][0]']    \n",
            " ization)                                                                                         \n",
            "                                                                                                  \n",
            " conv5_block2_add (Add)         (None, 7, 7, 2048)   0           ['conv5_block1_out[0][0]',       \n",
            "                                                                  'conv5_block2_3_bn[0][0]']      \n",
            "                                                                                                  \n",
            " conv5_block2_out (Activation)  (None, 7, 7, 2048)   0           ['conv5_block2_add[0][0]']       \n",
            "                                                                                                  \n",
            " conv5_block3_1_conv (Conv2D)   (None, 7, 7, 512)    1049088     ['conv5_block2_out[0][0]']       \n",
            "                                                                                                  \n",
            " conv5_block3_1_bn (BatchNormal  (None, 7, 7, 512)   2048        ['conv5_block3_1_conv[0][0]']    \n",
            " ization)                                                                                         \n",
            "                                                                                                  \n",
            " conv5_block3_1_relu (Activatio  (None, 7, 7, 512)   0           ['conv5_block3_1_bn[0][0]']      \n",
            " n)                                                                                               \n",
            "                                                                                                  \n",
            " conv5_block3_2_conv (Conv2D)   (None, 7, 7, 512)    2359808     ['conv5_block3_1_relu[0][0]']    \n",
            "                                                                                                  \n",
            " conv5_block3_2_bn (BatchNormal  (None, 7, 7, 512)   2048        ['conv5_block3_2_conv[0][0]']    \n",
            " ization)                                                                                         \n",
            "                                                                                                  \n",
            " conv5_block3_2_relu (Activatio  (None, 7, 7, 512)   0           ['conv5_block3_2_bn[0][0]']      \n",
            " n)                                                                                               \n",
            "                                                                                                  \n",
            " conv5_block3_3_conv (Conv2D)   (None, 7, 7, 2048)   1050624     ['conv5_block3_2_relu[0][0]']    \n",
            "                                                                                                  \n",
            " conv5_block3_3_bn (BatchNormal  (None, 7, 7, 2048)  8192        ['conv5_block3_3_conv[0][0]']    \n",
            " ization)                                                                                         \n",
            "                                                                                                  \n",
            " conv5_block3_add (Add)         (None, 7, 7, 2048)   0           ['conv5_block2_out[0][0]',       \n",
            "                                                                  'conv5_block3_3_bn[0][0]']      \n",
            "                                                                                                  \n",
            " conv5_block3_out (Activation)  (None, 7, 7, 2048)   0           ['conv5_block3_add[0][0]']       \n",
            "                                                                                                  \n",
            " global_average_pooling2d (Glob  (None, 2048)        0           ['conv5_block3_out[0][0]']       \n",
            " alAveragePooling2D)                                                                              \n",
            "                                                                                                  \n",
            " dense (Dense)                  (None, 256)          524544      ['global_average_pooling2d[0][0]'\n",
            "                                                                 ]                                \n",
            "                                                                                                  \n",
            " dropout (Dropout)              (None, 256)          0           ['dense[0][0]']                  \n",
            "                                                                                                  \n",
            " dense_1 (Dense)                (None, 7)            1799        ['dropout[0][0]']                \n",
            "                                                                                                  \n",
            "==================================================================================================\n",
            "Total params: 24,114,055\n",
            "Trainable params: 24,060,935\n",
            "Non-trainable params: 53,120\n",
            "__________________________________________________________________________________________________\n"
          ]
        }
      ],
      "source": [
        "model.summary()"
      ]
    },
    {
      "cell_type": "code",
      "execution_count": 21,
      "metadata": {
        "id": "9Q9gv8AukxzW"
      },
      "outputs": [],
      "source": [
        "optimizer = Adam(0.0001)\n",
        "model.compile(loss='categorical_crossentropy', optimizer=optimizer, metrics=['accuracy'])\n",
        "\n",
        "csv_logger = CSVLogger(TRAINING_FILE, append=False)\n",
        "model_chkpt = ModelCheckpoint(MODEL_PATH, save_best_only=True, save_weights_only=True, monitor='val_accuracy',\n",
        "                              verbose=1)\n",
        "lr_reduce = ReduceLROnPlateau(monitor='val_accuracy', factor=0.5, patience=2, mode='max', min_lr=0.00001, verbose=1)\n",
        "early_stop = EarlyStopping(monitor='val_loss', patience=2, verbose=1)\n",
        "\n",
        "callback_list = [csv_logger, model_chkpt, lr_reduce, early_stop]"
      ]
    },
    {
      "cell_type": "markdown",
      "metadata": {
        "collapsed": false,
        "id": "1ev_7HACkxzW"
      },
      "source": [
        "## Model Training"
      ]
    },
    {
      "cell_type": "code",
      "execution_count": 22,
      "metadata": {
        "id": "pmrIAwpFTfqL",
        "colab": {
          "base_uri": "https://localhost:8080/"
        },
        "outputId": "0ff3f2c0-16f9-4518-8557-918594530584"
      },
      "outputs": [
        {
          "output_type": "stream",
          "name": "stdout",
          "text": [
            "Epoch 1/30\n",
            "28/28 [==============================] - ETA: 0s - loss: 6.2933 - accuracy: 0.4064\n",
            "Epoch 1: val_accuracy improved from -inf to 0.71753, saving model to /content/drive/MyDrive/final_project/data/models/model_ResNet50_rgb_aug_lower_extremity.hdf5\n",
            "28/28 [==============================] - 61s 2s/step - loss: 6.2933 - accuracy: 0.4064 - val_loss: 5.5991 - val_accuracy: 0.7175 - lr: 1.0000e-04\n",
            "Epoch 2/30\n",
            "28/28 [==============================] - ETA: 0s - loss: 5.4609 - accuracy: 0.6173\n",
            "Epoch 2: val_accuracy improved from 0.71753 to 0.76623, saving model to /content/drive/MyDrive/final_project/data/models/model_ResNet50_rgb_aug_lower_extremity.hdf5\n",
            "28/28 [==============================] - 44s 2s/step - loss: 5.4609 - accuracy: 0.6173 - val_loss: 5.5276 - val_accuracy: 0.7662 - lr: 1.0000e-04\n",
            "28/28 [==============================] - ETA: 0s - loss: 5.0550 - accuracy: 0.7077\n",
            "Epoch 3: val_accuracy improved from 0.76623 to 0.78571, saving model to /content/drive/MyDrive/final_project/data/models/model_ResNet50_rgb_aug_lower_extremity.hdf5\n",
            "28/28 [==============================] - 44s 2s/step - loss: 5.0550 - accuracy: 0.7077 - val_loss: 5.2872 - val_accuracy: 0.7857 - lr: 1.0000e-04\n",
            "Epoch 4/30\n",
            "28/28 [==============================] - ETA: 0s - loss: 4.8796 - accuracy: 0.7490\n",
            "Epoch 4: val_accuracy improved from 0.78571 to 0.81169, saving model to /content/drive/MyDrive/final_project/data/models/model_ResNet50_rgb_aug_lower_extremity.hdf5\n",
            "28/28 [==============================] - 44s 2s/step - loss: 4.8796 - accuracy: 0.7490 - val_loss: 5.0693 - val_accuracy: 0.8117 - lr: 1.0000e-04\n",
            "Epoch 5/30\n",
            "28/28 [==============================] - ETA: 0s - loss: 4.6718 - accuracy: 0.7886\n",
            "Epoch 5: val_accuracy did not improve from 0.81169\n",
            "28/28 [==============================] - 42s 2s/step - loss: 4.6718 - accuracy: 0.7886 - val_loss: 4.7958 - val_accuracy: 0.7890 - lr: 1.0000e-04\n",
            "Epoch 6/30\n",
            "28/28 [==============================] - ETA: 0s - loss: 4.4712 - accuracy: 0.8016\n",
            "Epoch 6: val_accuracy improved from 0.81169 to 0.83442, saving model to /content/drive/MyDrive/final_project/data/models/model_ResNet50_rgb_aug_lower_extremity.hdf5\n",
            "28/28 [==============================] - 45s 2s/step - loss: 4.4712 - accuracy: 0.8016 - val_loss: 4.6436 - val_accuracy: 0.8344 - lr: 1.0000e-04\n",
            "Epoch 7/30\n",
            "28/28 [==============================] - ETA: 0s - loss: 4.3009 - accuracy: 0.8462\n",
            "Epoch 7: val_accuracy improved from 0.83442 to 0.84740, saving model to /content/drive/MyDrive/final_project/data/models/model_ResNet50_rgb_aug_lower_extremity.hdf5\n",
            "28/28 [==============================] - 44s 2s/step - loss: 4.3009 - accuracy: 0.8462 - val_loss: 4.5716 - val_accuracy: 0.8474 - lr: 1.0000e-04\n",
            "Epoch 8/30\n",
            "28/28 [==============================] - ETA: 0s - loss: 4.1657 - accuracy: 0.8683\n",
            "Epoch 8: val_accuracy improved from 0.84740 to 0.87338, saving model to /content/drive/MyDrive/final_project/data/models/model_ResNet50_rgb_aug_lower_extremity.hdf5\n",
            "28/28 [==============================] - 44s 2s/step - loss: 4.1657 - accuracy: 0.8683 - val_loss: 4.4609 - val_accuracy: 0.8734 - lr: 1.0000e-04\n",
            "Epoch 9/30\n",
            "28/28 [==============================] - ETA: 0s - loss: 4.1361 - accuracy: 0.8536\n",
            "Epoch 9: val_accuracy did not improve from 0.87338\n",
            "28/28 [==============================] - 41s 1s/step - loss: 4.1361 - accuracy: 0.8536 - val_loss: 4.4474 - val_accuracy: 0.8052 - lr: 1.0000e-04\n",
            "Epoch 10/30\n",
            "28/28 [==============================] - ETA: 0s - loss: 3.9602 - accuracy: 0.8745\n",
            "Epoch 10: val_accuracy did not improve from 0.87338\n",
            "\n",
            "Epoch 10: ReduceLROnPlateau reducing learning rate to 4.999999873689376e-05.\n",
            "28/28 [==============================] - 42s 1s/step - loss: 3.9602 - accuracy: 0.8745 - val_loss: 4.2781 - val_accuracy: 0.8604 - lr: 1.0000e-04\n",
            "Epoch 11/30\n",
            "28/28 [==============================] - ETA: 0s - loss: 3.8215 - accuracy: 0.9090\n",
            "Epoch 11: val_accuracy did not improve from 0.87338\n",
            "28/28 [==============================] - 42s 1s/step - loss: 3.8215 - accuracy: 0.9090 - val_loss: 4.1887 - val_accuracy: 0.8636 - lr: 5.0000e-05\n",
            "Epoch 12/30\n",
            "28/28 [==============================] - ETA: 0s - loss: 3.7411 - accuracy: 0.9112\n",
            "Epoch 12: val_accuracy improved from 0.87338 to 0.87662, saving model to /content/drive/MyDrive/final_project/data/models/model_ResNet50_rgb_aug_lower_extremity.hdf5\n",
            "28/28 [==============================] - 44s 2s/step - loss: 3.7411 - accuracy: 0.9112 - val_loss: 4.1021 - val_accuracy: 0.8766 - lr: 5.0000e-05\n",
            "Epoch 13/30\n",
            "28/28 [==============================] - ETA: 0s - loss: 3.6819 - accuracy: 0.9146\n",
            "Epoch 13: val_accuracy did not improve from 0.87662\n",
            "28/28 [==============================] - 42s 1s/step - loss: 3.6819 - accuracy: 0.9146 - val_loss: 4.0375 - val_accuracy: 0.8701 - lr: 5.0000e-05\n",
            "Epoch 14/30\n",
            "28/28 [==============================] - ETA: 0s - loss: 3.6092 - accuracy: 0.9276\n",
            "Epoch 14: val_accuracy did not improve from 0.87662\n",
            "\n",
            "Epoch 14: ReduceLROnPlateau reducing learning rate to 2.499999936844688e-05.\n",
            "28/28 [==============================] - 41s 1s/step - loss: 3.6092 - accuracy: 0.9276 - val_loss: 4.0546 - val_accuracy: 0.8539 - lr: 5.0000e-05\n",
            "Epoch 15/30\n",
            "28/28 [==============================] - ETA: 0s - loss: 3.5568 - accuracy: 0.9265\n",
            "Epoch 15: val_accuracy did not improve from 0.87662\n",
            "28/28 [==============================] - 41s 1s/step - loss: 3.5568 - accuracy: 0.9265 - val_loss: 3.9637 - val_accuracy: 0.8734 - lr: 2.5000e-05\n",
            "Epoch 16/30\n",
            "28/28 [==============================] - ETA: 0s - loss: 3.5117 - accuracy: 0.9440\n",
            "Epoch 16: val_accuracy did not improve from 0.87662\n",
            "\n",
            "Epoch 16: ReduceLROnPlateau reducing learning rate to 1.249999968422344e-05.\n",
            "28/28 [==============================] - 41s 1s/step - loss: 3.5117 - accuracy: 0.9440 - val_loss: 3.9649 - val_accuracy: 0.8506 - lr: 2.5000e-05\n",
            "Epoch 17/30\n",
            "28/28 [==============================] - ETA: 0s - loss: 3.4851 - accuracy: 0.9469\n",
            "Epoch 17: val_accuracy did not improve from 0.87662\n",
            "28/28 [==============================] - 41s 1s/step - loss: 3.4851 - accuracy: 0.9469 - val_loss: 3.9704 - val_accuracy: 0.8701 - lr: 1.2500e-05\n",
            "Epoch 17: early stopping\n"
          ]
        }
      ],
      "source": [
        "if config['train_model']:\n",
        "    history = model.fit(train_image_gen,\n",
        "                        epochs=30,\n",
        "                        validation_data=test_image_gen,\n",
        "                        class_weight=class_wt_dict,\n",
        "                        callbacks=callback_list\n",
        "                        )\n",
        "\n",
        "    log_data = pd.DataFrame(model.history.history)\n",
        "    log_data.to_csv(TRAINING_FILE)\n",
        "else:\n",
        "    model.load_weights(MODEL_PATH)  # load weights\n",
        "    log_data = pd.read_csv(TRAINING_FILE)  # load history"
      ]
    },
    {
      "cell_type": "code",
      "execution_count": 23,
      "metadata": {
        "id": "TOvvW1ArRyJH",
        "colab": {
          "base_uri": "https://localhost:8080/",
          "height": 582
        },
        "outputId": "dcc5fd2e-a64a-4367-c8c2-3a59acbef0e6"
      },
      "outputs": [
        {
          "output_type": "execute_result",
          "data": {
            "text/plain": [
              "        loss  accuracy  val_loss  val_accuracy        lr\n",
              "0   6.293337  0.406444  5.599097      0.717532  0.000100\n",
              "1   5.460884  0.617298  5.527622      0.766234  0.000100\n",
              "2   5.054984  0.707744  5.287155      0.785714  0.000100\n",
              "3   4.879609  0.749011  5.069334      0.811688  0.000100\n",
              "4   4.671755  0.788581  4.795841      0.788961  0.000100\n",
              "5   4.471236  0.801583  4.643613      0.834416  0.000100\n",
              "6   4.300869  0.846241  4.571618      0.847403  0.000100\n",
              "7   4.165699  0.868287  4.460864      0.873377  0.000100\n",
              "8   4.136137  0.853590  4.447403      0.805195  0.000100\n",
              "9   3.960232  0.874505  4.278081      0.860390  0.000100\n",
              "10  3.821542  0.908988  4.188707      0.863636  0.000050\n",
              "11  3.741051  0.911249  4.102129      0.876623  0.000050\n",
              "12  3.681910  0.914641  4.037492      0.870130  0.000050\n",
              "13  3.609175  0.927643  4.054595      0.853896  0.000050\n",
              "14  3.556791  0.926512  3.963723      0.873377  0.000025\n",
              "15  3.511747  0.944036  3.964936      0.850649  0.000025\n",
              "16  3.485112  0.946863  3.970357      0.870130  0.000012"
            ],
            "text/html": [
              "\n",
              "  <div id=\"df-c692e25d-4b62-4142-bcf7-c45ab307acfd\">\n",
              "    <div class=\"colab-df-container\">\n",
              "      <div>\n",
              "<style scoped>\n",
              "    .dataframe tbody tr th:only-of-type {\n",
              "        vertical-align: middle;\n",
              "    }\n",
              "\n",
              "    .dataframe tbody tr th {\n",
              "        vertical-align: top;\n",
              "    }\n",
              "\n",
              "    .dataframe thead th {\n",
              "        text-align: right;\n",
              "    }\n",
              "</style>\n",
              "<table border=\"1\" class=\"dataframe\">\n",
              "  <thead>\n",
              "    <tr style=\"text-align: right;\">\n",
              "      <th></th>\n",
              "      <th>loss</th>\n",
              "      <th>accuracy</th>\n",
              "      <th>val_loss</th>\n",
              "      <th>val_accuracy</th>\n",
              "      <th>lr</th>\n",
              "    </tr>\n",
              "  </thead>\n",
              "  <tbody>\n",
              "    <tr>\n",
              "      <th>0</th>\n",
              "      <td>6.293337</td>\n",
              "      <td>0.406444</td>\n",
              "      <td>5.599097</td>\n",
              "      <td>0.717532</td>\n",
              "      <td>0.000100</td>\n",
              "    </tr>\n",
              "    <tr>\n",
              "      <th>1</th>\n",
              "      <td>5.460884</td>\n",
              "      <td>0.617298</td>\n",
              "      <td>5.527622</td>\n",
              "      <td>0.766234</td>\n",
              "      <td>0.000100</td>\n",
              "    </tr>\n",
              "    <tr>\n",
              "      <th>2</th>\n",
              "      <td>5.054984</td>\n",
              "      <td>0.707744</td>\n",
              "      <td>5.287155</td>\n",
              "      <td>0.785714</td>\n",
              "      <td>0.000100</td>\n",
              "    </tr>\n",
              "    <tr>\n",
              "      <th>3</th>\n",
              "      <td>4.879609</td>\n",
              "      <td>0.749011</td>\n",
              "      <td>5.069334</td>\n",
              "      <td>0.811688</td>\n",
              "      <td>0.000100</td>\n",
              "    </tr>\n",
              "    <tr>\n",
              "      <th>4</th>\n",
              "      <td>4.671755</td>\n",
              "      <td>0.788581</td>\n",
              "      <td>4.795841</td>\n",
              "      <td>0.788961</td>\n",
              "      <td>0.000100</td>\n",
              "    </tr>\n",
              "    <tr>\n",
              "      <th>5</th>\n",
              "      <td>4.471236</td>\n",
              "      <td>0.801583</td>\n",
              "      <td>4.643613</td>\n",
              "      <td>0.834416</td>\n",
              "      <td>0.000100</td>\n",
              "    </tr>\n",
              "    <tr>\n",
              "      <th>6</th>\n",
              "      <td>4.300869</td>\n",
              "      <td>0.846241</td>\n",
              "      <td>4.571618</td>\n",
              "      <td>0.847403</td>\n",
              "      <td>0.000100</td>\n",
              "    </tr>\n",
              "    <tr>\n",
              "      <th>7</th>\n",
              "      <td>4.165699</td>\n",
              "      <td>0.868287</td>\n",
              "      <td>4.460864</td>\n",
              "      <td>0.873377</td>\n",
              "      <td>0.000100</td>\n",
              "    </tr>\n",
              "    <tr>\n",
              "      <th>8</th>\n",
              "      <td>4.136137</td>\n",
              "      <td>0.853590</td>\n",
              "      <td>4.447403</td>\n",
              "      <td>0.805195</td>\n",
              "      <td>0.000100</td>\n",
              "    </tr>\n",
              "    <tr>\n",
              "      <th>9</th>\n",
              "      <td>3.960232</td>\n",
              "      <td>0.874505</td>\n",
              "      <td>4.278081</td>\n",
              "      <td>0.860390</td>\n",
              "      <td>0.000100</td>\n",
              "    </tr>\n",
              "    <tr>\n",
              "      <th>10</th>\n",
              "      <td>3.821542</td>\n",
              "      <td>0.908988</td>\n",
              "      <td>4.188707</td>\n",
              "      <td>0.863636</td>\n",
              "      <td>0.000050</td>\n",
              "    </tr>\n",
              "    <tr>\n",
              "      <th>11</th>\n",
              "      <td>3.741051</td>\n",
              "      <td>0.911249</td>\n",
              "      <td>4.102129</td>\n",
              "      <td>0.876623</td>\n",
              "      <td>0.000050</td>\n",
              "    </tr>\n",
              "    <tr>\n",
              "      <th>12</th>\n",
              "      <td>3.681910</td>\n",
              "      <td>0.914641</td>\n",
              "      <td>4.037492</td>\n",
              "      <td>0.870130</td>\n",
              "      <td>0.000050</td>\n",
              "    </tr>\n",
              "    <tr>\n",
              "      <th>13</th>\n",
              "      <td>3.609175</td>\n",
              "      <td>0.927643</td>\n",
              "      <td>4.054595</td>\n",
              "      <td>0.853896</td>\n",
              "      <td>0.000050</td>\n",
              "    </tr>\n",
              "    <tr>\n",
              "      <th>14</th>\n",
              "      <td>3.556791</td>\n",
              "      <td>0.926512</td>\n",
              "      <td>3.963723</td>\n",
              "      <td>0.873377</td>\n",
              "      <td>0.000025</td>\n",
              "    </tr>\n",
              "    <tr>\n",
              "      <th>15</th>\n",
              "      <td>3.511747</td>\n",
              "      <td>0.944036</td>\n",
              "      <td>3.964936</td>\n",
              "      <td>0.850649</td>\n",
              "      <td>0.000025</td>\n",
              "    </tr>\n",
              "    <tr>\n",
              "      <th>16</th>\n",
              "      <td>3.485112</td>\n",
              "      <td>0.946863</td>\n",
              "      <td>3.970357</td>\n",
              "      <td>0.870130</td>\n",
              "      <td>0.000012</td>\n",
              "    </tr>\n",
              "  </tbody>\n",
              "</table>\n",
              "</div>\n",
              "      <button class=\"colab-df-convert\" onclick=\"convertToInteractive('df-c692e25d-4b62-4142-bcf7-c45ab307acfd')\"\n",
              "              title=\"Convert this dataframe to an interactive table.\"\n",
              "              style=\"display:none;\">\n",
              "        \n",
              "  <svg xmlns=\"http://www.w3.org/2000/svg\" height=\"24px\"viewBox=\"0 0 24 24\"\n",
              "       width=\"24px\">\n",
              "    <path d=\"M0 0h24v24H0V0z\" fill=\"none\"/>\n",
              "    <path d=\"M18.56 5.44l.94 2.06.94-2.06 2.06-.94-2.06-.94-.94-2.06-.94 2.06-2.06.94zm-11 1L8.5 8.5l.94-2.06 2.06-.94-2.06-.94L8.5 2.5l-.94 2.06-2.06.94zm10 10l.94 2.06.94-2.06 2.06-.94-2.06-.94-.94-2.06-.94 2.06-2.06.94z\"/><path d=\"M17.41 7.96l-1.37-1.37c-.4-.4-.92-.59-1.43-.59-.52 0-1.04.2-1.43.59L10.3 9.45l-7.72 7.72c-.78.78-.78 2.05 0 2.83L4 21.41c.39.39.9.59 1.41.59.51 0 1.02-.2 1.41-.59l7.78-7.78 2.81-2.81c.8-.78.8-2.07 0-2.86zM5.41 20L4 18.59l7.72-7.72 1.47 1.35L5.41 20z\"/>\n",
              "  </svg>\n",
              "      </button>\n",
              "      \n",
              "  <style>\n",
              "    .colab-df-container {\n",
              "      display:flex;\n",
              "      flex-wrap:wrap;\n",
              "      gap: 12px;\n",
              "    }\n",
              "\n",
              "    .colab-df-convert {\n",
              "      background-color: #E8F0FE;\n",
              "      border: none;\n",
              "      border-radius: 50%;\n",
              "      cursor: pointer;\n",
              "      display: none;\n",
              "      fill: #1967D2;\n",
              "      height: 32px;\n",
              "      padding: 0 0 0 0;\n",
              "      width: 32px;\n",
              "    }\n",
              "\n",
              "    .colab-df-convert:hover {\n",
              "      background-color: #E2EBFA;\n",
              "      box-shadow: 0px 1px 2px rgba(60, 64, 67, 0.3), 0px 1px 3px 1px rgba(60, 64, 67, 0.15);\n",
              "      fill: #174EA6;\n",
              "    }\n",
              "\n",
              "    [theme=dark] .colab-df-convert {\n",
              "      background-color: #3B4455;\n",
              "      fill: #D2E3FC;\n",
              "    }\n",
              "\n",
              "    [theme=dark] .colab-df-convert:hover {\n",
              "      background-color: #434B5C;\n",
              "      box-shadow: 0px 1px 3px 1px rgba(0, 0, 0, 0.15);\n",
              "      filter: drop-shadow(0px 1px 2px rgba(0, 0, 0, 0.3));\n",
              "      fill: #FFFFFF;\n",
              "    }\n",
              "  </style>\n",
              "\n",
              "      <script>\n",
              "        const buttonEl =\n",
              "          document.querySelector('#df-c692e25d-4b62-4142-bcf7-c45ab307acfd button.colab-df-convert');\n",
              "        buttonEl.style.display =\n",
              "          google.colab.kernel.accessAllowed ? 'block' : 'none';\n",
              "\n",
              "        async function convertToInteractive(key) {\n",
              "          const element = document.querySelector('#df-c692e25d-4b62-4142-bcf7-c45ab307acfd');\n",
              "          const dataTable =\n",
              "            await google.colab.kernel.invokeFunction('convertToInteractive',\n",
              "                                                     [key], {});\n",
              "          if (!dataTable) return;\n",
              "\n",
              "          const docLinkHtml = 'Like what you see? Visit the ' +\n",
              "            '<a target=\"_blank\" href=https://colab.research.google.com/notebooks/data_table.ipynb>data table notebook</a>'\n",
              "            + ' to learn more about interactive tables.';\n",
              "          element.innerHTML = '';\n",
              "          dataTable['output_type'] = 'display_data';\n",
              "          await google.colab.output.renderOutput(dataTable, element);\n",
              "          const docLink = document.createElement('div');\n",
              "          docLink.innerHTML = docLinkHtml;\n",
              "          element.appendChild(docLink);\n",
              "        }\n",
              "      </script>\n",
              "    </div>\n",
              "  </div>\n",
              "  "
            ]
          },
          "metadata": {},
          "execution_count": 23
        }
      ],
      "source": [
        "log_data"
      ]
    },
    {
      "cell_type": "markdown",
      "metadata": {
        "collapsed": false,
        "id": "xn20bHo3kxzX"
      },
      "source": [
        "### Model Evaluation"
      ]
    },
    {
      "cell_type": "code",
      "execution_count": 24,
      "metadata": {
        "id": "r6L1hzVdkxzX",
        "colab": {
          "base_uri": "https://localhost:8080/",
          "height": 447
        },
        "outputId": "14650825-d855-47d3-c3c7-93b37e7edd16"
      },
      "outputs": [
        {
          "output_type": "execute_result",
          "data": {
            "text/plain": [
              "<Axes: >"
            ]
          },
          "metadata": {},
          "execution_count": 24
        },
        {
          "output_type": "display_data",
          "data": {
            "text/plain": [
              "<Figure size 640x480 with 1 Axes>"
            ],
            "image/png": "[encoded data removed]"
          },
          "metadata": {}
        }
      ],
      "source": [
        "metrics = pd.DataFrame(log_data)\n",
        "metrics[['loss', 'val_loss']].plot()"
      ]
    },
    {
      "cell_type": "code",
      "execution_count": 25,
      "metadata": {
        "id": "GMO4KhFYkxzX",
        "colab": {
          "base_uri": "https://localhost:8080/",
          "height": 447
        },
        "outputId": "e21317a3-eac7-4f8d-dd98-db74bb0eb8ec"
      },
      "outputs": [
        {
          "output_type": "execute_result",
          "data": {
            "text/plain": [
              "<Axes: >"
            ]
          },
          "metadata": {},
          "execution_count": 25
        },
        {
          "output_type": "display_data",
          "data": {
            "text/plain": [
              "<Figure size 640x480 with 1 Axes>"
            ],
            "image/png": "[encoded data removed]"
          },
          "metadata": {}
        }
      ],
      "source": [
        "metrics[['accuracy', 'val_accuracy']].plot()"
      ]
    },
    {
      "cell_type": "code",
      "execution_count": 26,
      "metadata": {
        "id": "Q4n4WP1AkxzX",
        "colab": {
          "base_uri": "https://localhost:8080/"
        },
        "outputId": "185ea885-ca74-43a1-f6cf-f6bba22364d9"
      },
      "outputs": [
        {
          "output_type": "stream",
          "name": "stdout",
          "text": [
            "5/5 [==============================] - 6s 1s/step - loss: 3.9314 - accuracy: 0.8636\n"
          ]
        },
        {
          "output_type": "execute_result",
          "data": {
            "text/plain": [
              "[3.931408405303955, 0.8636363744735718]"
            ]
          },
          "metadata": {},
          "execution_count": 26
        }
      ],
      "source": [
        "model.evaluate(test_image_gen)"
      ]
    },
    {
      "cell_type": "code",
      "execution_count": 27,
      "metadata": {
        "id": "1dXc5O0cRyJI",
        "colab": {
          "base_uri": "https://localhost:8080/"
        },
        "outputId": "8ef760ec-1eb3-4a51-f5da-865b4a45ee7b"
      },
      "outputs": [
        {
          "output_type": "stream",
          "name": "stdout",
          "text": [
            "5/5 [==============================] - 7s 1s/step\n"
          ]
        }
      ],
      "source": [
        "predictions = model.predict(test_image_gen, verbose=1)\n",
        "# save predictions\n",
        "np.save(PREDICTIONS_FILE, predictions)"
      ]
    },
    {
      "cell_type": "code",
      "execution_count": 28,
      "metadata": {
        "id": "rdzK1AYWRyJI"
      },
      "outputs": [],
      "source": [
        "predictions = predictions.argmax(axis=1)\n",
        "test_labels = test_image_gen.classes"
      ]
    },
    {
      "cell_type": "markdown",
      "metadata": {
        "collapsed": false,
        "id": "PRrjZwb3RyJI"
      },
      "source": [
        "## The confusion matrix\n",
        "The confusion matrix can be used to evaluate the performance of a multi-class CNN classifier. By looking at the diagonal of the confusion matrix, you can see the percentage of instances that were correctly classified. You can also look at the off-diagonal elements of the confusion matrix to see which classes are being misclassified most often. This information can be used to improve the performance of the classifier by adjusting the hyperparameters or by using a different training algorithm."
      ]
    },
    {
      "cell_type": "code",
      "execution_count": 29,
      "metadata": {
        "id": "rZMZkj-BkxzY"
      },
      "outputs": [],
      "source": [
        "conf_matrix = confusion_matrix(test_labels, predictions)"
      ]
    },
    {
      "cell_type": "code",
      "execution_count": 30,
      "metadata": {
        "id": "TzudlPfckxzY",
        "colab": {
          "base_uri": "https://localhost:8080/",
          "height": 719
        },
        "outputId": "9bc43a88-0ff0-4233-c51a-61bd236d651a"
      },
      "outputs": [
        {
          "output_type": "stream",
          "name": "stdout",
          "text": [
            "Normalized confusion matrix\n"
          ]
        },
        {
          "output_type": "display_data",
          "data": {
            "text/plain": [
              "<Figure size 700x700 with 2 Axes>"
            ],
            "image/png": "[encoded data removed]"
          },
          "metadata": {}
        }
      ],
      "source": [
        "def plot_confusion_matrix(confusion_matrix, classes: list,\n",
        "                          normalize=True,\n",
        "                          title='Confusion matrix',\n",
        "                          cmap=cm.Blues) -> None:\n",
        "    if normalize:\n",
        "        confusion_matrix = confusion_matrix.astype('float') / confusion_matrix.sum(axis=1)[:, np.newaxis]\n",
        "        print('Normalized confusion matrix')\n",
        "    else:\n",
        "        print('Confusion matrix, without normalization')\n",
        "\n",
        "    plt.figure(figsize=(7, 7))\n",
        "    plt.imshow(confusion_matrix, interpolation='nearest', cmap=cmap)\n",
        "    plt.title(title)\n",
        "    plt.colorbar()\n",
        "    tick_marks = np.arange(len(classes))\n",
        "    plt.xticks(tick_marks, classes, rotation=45)\n",
        "    plt.yticks(tick_marks, classes)\n",
        "\n",
        "    fmt = '.2f' if normalize else 'd'\n",
        "    thresh = confusion_matrix.max() / 2.\n",
        "\n",
        "    for i, j in itertools.product(range(confusion_matrix.shape[0]), range(confusion_matrix.shape[1])):\n",
        "        plt.text(j, i, format(confusion_matrix[i, j], fmt),\n",
        "                 horizontalalignment='center',\n",
        "                 color='white' if confusion_matrix[i, j] > thresh else 'black')\n",
        "\n",
        "    plt.ylabel('True label')\n",
        "    plt.xlabel('Predicted label')\n",
        "    plt.tight_layout()\n",
        "\n",
        "\n",
        "confusion_matrix_plot_labels = list(test_image_gen.class_indices.keys())\n",
        "plot_confusion_matrix(conf_matrix, confusion_matrix_plot_labels, title='Confusion Matrix', normalize=True)"
      ]
    },
    {
      "cell_type": "code",
      "execution_count": 31,
      "metadata": {
        "id": "QIVXoqh4WNfA",
        "colab": {
          "base_uri": "https://localhost:8080/"
        },
        "outputId": "e25fb220-6d30-4945-fd95-b1f12f800615"
      },
      "outputs": [
        {
          "output_type": "stream",
          "name": "stdout",
          "text": [
            "Classification Report:\n",
            "              precision    recall  f1-score   support\n",
            "\n",
            "           0       0.55      0.67      0.60         9\n",
            "           1       0.86      0.75      0.80         8\n",
            "           2       0.70      0.81      0.75        26\n",
            "           3       0.92      0.92      0.92        12\n",
            "           4       0.61      0.68      0.64        28\n",
            "           5       0.96      0.93      0.94       221\n",
            "           6       1.00      0.75      0.86         4\n",
            "\n",
            "    accuracy                           0.88       308\n",
            "   macro avg       0.80      0.79      0.79       308\n",
            "weighted avg       0.89      0.88      0.88       308\n",
            "\n"
          ]
        }
      ],
      "source": [
        "# Creating classification report\n",
        "report = classification_report(test_image_gen.classes, predictions, zero_division=0)\n",
        "\n",
        "print('Classification Report:')\n",
        "print(report)"
      ]
    },
    {
      "cell_type": "markdown",
      "metadata": {
        "collapsed": false,
        "id": "nWLmxVFqnSFH"
      },
      "source": [
        "---\n",
        "# GradCam\n",
        "\n",
        "Grad-CAM, or Gradient-weighted Class Activation Mapping, is a technique for visualizing the parts of an image that are most relevant to a model's prediction. It works by taking the gradients of the model's output with respect to the input image, and then weighting these gradients by the activations of the last convolutional layer. The resulting heatmap can then be overlaid on the original image to show which parts of the image are most important for the model's prediction.\n",
        "\n",
        "Grad-CAM is a useful tool for understanding how deep learning models work. It can be used to identify the features that a model is using to make its predictions, and to see how these features change when the model is presented with different images. Grad-CAM can also be used to debug models, and to identify areas where the model is making mistakes."
      ]
    },
    {
      "cell_type": "code",
      "execution_count": 32,
      "metadata": {
        "id": "FaFyILk_nSFN"
      },
      "outputs": [],
      "source": [
        "def get_img_array(img_path, size):\n",
        "    img = load_img(img_path, target_size=size)\n",
        "    array = img_to_array(img)\n",
        "    array = np.expand_dims(array, axis=0)\n",
        "    return array\n",
        "\n",
        "\n",
        "def make_gradcam_heatmap(img_array, model, last_conv_layer_name: str, pred_index=None) -> np.ndarray:\n",
        "    grad_model = tf.keras.models.Model([model.inputs], [model.get_layer(last_conv_layer_name).output, model.output])\n",
        "\n",
        "    with tf.GradientTape() as tape:\n",
        "        last_conv_layer_output, preds = grad_model(img_array)\n",
        "\n",
        "        if pred_index is None:\n",
        "            pred_index = tf.argmax(preds[0])\n",
        "\n",
        "        class_channel = preds[:, pred_index]\n",
        "\n",
        "    grads = tape.gradient(class_channel, last_conv_layer_output)\n",
        "    pooled_grads = tf.reduce_mean(grads, axis=(0, 1, 2))\n",
        "    last_conv_layer_output = last_conv_layer_output[0]\n",
        "    heatmap = last_conv_layer_output @ pooled_grads[..., tf.newaxis]\n",
        "    heatmap = tf.squeeze(heatmap)\n",
        "    heatmap = tf.maximum(heatmap, 0) / tf.math.reduce_max(heatmap)\n",
        "\n",
        "    return heatmap.numpy()\n",
        "\n",
        "\n",
        "def save_and_display_gradcam(img_path: str, heatmap, alpha=1.2) -> None:\n",
        "    img = cv2.imread(img_path)\n",
        "    img = cv2.cvtColor(img, cv2.COLOR_BGR2RGB)\n",
        "    img = cv2.resize(img, (250, 250))\n",
        "    img = img_to_array(img)\n",
        "\n",
        "    heatmap = np.uint8(255 * heatmap)\n",
        "\n",
        "    jet = cm.get_cmap('viridis')\n",
        "    jet_colors = jet(np.arange(256))[:, :3]\n",
        "    jet_heatmap = jet_colors[heatmap]\n",
        "\n",
        "    jet_heatmap = array_to_img(jet_heatmap)\n",
        "    jet_heatmap = jet_heatmap.resize((img.shape[1], img.shape[0]))\n",
        "    jet_heatmap = img_to_array(jet_heatmap)\n",
        "\n",
        "    superimposed_img = jet_heatmap * alpha + img - 50\n",
        "    superimposed_img = array_to_img(superimposed_img)\n",
        "\n",
        "    return superimposed_img\n",
        "\n",
        "\n",
        "def predict(image: str, _last_conv_layer_name: str) -> None:\n",
        "    img_path = str(Path(IMAGES_DIRECTORY / f'{image}.jpg'))\n",
        "    print('image:', image)\n",
        "    img_array = base_preprocess(get_img_array(img_path, size=TARGET_SIZE))\n",
        "\n",
        "    preds = model.predict(img_array)\n",
        "    pred_index = np.argmax(preds)\n",
        "    prediction = class_names[pred_index]\n",
        "    print(f'prediction: {prediction}')\n",
        "    print(f'probability: {round(preds[0][pred_index] * 100, 2)}%')\n",
        "\n",
        "    # print class names and probabilities in descending order\n",
        "    probs_dict = {class_names[i]: preds[0][i] for i in range(len(class_names))}\n",
        "    probs_dict = {k: f'{round(v * 100, 2)}%' for k, v in\n",
        "                  sorted(probs_dict.items(), key=lambda item: item[1], reverse=True)}\n",
        "    print(probs_dict)\n",
        "\n",
        "    heatmap = make_gradcam_heatmap(img_array, model, _last_conv_layer_name)\n",
        "\n",
        "    image_titles = ['Lesion', 'Heatmap', 'Overlay']\n",
        "    f, ax = plt.subplots(nrows=1, ncols=3, figsize=(13, 4))\n",
        "\n",
        "    lesion = cv2.imread(img_path)\n",
        "    lesion = cv2.resize(lesion, (300, 300))\n",
        "    lesion = cv2.cvtColor(lesion, cv2.COLOR_BGR2RGB)\n",
        "    heatmap = cv2.resize(heatmap, (10, 10))\n",
        "    superimp = save_and_display_gradcam(img_path, heatmap)\n",
        "    overlay_arr = [lesion, heatmap, superimp]\n",
        "\n",
        "    for i, title in enumerate(image_titles):\n",
        "        if i == 1:\n",
        "            ax[i].set_title(title, fontsize=12)\n",
        "            sns.heatmap(overlay_arr[i], ax=ax[i], cmap='viridis')\n",
        "            continue\n",
        "\n",
        "        ax[i].set_title(title, fontsize=12)\n",
        "        ax[i].imshow(overlay_arr[i])\n",
        "        ax[i].axis('off')\n",
        "\n",
        "    plt.tight_layout()\n",
        "    plt.show()"
      ]
    },
    {
      "cell_type": "code",
      "execution_count": null,
      "metadata": {
        "id": "P72XjH9enSFN"
      },
      "outputs": [],
      "source": [
        "predict('df/ISIC_0030321', last_conv_layer_name)"
      ]
    },
    {
      "cell_type": "code",
      "execution_count": null,
      "metadata": {
        "id": "Nyk3sPVZnSFO"
      },
      "outputs": [],
      "source": [
        "predict('mel/ISIC_0027622', last_conv_layer_name)"
      ]
    },
    {
      "cell_type": "code",
      "execution_count": null,
      "metadata": {
        "id": "FubKu4nAnSFO"
      },
      "outputs": [],
      "source": [
        "predict('nv/ISIC_0024350', last_conv_layer_name)"
      ]
    },
    {
      "cell_type": "code",
      "execution_count": null,
      "metadata": {
        "id": "vXocC33kUchv"
      },
      "outputs": [],
      "source": [
        "from google.colab import runtime\n",
        "\n",
        "runtime.unassign()"
      ]
    }
  ],
  "metadata": {
    "accelerator": "GPU",
    "colab": {
      "machine_shape": "hm",
      "provenance": [],
      "gpuType": "T4"
    },
    "gpuClass": "premium",
    "kernelspec": {
      "display_name": "Python 3",
      "language": "python",
      "name": "python3"
    },
    "language_info": {
      "codemirror_mode": {
        "name": "ipython",
        "version": 2
      },
      "file_extension": ".py",
      "mimetype": "text/x-python",
      "name": "python",
      "nbconvert_exporter": "python",
      "pygments_lexer": "ipython2",
      "version": "2.7.6"
    }
  },
  "nbformat": 4,
  "nbformat_minor": 0
}